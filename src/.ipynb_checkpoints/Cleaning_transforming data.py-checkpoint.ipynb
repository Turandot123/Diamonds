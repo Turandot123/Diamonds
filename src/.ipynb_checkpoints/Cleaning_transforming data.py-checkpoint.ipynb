{
 "cells": [
  {
   "cell_type": "code",
   "execution_count": null,
   "metadata": {},
   "outputs": [],
   "source": [
    "# Operations which allow to clean and transform data to prepare them for modelling \n",
    "\n",
    "def download_dataset(path):\n",
    "    df=pd.read_csv(\"../input/data.csv\")\n",
    "diamonds.shape\n",
    "def clean_transformed(df):\n",
    "    ''' applicable for test and data sets: transforms categorical variables cut, color and clarity, \n",
    "        creates new variable volumen based on x,yz, drops x,y,z and \n",
    "        depth and table.\n",
    "    '''\n",
    "    df['cut']=df['cut'].map({'Fair':1,'Good':2,'Ideal':3,'Very Good':4,'Premium':5})\n",
    "    df['color']=df['color'].map({'E':1,'J':2,'D':3,'I':4,'H':5,'F':6,'G':7})\n",
    "    df['clarity']=df['clarity'].map({'I1':1,'SI1':2,'VVS1':3,'SI2':4,'VS2':5,'VS1':6,'VVS2':7,'IF':8})\n",
    "    df['volumen']=df['x']*df['y']*df['z']\n",
    "    df =df.drop(['x','y','z','depth','table'], axis=1)\n",
    "    return df\n",
    "\n",
    "# removing outliers\n",
    "\n",
    "def remove_outliers(df):\n",
    "    '''only applicable to the data set NOT the test set'''\n",
    "    z = np.abs(stats.zscore(df))\n",
    "    df =df[(z<3).all(axis=1)]\n",
    "    return df\n",
    "\n",
    "#scaling process\n",
    "\n",
    "mm_scaler = preprocessing.MinMaxScaler()\n",
    "mm_scaler.fit(diamonds2)\n",
    "\n",
    "def applyscaleMinMax(df):\n",
    "    '''applicable to transform data and test set, prior fit has extracted parameters from data set'''\n",
    "    column_names= list(df)\n",
    "    df = mm_scaler.transform(df)\n",
    "    df = pd.DataFrame(df, columns=column_names)\n",
    "    return df\n",
    "\n"
   ]
  }
 ],
 "metadata": {
  "kernelspec": {
   "display_name": "Python 3",
   "language": "python",
   "name": "python3"
  },
  "language_info": {
   "codemirror_mode": {
    "name": "ipython",
    "version": 3
   },
   "file_extension": ".py",
   "mimetype": "text/x-python",
   "name": "python",
   "nbconvert_exporter": "python",
   "pygments_lexer": "ipython3",
   "version": "3.7.5"
  }
 },
 "nbformat": 4,
 "nbformat_minor": 2
}
