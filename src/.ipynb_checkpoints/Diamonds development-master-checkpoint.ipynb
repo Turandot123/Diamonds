{
 "cells": [
  {
   "cell_type": "code",
   "execution_count": 1,
   "metadata": {},
   "outputs": [],
   "source": [
    "import pandas as pd\n",
    "import re\n",
    "import numpy as np\n",
    "from sklearn import preprocessing\n",
    "import matplotlib.pyplot as plt\n",
    "import seaborn as sns\n",
    "from scipy import stats\n",
    "from sklearn.preprocessing import StandardScaler\n",
    "from sklearn.model_selection import train_test_split\n",
    "from sklearn.tree import DecisionTreeRegressor\n",
    "from sklearn.ensemble import RandomForestRegressor\n",
    "from sklearn import metrics \n",
    "from sklearn.neighbors import KNeighborsRegressor\n",
    "from sklearn.ensemble import GradientBoostingRegressor \n",
    "from sklearn import datasets, svm, metrics"
   ]
  },
  {
   "cell_type": "code",
   "execution_count": 2,
   "metadata": {},
   "outputs": [
    {
     "data": {
      "text/html": [
       "<div>\n",
       "<style scoped>\n",
       "    .dataframe tbody tr th:only-of-type {\n",
       "        vertical-align: middle;\n",
       "    }\n",
       "\n",
       "    .dataframe tbody tr th {\n",
       "        vertical-align: top;\n",
       "    }\n",
       "\n",
       "    .dataframe thead th {\n",
       "        text-align: right;\n",
       "    }\n",
       "</style>\n",
       "<table border=\"1\" class=\"dataframe\">\n",
       "  <thead>\n",
       "    <tr style=\"text-align: right;\">\n",
       "      <th></th>\n",
       "      <th>carat</th>\n",
       "      <th>cut</th>\n",
       "      <th>color</th>\n",
       "      <th>clarity</th>\n",
       "      <th>depth</th>\n",
       "      <th>table</th>\n",
       "      <th>x</th>\n",
       "      <th>y</th>\n",
       "      <th>z</th>\n",
       "      <th>price</th>\n",
       "    </tr>\n",
       "  </thead>\n",
       "  <tbody>\n",
       "    <tr>\n",
       "      <th>0</th>\n",
       "      <td>2.26</td>\n",
       "      <td>Ideal</td>\n",
       "      <td>G</td>\n",
       "      <td>SI2</td>\n",
       "      <td>61.9</td>\n",
       "      <td>57.0</td>\n",
       "      <td>8.44</td>\n",
       "      <td>8.36</td>\n",
       "      <td>5.20</td>\n",
       "      <td>12831</td>\n",
       "    </tr>\n",
       "    <tr>\n",
       "      <th>1</th>\n",
       "      <td>2.43</td>\n",
       "      <td>Very Good</td>\n",
       "      <td>H</td>\n",
       "      <td>SI2</td>\n",
       "      <td>63.2</td>\n",
       "      <td>57.0</td>\n",
       "      <td>8.56</td>\n",
       "      <td>8.50</td>\n",
       "      <td>5.39</td>\n",
       "      <td>16170</td>\n",
       "    </tr>\n",
       "    <tr>\n",
       "      <th>2</th>\n",
       "      <td>0.80</td>\n",
       "      <td>Premium</td>\n",
       "      <td>F</td>\n",
       "      <td>SI2</td>\n",
       "      <td>61.0</td>\n",
       "      <td>57.0</td>\n",
       "      <td>6.03</td>\n",
       "      <td>6.01</td>\n",
       "      <td>3.67</td>\n",
       "      <td>2797</td>\n",
       "    </tr>\n",
       "    <tr>\n",
       "      <th>3</th>\n",
       "      <td>0.40</td>\n",
       "      <td>Ideal</td>\n",
       "      <td>F</td>\n",
       "      <td>I1</td>\n",
       "      <td>63.3</td>\n",
       "      <td>60.0</td>\n",
       "      <td>4.68</td>\n",
       "      <td>4.64</td>\n",
       "      <td>2.95</td>\n",
       "      <td>630</td>\n",
       "    </tr>\n",
       "    <tr>\n",
       "      <th>4</th>\n",
       "      <td>0.31</td>\n",
       "      <td>Ideal</td>\n",
       "      <td>G</td>\n",
       "      <td>VS2</td>\n",
       "      <td>61.6</td>\n",
       "      <td>55.0</td>\n",
       "      <td>4.39</td>\n",
       "      <td>4.37</td>\n",
       "      <td>2.70</td>\n",
       "      <td>698</td>\n",
       "    </tr>\n",
       "    <tr>\n",
       "      <th>5</th>\n",
       "      <td>0.53</td>\n",
       "      <td>Very Good</td>\n",
       "      <td>F</td>\n",
       "      <td>SI2</td>\n",
       "      <td>60.5</td>\n",
       "      <td>60.0</td>\n",
       "      <td>5.19</td>\n",
       "      <td>5.23</td>\n",
       "      <td>3.15</td>\n",
       "      <td>1132</td>\n",
       "    </tr>\n",
       "    <tr>\n",
       "      <th>6</th>\n",
       "      <td>0.70</td>\n",
       "      <td>Premium</td>\n",
       "      <td>D</td>\n",
       "      <td>SI2</td>\n",
       "      <td>60.8</td>\n",
       "      <td>61.0</td>\n",
       "      <td>5.69</td>\n",
       "      <td>5.64</td>\n",
       "      <td>3.45</td>\n",
       "      <td>1987</td>\n",
       "    </tr>\n",
       "    <tr>\n",
       "      <th>7</th>\n",
       "      <td>1.13</td>\n",
       "      <td>Good</td>\n",
       "      <td>F</td>\n",
       "      <td>SI2</td>\n",
       "      <td>64.0</td>\n",
       "      <td>58.0</td>\n",
       "      <td>6.52</td>\n",
       "      <td>6.58</td>\n",
       "      <td>4.19</td>\n",
       "      <td>3952</td>\n",
       "    </tr>\n",
       "    <tr>\n",
       "      <th>8</th>\n",
       "      <td>0.35</td>\n",
       "      <td>Ideal</td>\n",
       "      <td>E</td>\n",
       "      <td>SI1</td>\n",
       "      <td>60.9</td>\n",
       "      <td>55.0</td>\n",
       "      <td>4.53</td>\n",
       "      <td>4.57</td>\n",
       "      <td>2.77</td>\n",
       "      <td>614</td>\n",
       "    </tr>\n",
       "    <tr>\n",
       "      <th>9</th>\n",
       "      <td>1.01</td>\n",
       "      <td>Fair</td>\n",
       "      <td>H</td>\n",
       "      <td>VS1</td>\n",
       "      <td>61.4</td>\n",
       "      <td>66.0</td>\n",
       "      <td>6.34</td>\n",
       "      <td>6.24</td>\n",
       "      <td>3.87</td>\n",
       "      <td>5062</td>\n",
       "    </tr>\n",
       "  </tbody>\n",
       "</table>\n",
       "</div>"
      ],
      "text/plain": [
       "   carat        cut color clarity  depth  table     x     y     z  price\n",
       "0   2.26      Ideal     G     SI2   61.9   57.0  8.44  8.36  5.20  12831\n",
       "1   2.43  Very Good     H     SI2   63.2   57.0  8.56  8.50  5.39  16170\n",
       "2   0.80    Premium     F     SI2   61.0   57.0  6.03  6.01  3.67   2797\n",
       "3   0.40      Ideal     F      I1   63.3   60.0  4.68  4.64  2.95    630\n",
       "4   0.31      Ideal     G     VS2   61.6   55.0  4.39  4.37  2.70    698\n",
       "5   0.53  Very Good     F     SI2   60.5   60.0  5.19  5.23  3.15   1132\n",
       "6   0.70    Premium     D     SI2   60.8   61.0  5.69  5.64  3.45   1987\n",
       "7   1.13       Good     F     SI2   64.0   58.0  6.52  6.58  4.19   3952\n",
       "8   0.35      Ideal     E     SI1   60.9   55.0  4.53  4.57  2.77    614\n",
       "9   1.01       Fair     H     VS1   61.4   66.0  6.34  6.24  3.87   5062"
      ]
     },
     "metadata": {},
     "output_type": "display_data"
    }
   ],
   "source": [
    "diamonds=pd.read_csv(\"../input/data.csv\")\n",
    "display(diamonds.head(10))\n"
   ]
  },
  {
   "cell_type": "code",
   "execution_count": 3,
   "metadata": {},
   "outputs": [],
   "source": [
    "#diamonds.columns"
   ]
  },
  {
   "cell_type": "code",
   "execution_count": 4,
   "metadata": {},
   "outputs": [],
   "source": [
    "#diamonds.dtypes"
   ]
  },
  {
   "cell_type": "code",
   "execution_count": 5,
   "metadata": {},
   "outputs": [
    {
     "name": "stdout",
     "output_type": "stream",
     "text": [
      "<class 'pandas.core.frame.DataFrame'>\n",
      "RangeIndex: 40455 entries, 0 to 40454\n",
      "Data columns (total 10 columns):\n",
      "carat      40455 non-null float64\n",
      "cut        40455 non-null object\n",
      "color      40455 non-null object\n",
      "clarity    40455 non-null object\n",
      "depth      40455 non-null float64\n",
      "table      40455 non-null float64\n",
      "x          40455 non-null float64\n",
      "y          40455 non-null float64\n",
      "z          40455 non-null float64\n",
      "price      40455 non-null int64\n",
      "dtypes: float64(6), int64(1), object(3)\n",
      "memory usage: 3.1+ MB\n"
     ]
    }
   ],
   "source": [
    "diamonds.info()\n",
    "#More powerful than dtypes in terms of information you can quickly grassp"
   ]
  },
  {
   "cell_type": "code",
   "execution_count": 6,
   "metadata": {},
   "outputs": [],
   "source": [
    "#diamonds.isnull().sum()"
   ]
  },
  {
   "cell_type": "code",
   "execution_count": 7,
   "metadata": {},
   "outputs": [
    {
     "name": "stdout",
     "output_type": "stream",
     "text": [
      "Cut:  {'Ideal', 'Very Good', 'Premium', 'Good', 'Fair'}\n",
      "Color:  {'H', 'F', 'J', 'G', 'D', 'I', 'E'}\n",
      "Clarity:  {'VS1', 'VS2', 'I1', 'SI1', 'VVS1', 'VVS2', 'IF', 'SI2'}\n"
     ]
    }
   ],
   "source": [
    "#looking at all the variables which are objects cut, color, clarity\n",
    "\n",
    "print(\"Cut: \",set(diamonds[\"cut\"]))\n",
    "print(\"Color: \",set(diamonds[\"color\"]))\n",
    "print(\"Clarity: \",set(diamonds[\"clarity\"]))\n",
    "\n",
    "# I have to process these variables somehow before training a model. Not sure if I should keep color"
   ]
  },
  {
   "cell_type": "code",
   "execution_count": 8,
   "metadata": {},
   "outputs": [
    {
     "data": {
      "text/plain": [
       "(40455, 10)"
      ]
     },
     "execution_count": 8,
     "metadata": {},
     "output_type": "execute_result"
    }
   ],
   "source": [
    "diamonds.shape\n"
   ]
  },
  {
   "cell_type": "code",
   "execution_count": 9,
   "metadata": {},
   "outputs": [
    {
     "name": "stdout",
     "output_type": "stream",
     "text": [
      " model has 40455 rows and 10 columns and non nulls\n"
     ]
    }
   ],
   "source": [
    "print(f' model has {diamonds.shape[0]} rows and {diamonds.shape[1]} columns and non nulls')"
   ]
  },
  {
   "cell_type": "code",
   "execution_count": 10,
   "metadata": {},
   "outputs": [],
   "source": [
    "diamonds['price/wt']=diamonds['price']/diamonds['carat']"
   ]
  },
  {
   "cell_type": "code",
   "execution_count": 11,
   "metadata": {},
   "outputs": [],
   "source": [
    "#diamonds.head(10)"
   ]
  },
  {
   "cell_type": "code",
   "execution_count": 12,
   "metadata": {},
   "outputs": [
    {
     "name": "stdout",
     "output_type": "stream",
     "text": [
      "cut\n",
      "Fair         3737.468421\n",
      "Good         3873.241694\n",
      "Ideal        3922.272721\n",
      "Very Good    4011.693218\n",
      "Premium      4223.619019\n",
      "Name: price/wt, dtype: float64\n"
     ]
    }
   ],
   "source": [
    "print(diamonds.groupby('cut')['price/wt'].mean().sort_values())"
   ]
  },
  {
   "cell_type": "code",
   "execution_count": 13,
   "metadata": {},
   "outputs": [
    {
     "name": "stdout",
     "output_type": "stream",
     "text": [
      "color\n",
      "E    3787.426635\n",
      "J    3826.604761\n",
      "D    3948.783704\n",
      "I    4000.546520\n",
      "H    4016.204136\n",
      "F    4129.482925\n",
      "G    4182.615921\n",
      "Name: price/wt, dtype: float64\n",
      "clarity\n",
      "I1      2776.012219\n",
      "SI1     3856.733909\n",
      "VVS1    3860.279651\n",
      "SI2     4015.902895\n",
      "VS2     4080.272657\n",
      "VS1     4143.406705\n",
      "VVS2    4198.660097\n",
      "IF      4276.867594\n",
      "Name: price/wt, dtype: float64\n"
     ]
    }
   ],
   "source": [
    "print(diamonds.groupby('color')['price/wt'].mean().sort_values())\n",
    "print(diamonds.groupby('clarity')['price/wt'].mean().sort_values())\n"
   ]
  },
  {
   "cell_type": "code",
   "execution_count": 14,
   "metadata": {},
   "outputs": [],
   "source": [
    "#delete the column create to analyse how important are categorical variables\n",
    "# drop table too\n",
    "\n",
    "diamonds = diamonds.drop(['price/wt','table'], axis=1)"
   ]
  },
  {
   "cell_type": "code",
   "execution_count": 15,
   "metadata": {},
   "outputs": [],
   "source": [
    "#all categorical variables are relevant and have an impact in prices per carat thus I cannot delete anyone for now"
   ]
  },
  {
   "cell_type": "code",
   "execution_count": 16,
   "metadata": {},
   "outputs": [
    {
     "data": {
      "text/plain": [
       "array(['Ideal', 'Very Good', 'Premium', 'Good', 'Fair'], dtype=object)"
      ]
     },
     "execution_count": 16,
     "metadata": {},
     "output_type": "execute_result"
    }
   ],
   "source": [
    "diamonds['cut'].unique()"
   ]
  },
  {
   "cell_type": "code",
   "execution_count": 17,
   "metadata": {},
   "outputs": [
    {
     "data": {
      "text/plain": [
       "array(['G', 'H', 'F', 'D', 'E', 'I', 'J'], dtype=object)"
      ]
     },
     "execution_count": 17,
     "metadata": {},
     "output_type": "execute_result"
    }
   ],
   "source": [
    "diamonds['color'].unique()"
   ]
  },
  {
   "cell_type": "code",
   "execution_count": 18,
   "metadata": {},
   "outputs": [
    {
     "data": {
      "text/plain": [
       "array(['SI2', 'I1', 'VS2', 'SI1', 'VS1', 'VVS2', 'IF', 'VVS1'],\n",
       "      dtype=object)"
      ]
     },
     "execution_count": 18,
     "metadata": {},
     "output_type": "execute_result"
    }
   ],
   "source": [
    "diamonds['clarity'].unique()"
   ]
  },
  {
   "cell_type": "code",
   "execution_count": 19,
   "metadata": {},
   "outputs": [],
   "source": [
    "#converting categorical into numerical \n",
    "\n",
    "#using method ordinal encoding based on information \n",
    "\n",
    "diamonds['cut']=diamonds['cut'].map({'Fair':1,'Good':2,'Ideal':3,'Very Good':4,'Premium':5})\n",
    "diamonds['color']=diamonds['color'].map({'E':1,'J':2,'D':3,'I':4,'H':5,'F':6,'G':7})\n",
    "diamonds['clarity']=diamonds['clarity'].map({'I1':1,'SI1':2,'VVS1':3,'SI2':4,'VS2':5,'VS1':6,'VVS2':7,'IF':8})"
   ]
  },
  {
   "cell_type": "code",
   "execution_count": 20,
   "metadata": {},
   "outputs": [],
   "source": [
    "\n",
    "# WARNING !!!!!!!\n",
    "# create a new method of categorical to numerical using mean \n",
    "# and the other ordinal but with industry relevancy regarding cut, color, clarity\n",
    "\n"
   ]
  },
  {
   "cell_type": "code",
   "execution_count": 21,
   "metadata": {},
   "outputs": [
    {
     "data": {
      "text/html": [
       "<div>\n",
       "<style scoped>\n",
       "    .dataframe tbody tr th:only-of-type {\n",
       "        vertical-align: middle;\n",
       "    }\n",
       "\n",
       "    .dataframe tbody tr th {\n",
       "        vertical-align: top;\n",
       "    }\n",
       "\n",
       "    .dataframe thead th {\n",
       "        text-align: right;\n",
       "    }\n",
       "</style>\n",
       "<table border=\"1\" class=\"dataframe\">\n",
       "  <thead>\n",
       "    <tr style=\"text-align: right;\">\n",
       "      <th></th>\n",
       "      <th>carat</th>\n",
       "      <th>cut</th>\n",
       "      <th>color</th>\n",
       "      <th>clarity</th>\n",
       "      <th>depth</th>\n",
       "      <th>x</th>\n",
       "      <th>y</th>\n",
       "      <th>z</th>\n",
       "      <th>price</th>\n",
       "    </tr>\n",
       "  </thead>\n",
       "  <tbody>\n",
       "    <tr>\n",
       "      <th>0</th>\n",
       "      <td>2.26</td>\n",
       "      <td>3</td>\n",
       "      <td>7</td>\n",
       "      <td>4</td>\n",
       "      <td>61.9</td>\n",
       "      <td>8.44</td>\n",
       "      <td>8.36</td>\n",
       "      <td>5.20</td>\n",
       "      <td>12831</td>\n",
       "    </tr>\n",
       "    <tr>\n",
       "      <th>1</th>\n",
       "      <td>2.43</td>\n",
       "      <td>4</td>\n",
       "      <td>5</td>\n",
       "      <td>4</td>\n",
       "      <td>63.2</td>\n",
       "      <td>8.56</td>\n",
       "      <td>8.50</td>\n",
       "      <td>5.39</td>\n",
       "      <td>16170</td>\n",
       "    </tr>\n",
       "    <tr>\n",
       "      <th>2</th>\n",
       "      <td>0.80</td>\n",
       "      <td>5</td>\n",
       "      <td>6</td>\n",
       "      <td>4</td>\n",
       "      <td>61.0</td>\n",
       "      <td>6.03</td>\n",
       "      <td>6.01</td>\n",
       "      <td>3.67</td>\n",
       "      <td>2797</td>\n",
       "    </tr>\n",
       "    <tr>\n",
       "      <th>3</th>\n",
       "      <td>0.40</td>\n",
       "      <td>3</td>\n",
       "      <td>6</td>\n",
       "      <td>1</td>\n",
       "      <td>63.3</td>\n",
       "      <td>4.68</td>\n",
       "      <td>4.64</td>\n",
       "      <td>2.95</td>\n",
       "      <td>630</td>\n",
       "    </tr>\n",
       "    <tr>\n",
       "      <th>4</th>\n",
       "      <td>0.31</td>\n",
       "      <td>3</td>\n",
       "      <td>7</td>\n",
       "      <td>5</td>\n",
       "      <td>61.6</td>\n",
       "      <td>4.39</td>\n",
       "      <td>4.37</td>\n",
       "      <td>2.70</td>\n",
       "      <td>698</td>\n",
       "    </tr>\n",
       "    <tr>\n",
       "      <th>...</th>\n",
       "      <td>...</td>\n",
       "      <td>...</td>\n",
       "      <td>...</td>\n",
       "      <td>...</td>\n",
       "      <td>...</td>\n",
       "      <td>...</td>\n",
       "      <td>...</td>\n",
       "      <td>...</td>\n",
       "      <td>...</td>\n",
       "    </tr>\n",
       "    <tr>\n",
       "      <th>40450</th>\n",
       "      <td>1.11</td>\n",
       "      <td>5</td>\n",
       "      <td>5</td>\n",
       "      <td>2</td>\n",
       "      <td>62.8</td>\n",
       "      <td>6.63</td>\n",
       "      <td>6.56</td>\n",
       "      <td>4.14</td>\n",
       "      <td>5315</td>\n",
       "    </tr>\n",
       "    <tr>\n",
       "      <th>40451</th>\n",
       "      <td>0.73</td>\n",
       "      <td>3</td>\n",
       "      <td>6</td>\n",
       "      <td>5</td>\n",
       "      <td>62.6</td>\n",
       "      <td>5.77</td>\n",
       "      <td>5.74</td>\n",
       "      <td>3.60</td>\n",
       "      <td>2762</td>\n",
       "    </tr>\n",
       "    <tr>\n",
       "      <th>40452</th>\n",
       "      <td>1.26</td>\n",
       "      <td>4</td>\n",
       "      <td>4</td>\n",
       "      <td>6</td>\n",
       "      <td>59.2</td>\n",
       "      <td>7.09</td>\n",
       "      <td>7.02</td>\n",
       "      <td>4.18</td>\n",
       "      <td>6855</td>\n",
       "    </tr>\n",
       "    <tr>\n",
       "      <th>40453</th>\n",
       "      <td>0.72</td>\n",
       "      <td>3</td>\n",
       "      <td>7</td>\n",
       "      <td>4</td>\n",
       "      <td>61.4</td>\n",
       "      <td>5.76</td>\n",
       "      <td>5.83</td>\n",
       "      <td>3.56</td>\n",
       "      <td>2297</td>\n",
       "    </tr>\n",
       "    <tr>\n",
       "      <th>40454</th>\n",
       "      <td>0.54</td>\n",
       "      <td>5</td>\n",
       "      <td>7</td>\n",
       "      <td>2</td>\n",
       "      <td>60.8</td>\n",
       "      <td>5.27</td>\n",
       "      <td>5.23</td>\n",
       "      <td>3.19</td>\n",
       "      <td>1356</td>\n",
       "    </tr>\n",
       "  </tbody>\n",
       "</table>\n",
       "<p>40455 rows × 9 columns</p>\n",
       "</div>"
      ],
      "text/plain": [
       "       carat  cut  color  clarity  depth     x     y     z  price\n",
       "0       2.26    3      7        4   61.9  8.44  8.36  5.20  12831\n",
       "1       2.43    4      5        4   63.2  8.56  8.50  5.39  16170\n",
       "2       0.80    5      6        4   61.0  6.03  6.01  3.67   2797\n",
       "3       0.40    3      6        1   63.3  4.68  4.64  2.95    630\n",
       "4       0.31    3      7        5   61.6  4.39  4.37  2.70    698\n",
       "...      ...  ...    ...      ...    ...   ...   ...   ...    ...\n",
       "40450   1.11    5      5        2   62.8  6.63  6.56  4.14   5315\n",
       "40451   0.73    3      6        5   62.6  5.77  5.74  3.60   2762\n",
       "40452   1.26    4      4        6   59.2  7.09  7.02  4.18   6855\n",
       "40453   0.72    3      7        4   61.4  5.76  5.83  3.56   2297\n",
       "40454   0.54    5      7        2   60.8  5.27  5.23  3.19   1356\n",
       "\n",
       "[40455 rows x 9 columns]"
      ]
     },
     "execution_count": 21,
     "metadata": {},
     "output_type": "execute_result"
    }
   ],
   "source": [
    "diamonds"
   ]
  },
  {
   "cell_type": "code",
   "execution_count": 22,
   "metadata": {},
   "outputs": [
    {
     "data": {
      "text/html": [
       "<div>\n",
       "<style scoped>\n",
       "    .dataframe tbody tr th:only-of-type {\n",
       "        vertical-align: middle;\n",
       "    }\n",
       "\n",
       "    .dataframe tbody tr th {\n",
       "        vertical-align: top;\n",
       "    }\n",
       "\n",
       "    .dataframe thead th {\n",
       "        text-align: right;\n",
       "    }\n",
       "</style>\n",
       "<table border=\"1\" class=\"dataframe\">\n",
       "  <thead>\n",
       "    <tr style=\"text-align: right;\">\n",
       "      <th></th>\n",
       "      <th>carat</th>\n",
       "      <th>cut</th>\n",
       "      <th>color</th>\n",
       "      <th>clarity</th>\n",
       "      <th>depth</th>\n",
       "      <th>x</th>\n",
       "      <th>y</th>\n",
       "      <th>z</th>\n",
       "      <th>price</th>\n",
       "    </tr>\n",
       "  </thead>\n",
       "  <tbody>\n",
       "    <tr>\n",
       "      <th>count</th>\n",
       "      <td>40455.000000</td>\n",
       "      <td>40455.000000</td>\n",
       "      <td>40455.000000</td>\n",
       "      <td>40455.000000</td>\n",
       "      <td>40455.000000</td>\n",
       "      <td>40455.000000</td>\n",
       "      <td>40455.000000</td>\n",
       "      <td>40455.000000</td>\n",
       "      <td>40455.000000</td>\n",
       "    </tr>\n",
       "    <tr>\n",
       "      <th>mean</th>\n",
       "      <td>0.798385</td>\n",
       "      <td>3.589025</td>\n",
       "      <td>4.365023</td>\n",
       "      <td>4.356099</td>\n",
       "      <td>61.747932</td>\n",
       "      <td>5.732041</td>\n",
       "      <td>5.735939</td>\n",
       "      <td>3.539537</td>\n",
       "      <td>3939.242813</td>\n",
       "    </tr>\n",
       "    <tr>\n",
       "      <th>std</th>\n",
       "      <td>0.474353</td>\n",
       "      <td>1.054400</td>\n",
       "      <td>2.141903</td>\n",
       "      <td>1.803355</td>\n",
       "      <td>1.432322</td>\n",
       "      <td>1.123169</td>\n",
       "      <td>1.152802</td>\n",
       "      <td>0.709709</td>\n",
       "      <td>4000.344155</td>\n",
       "    </tr>\n",
       "    <tr>\n",
       "      <th>min</th>\n",
       "      <td>0.200000</td>\n",
       "      <td>1.000000</td>\n",
       "      <td>1.000000</td>\n",
       "      <td>1.000000</td>\n",
       "      <td>43.000000</td>\n",
       "      <td>0.000000</td>\n",
       "      <td>0.000000</td>\n",
       "      <td>0.000000</td>\n",
       "      <td>326.000000</td>\n",
       "    </tr>\n",
       "    <tr>\n",
       "      <th>25%</th>\n",
       "      <td>0.400000</td>\n",
       "      <td>3.000000</td>\n",
       "      <td>3.000000</td>\n",
       "      <td>2.000000</td>\n",
       "      <td>61.000000</td>\n",
       "      <td>4.710000</td>\n",
       "      <td>4.720000</td>\n",
       "      <td>2.910000</td>\n",
       "      <td>950.000000</td>\n",
       "    </tr>\n",
       "    <tr>\n",
       "      <th>50%</th>\n",
       "      <td>0.700000</td>\n",
       "      <td>3.000000</td>\n",
       "      <td>5.000000</td>\n",
       "      <td>5.000000</td>\n",
       "      <td>61.800000</td>\n",
       "      <td>5.700000</td>\n",
       "      <td>5.710000</td>\n",
       "      <td>3.530000</td>\n",
       "      <td>2409.000000</td>\n",
       "    </tr>\n",
       "    <tr>\n",
       "      <th>75%</th>\n",
       "      <td>1.040000</td>\n",
       "      <td>5.000000</td>\n",
       "      <td>6.000000</td>\n",
       "      <td>6.000000</td>\n",
       "      <td>62.500000</td>\n",
       "      <td>6.540000</td>\n",
       "      <td>6.540000</td>\n",
       "      <td>4.040000</td>\n",
       "      <td>5331.000000</td>\n",
       "    </tr>\n",
       "    <tr>\n",
       "      <th>max</th>\n",
       "      <td>5.010000</td>\n",
       "      <td>5.000000</td>\n",
       "      <td>7.000000</td>\n",
       "      <td>8.000000</td>\n",
       "      <td>79.000000</td>\n",
       "      <td>10.740000</td>\n",
       "      <td>58.900000</td>\n",
       "      <td>31.800000</td>\n",
       "      <td>18823.000000</td>\n",
       "    </tr>\n",
       "  </tbody>\n",
       "</table>\n",
       "</div>"
      ],
      "text/plain": [
       "              carat           cut         color       clarity         depth  \\\n",
       "count  40455.000000  40455.000000  40455.000000  40455.000000  40455.000000   \n",
       "mean       0.798385      3.589025      4.365023      4.356099     61.747932   \n",
       "std        0.474353      1.054400      2.141903      1.803355      1.432322   \n",
       "min        0.200000      1.000000      1.000000      1.000000     43.000000   \n",
       "25%        0.400000      3.000000      3.000000      2.000000     61.000000   \n",
       "50%        0.700000      3.000000      5.000000      5.000000     61.800000   \n",
       "75%        1.040000      5.000000      6.000000      6.000000     62.500000   \n",
       "max        5.010000      5.000000      7.000000      8.000000     79.000000   \n",
       "\n",
       "                  x             y             z         price  \n",
       "count  40455.000000  40455.000000  40455.000000  40455.000000  \n",
       "mean       5.732041      5.735939      3.539537   3939.242813  \n",
       "std        1.123169      1.152802      0.709709   4000.344155  \n",
       "min        0.000000      0.000000      0.000000    326.000000  \n",
       "25%        4.710000      4.720000      2.910000    950.000000  \n",
       "50%        5.700000      5.710000      3.530000   2409.000000  \n",
       "75%        6.540000      6.540000      4.040000   5331.000000  \n",
       "max       10.740000     58.900000     31.800000  18823.000000  "
      ]
     },
     "execution_count": 22,
     "metadata": {},
     "output_type": "execute_result"
    }
   ],
   "source": [
    "diamonds.describe()"
   ]
  },
  {
   "cell_type": "code",
   "execution_count": 23,
   "metadata": {},
   "outputs": [
    {
     "data": {
      "text/plain": [
       "carat      1.109383\n",
       "cut       -0.185133\n",
       "color     -0.333214\n",
       "clarity    0.042548\n",
       "depth     -0.132900\n",
       "x          0.376327\n",
       "y          3.043535\n",
       "z          1.886917\n",
       "price      1.616622\n",
       "dtype: float64"
      ]
     },
     "execution_count": 23,
     "metadata": {},
     "output_type": "execute_result"
    }
   ],
   "source": [
    "diamonds.skew()\n",
    "#calculate level of skewness for each column being 0 best distribution"
   ]
  },
  {
   "cell_type": "code",
   "execution_count": 24,
   "metadata": {},
   "outputs": [
    {
     "name": "stdout",
     "output_type": "stream",
     "text": [
      "[[3.08132060e+00 5.58641912e-01 1.23021920e+00 ... 2.27627414e+00\n",
      "  2.33966697e+00 2.22277553e+00]\n",
      " [3.43970798e+00 3.89776341e-01 2.96458384e-01 ... 2.39771889e+00\n",
      "  2.60738551e+00 3.05746403e+00]\n",
      " [3.40547089e-03 1.33819459e+00 7.63338791e-01 ... 2.37737260e-01\n",
      "  1.83828207e-01 2.85539665e-01]\n",
      " ...\n",
      " [9.73159554e-01 3.89776341e-01 1.70422024e-01 ... 1.11387439e+00\n",
      "  9.02441129e-01 7.28885594e-01]\n",
      " [1.65247413e-01 5.58641912e-01 1.23021920e+00 ... 8.15940096e-02\n",
      "  2.88332635e-02 4.10530456e-01]\n",
      " [5.44716402e-01 1.33819459e+00 1.23021920e+00 ... 4.38883491e-01\n",
      "  4.92513366e-01 6.45763125e-01]]\n"
     ]
    }
   ],
   "source": [
    "#applying z-score to identify outliers ONLY in data set not in test set!!!!!\n",
    "\n",
    "z = np.abs(stats.zscore(diamonds))\n",
    "print(z)"
   ]
  },
  {
   "cell_type": "code",
   "execution_count": 25,
   "metadata": {},
   "outputs": [
    {
     "name": "stdout",
     "output_type": "stream",
     "text": [
      "(array([    0,     1,     1, ..., 40324, 40335, 40437]), array([0, 0, 8, ..., 4, 4, 4]))\n"
     ]
    }
   ],
   "source": [
    "threshold = 3\n",
    "print(np.where(z > 3))\n",
    "#all the data points which are outliers and where they are located, row first and column second"
   ]
  },
  {
   "cell_type": "code",
   "execution_count": 26,
   "metadata": {},
   "outputs": [
    {
     "data": {
      "text/plain": [
       "(38890, 9)"
      ]
     },
     "execution_count": 26,
     "metadata": {},
     "output_type": "execute_result"
    }
   ],
   "source": [
    "diamonds_z=diamonds[(z<3).all(axis=1)]\n",
    "diamonds_z.shape"
   ]
  },
  {
   "cell_type": "code",
   "execution_count": 27,
   "metadata": {},
   "outputs": [
    {
     "data": {
      "text/plain": [
       "<matplotlib.axes._subplots.AxesSubplot at 0x1209f0d10>"
      ]
     },
     "execution_count": 27,
     "metadata": {},
     "output_type": "execute_result"
    },
    {
     "data": {
      "image/png": "[encoded data removed]",
      "text/plain": [
       "<Figure size 1080x576 with 1 Axes>"
      ]
     },
     "metadata": {
      "needs_background": "light"
     },
     "output_type": "display_data"
    }
   ],
   "source": [
    "\n",
    "# Visualize the distribution of each non numerical variable\n",
    "\n",
    "fig, (ax1) = plt.subplots(ncols=1, figsize=(15, 8))\n",
    "ax1.set_title('Distributions each feature')\n",
    "\n",
    "sns.kdeplot(diamonds_z['carat'], ax=ax1)\n",
    "sns.kdeplot(diamonds_z['depth'], ax=ax1)\n",
    "sns.kdeplot(diamonds_z['x'], ax=ax1)\n",
    "sns.kdeplot(diamonds_z['y'], ax=ax1)\n",
    "sns.kdeplot(diamonds_z['z'], ax=ax1)"
   ]
  },
  {
   "cell_type": "code",
   "execution_count": 63,
   "metadata": {},
   "outputs": [
    {
     "data": {
      "text/html": [
       "<div>\n",
       "<style scoped>\n",
       "    .dataframe tbody tr th:only-of-type {\n",
       "        vertical-align: middle;\n",
       "    }\n",
       "\n",
       "    .dataframe tbody tr th {\n",
       "        vertical-align: top;\n",
       "    }\n",
       "\n",
       "    .dataframe thead th {\n",
       "        text-align: right;\n",
       "    }\n",
       "</style>\n",
       "<table border=\"1\" class=\"dataframe\">\n",
       "  <thead>\n",
       "    <tr style=\"text-align: right;\">\n",
       "      <th></th>\n",
       "      <th>carat</th>\n",
       "      <th>cut</th>\n",
       "      <th>color</th>\n",
       "      <th>clarity</th>\n",
       "      <th>depth</th>\n",
       "      <th>x</th>\n",
       "      <th>y</th>\n",
       "      <th>z</th>\n",
       "      <th>price</th>\n",
       "    </tr>\n",
       "  </thead>\n",
       "  <tbody>\n",
       "    <tr>\n",
       "      <th>2</th>\n",
       "      <td>0.80</td>\n",
       "      <td>5</td>\n",
       "      <td>6</td>\n",
       "      <td>4</td>\n",
       "      <td>61.0</td>\n",
       "      <td>6.03</td>\n",
       "      <td>6.01</td>\n",
       "      <td>3.67</td>\n",
       "      <td>2797</td>\n",
       "    </tr>\n",
       "    <tr>\n",
       "      <th>3</th>\n",
       "      <td>0.40</td>\n",
       "      <td>3</td>\n",
       "      <td>6</td>\n",
       "      <td>1</td>\n",
       "      <td>63.3</td>\n",
       "      <td>4.68</td>\n",
       "      <td>4.64</td>\n",
       "      <td>2.95</td>\n",
       "      <td>630</td>\n",
       "    </tr>\n",
       "    <tr>\n",
       "      <th>4</th>\n",
       "      <td>0.31</td>\n",
       "      <td>3</td>\n",
       "      <td>7</td>\n",
       "      <td>5</td>\n",
       "      <td>61.6</td>\n",
       "      <td>4.39</td>\n",
       "      <td>4.37</td>\n",
       "      <td>2.70</td>\n",
       "      <td>698</td>\n",
       "    </tr>\n",
       "    <tr>\n",
       "      <th>5</th>\n",
       "      <td>0.53</td>\n",
       "      <td>4</td>\n",
       "      <td>6</td>\n",
       "      <td>4</td>\n",
       "      <td>60.5</td>\n",
       "      <td>5.19</td>\n",
       "      <td>5.23</td>\n",
       "      <td>3.15</td>\n",
       "      <td>1132</td>\n",
       "    </tr>\n",
       "    <tr>\n",
       "      <th>6</th>\n",
       "      <td>0.70</td>\n",
       "      <td>5</td>\n",
       "      <td>3</td>\n",
       "      <td>4</td>\n",
       "      <td>60.8</td>\n",
       "      <td>5.69</td>\n",
       "      <td>5.64</td>\n",
       "      <td>3.45</td>\n",
       "      <td>1987</td>\n",
       "    </tr>\n",
       "    <tr>\n",
       "      <th>...</th>\n",
       "      <td>...</td>\n",
       "      <td>...</td>\n",
       "      <td>...</td>\n",
       "      <td>...</td>\n",
       "      <td>...</td>\n",
       "      <td>...</td>\n",
       "      <td>...</td>\n",
       "      <td>...</td>\n",
       "      <td>...</td>\n",
       "    </tr>\n",
       "    <tr>\n",
       "      <th>40450</th>\n",
       "      <td>1.11</td>\n",
       "      <td>5</td>\n",
       "      <td>5</td>\n",
       "      <td>2</td>\n",
       "      <td>62.8</td>\n",
       "      <td>6.63</td>\n",
       "      <td>6.56</td>\n",
       "      <td>4.14</td>\n",
       "      <td>5315</td>\n",
       "    </tr>\n",
       "    <tr>\n",
       "      <th>40451</th>\n",
       "      <td>0.73</td>\n",
       "      <td>3</td>\n",
       "      <td>6</td>\n",
       "      <td>5</td>\n",
       "      <td>62.6</td>\n",
       "      <td>5.77</td>\n",
       "      <td>5.74</td>\n",
       "      <td>3.60</td>\n",
       "      <td>2762</td>\n",
       "    </tr>\n",
       "    <tr>\n",
       "      <th>40452</th>\n",
       "      <td>1.26</td>\n",
       "      <td>4</td>\n",
       "      <td>4</td>\n",
       "      <td>6</td>\n",
       "      <td>59.2</td>\n",
       "      <td>7.09</td>\n",
       "      <td>7.02</td>\n",
       "      <td>4.18</td>\n",
       "      <td>6855</td>\n",
       "    </tr>\n",
       "    <tr>\n",
       "      <th>40453</th>\n",
       "      <td>0.72</td>\n",
       "      <td>3</td>\n",
       "      <td>7</td>\n",
       "      <td>4</td>\n",
       "      <td>61.4</td>\n",
       "      <td>5.76</td>\n",
       "      <td>5.83</td>\n",
       "      <td>3.56</td>\n",
       "      <td>2297</td>\n",
       "    </tr>\n",
       "    <tr>\n",
       "      <th>40454</th>\n",
       "      <td>0.54</td>\n",
       "      <td>5</td>\n",
       "      <td>7</td>\n",
       "      <td>2</td>\n",
       "      <td>60.8</td>\n",
       "      <td>5.27</td>\n",
       "      <td>5.23</td>\n",
       "      <td>3.19</td>\n",
       "      <td>1356</td>\n",
       "    </tr>\n",
       "  </tbody>\n",
       "</table>\n",
       "<p>38890 rows × 9 columns</p>\n",
       "</div>"
      ],
      "text/plain": [
       "       carat  cut  color  clarity  depth     x     y     z  price\n",
       "2       0.80    5      6        4   61.0  6.03  6.01  3.67   2797\n",
       "3       0.40    3      6        1   63.3  4.68  4.64  2.95    630\n",
       "4       0.31    3      7        5   61.6  4.39  4.37  2.70    698\n",
       "5       0.53    4      6        4   60.5  5.19  5.23  3.15   1132\n",
       "6       0.70    5      3        4   60.8  5.69  5.64  3.45   1987\n",
       "...      ...  ...    ...      ...    ...   ...   ...   ...    ...\n",
       "40450   1.11    5      5        2   62.8  6.63  6.56  4.14   5315\n",
       "40451   0.73    3      6        5   62.6  5.77  5.74  3.60   2762\n",
       "40452   1.26    4      4        6   59.2  7.09  7.02  4.18   6855\n",
       "40453   0.72    3      7        4   61.4  5.76  5.83  3.56   2297\n",
       "40454   0.54    5      7        2   60.8  5.27  5.23  3.19   1356\n",
       "\n",
       "[38890 rows x 9 columns]"
      ]
     },
     "execution_count": 63,
     "metadata": {},
     "output_type": "execute_result"
    }
   ],
   "source": [
    "diamonds_z"
   ]
  },
  {
   "cell_type": "code",
   "execution_count": 28,
   "metadata": {},
   "outputs": [],
   "source": [
    "#diamonds_z.describe()"
   ]
  },
  {
   "cell_type": "code",
   "execution_count": 29,
   "metadata": {},
   "outputs": [
    {
     "name": "stdout",
     "output_type": "stream",
     "text": [
      "['carat', 'cut', 'color', 'clarity', 'depth', 'x', 'y', 'z', 'price']\n"
     ]
    }
   ],
   "source": [
    "\n",
    "column_names= list(diamonds_z.columns)\n",
    "print(column_names)"
   ]
  },
  {
   "cell_type": "code",
   "execution_count": 30,
   "metadata": {},
   "outputs": [
    {
     "data": {
      "text/plain": [
       "<matplotlib.axes._subplots.AxesSubplot at 0x120cef5d0>"
      ]
     },
     "execution_count": 30,
     "metadata": {},
     "output_type": "execute_result"
    },
    {
     "data": {
      "image/png": "[encoded data removed]",
      "text/plain": [
       "<Figure size 720x576 with 1 Axes>"
      ]
     },
     "metadata": {
      "needs_background": "light"
     },
     "output_type": "display_data"
    }
   ],
   "source": [
    "# Scaling data\n",
    "\n",
    "\n",
    "# Some useful literature about scaling data\n",
    "# http://benalexkeen.com/feature-scaling-with-scikit-learn/\n",
    "# https://www.kaggle.com/discdiver/guide-to-scaling-and-standardizing\n",
    "# https://becominghuman.ai/demystifying-feature-scaling-baff53e9b3fd\n",
    "\n",
    "s_scaler = preprocessing.StandardScaler()\n",
    "\n",
    "diamonds_z_scaler = s_scaler.fit_transform(diamonds_z)\n",
    "\n",
    "diamonds_z_scaler = pd.DataFrame(diamonds_z_scaler, columns=column_names)\n",
    "\n",
    "diamonds_z_scaler\n",
    "\n",
    "fig, (ax1) = plt.subplots(ncols=1, figsize=(10, 8))\n",
    "\n",
    "ax1.set_title('After StandardScaler')\n",
    "\n",
    "sns.kdeplot(diamonds_z_scaler['carat'], ax=ax1)\n",
    "sns.kdeplot(diamonds_z_scaler['depth'], ax=ax1)\n",
    "sns.kdeplot(diamonds_z_scaler['x'], ax=ax1)\n",
    "sns.kdeplot(diamonds_z_scaler['y'], ax=ax1)\n",
    "sns.kdeplot(diamonds_z_scaler['z'], ax=ax1)"
   ]
  },
  {
   "cell_type": "code",
   "execution_count": 31,
   "metadata": {},
   "outputs": [
    {
     "data": {
      "text/plain": [
       "carat      1.594450e-16\n",
       "cut        2.987473e-15\n",
       "color     -1.887351e-16\n",
       "clarity   -5.622941e-16\n",
       "depth     -2.517951e-15\n",
       "x         -3.931314e-17\n",
       "y          3.905821e-16\n",
       "z          8.242599e-16\n",
       "price      9.421908e-17\n",
       "dtype: float64"
      ]
     },
     "execution_count": 31,
     "metadata": {},
     "output_type": "execute_result"
    }
   ],
   "source": [
    "diamonds_z_scaler.mean()\n",
    "\n",
    "#not sure why StandardScaler converts data into negative values!!!"
   ]
  },
  {
   "cell_type": "code",
   "execution_count": 32,
   "metadata": {},
   "outputs": [
    {
     "data": {
      "text/plain": [
       "<matplotlib.axes._subplots.AxesSubplot at 0x121065b50>"
      ]
     },
     "execution_count": 32,
     "metadata": {},
     "output_type": "execute_result"
    },
    {
     "data": {
      "image/png": "[encoded data removed]",
      "text/plain": [
       "<Figure size 720x576 with 1 Axes>"
      ]
     },
     "metadata": {
      "needs_background": "light"
     },
     "output_type": "display_data"
    }
   ],
   "source": [
    "#trying with normalizing\n",
    "\n",
    "s_scaler = preprocessing.StandardScaler()\n",
    "\n",
    "diamonds_z_scaler_norm = s_scaler.fit_transform(diamonds_z)\n",
    "\n",
    "diamonds_z_scaler_norm = pd.DataFrame(diamonds_z_scaler_norm, columns=column_names)\n",
    "\n",
    "diamonds_z_scaler_norm\n",
    "\n",
    "fig, (ax1) = plt.subplots(ncols=1, figsize=(10, 8))\n",
    "\n",
    "ax1.set_title('After Normalizer')\n",
    "\n",
    "sns.kdeplot(diamonds_z_scaler_norm['carat'], ax=ax1)\n",
    "sns.kdeplot(diamonds_z_scaler_norm['depth'], ax=ax1)\n",
    "sns.kdeplot(diamonds_z_scaler_norm['x'], ax=ax1)\n",
    "sns.kdeplot(diamonds_z_scaler_norm['y'], ax=ax1)\n",
    "sns.kdeplot(diamonds_z_scaler_norm['z'], ax=ax1)\n"
   ]
  },
  {
   "cell_type": "code",
   "execution_count": 33,
   "metadata": {},
   "outputs": [
    {
     "data": {
      "text/plain": [
       "carat      1.594450e-16\n",
       "cut        2.987473e-15\n",
       "color     -1.887351e-16\n",
       "clarity   -5.622941e-16\n",
       "depth     -2.517951e-15\n",
       "x         -3.931314e-17\n",
       "y          3.905821e-16\n",
       "z          8.242599e-16\n",
       "price      9.421908e-17\n",
       "dtype: float64"
      ]
     },
     "execution_count": 33,
     "metadata": {},
     "output_type": "execute_result"
    }
   ],
   "source": [
    "diamonds_z_scaler_norm.mean()\n",
    "#again normalizer also converts average into negative and I dont know this is the case!!!"
   ]
  },
  {
   "cell_type": "code",
   "execution_count": 34,
   "metadata": {},
   "outputs": [
    {
     "data": {
      "text/plain": [
       "<matplotlib.axes._subplots.AxesSubplot at 0x121107110>"
      ]
     },
     "execution_count": 34,
     "metadata": {},
     "output_type": "execute_result"
    },
    {
     "data": {
      "image/png": "[encoded data removed]",
      "text/plain": [
       "<Figure size 720x576 with 1 Axes>"
      ]
     },
     "metadata": {
      "needs_background": "light"
     },
     "output_type": "display_data"
    }
   ],
   "source": [
    "#trying with minmax\n",
    "\n",
    "mm_scaler = preprocessing.MinMaxScaler()\n",
    "\n",
    "diamonds_z_scaler_mm= mm_scaler.fit_transform(diamonds_z)\n",
    "\n",
    "diamonds_z_scaler_mm = pd.DataFrame(diamonds_z_scaler_mm, columns=column_names)\n",
    "\n",
    "fig, (ax1) = plt.subplots(ncols=1, figsize=(10, 8))\n",
    "\n",
    "ax1.set_title('After MinMaxScaler')\n",
    "\n",
    "sns.kdeplot(diamonds_z_scaler_mm['carat'], ax=ax1)\n",
    "sns.kdeplot(diamonds_z_scaler_mm['depth'], ax=ax1)\n",
    "sns.kdeplot(diamonds_z_scaler_mm['x'], ax=ax1)\n",
    "sns.kdeplot(diamonds_z_scaler_mm['y'], ax=ax1)\n",
    "sns.kdeplot(diamonds_z_scaler_mm['z'], ax=ax1)\n"
   ]
  },
  {
   "cell_type": "code",
   "execution_count": 35,
   "metadata": {},
   "outputs": [
    {
     "name": "stdout",
     "output_type": "stream",
     "text": [
      "MinMaxScaler(copy=True, feature_range=(0, 1))\n"
     ]
    }
   ],
   "source": [
    "#try to check parameters to apply to each feature from minmax scaler\n",
    "\n",
    "mm_scaler = preprocessing.MinMaxScaler()\n",
    "print(mm_scaler)"
   ]
  },
  {
   "cell_type": "code",
   "execution_count": 36,
   "metadata": {},
   "outputs": [],
   "source": [
    "#diamonds_z_scaler_mm = pd.DataFrame(diamonds_z_scaler_mm, columns=column_names)\n",
    "#diamonds_z_scaler_mm"
   ]
  },
  {
   "cell_type": "code",
   "execution_count": 37,
   "metadata": {},
   "outputs": [
    {
     "data": {
      "text/plain": [
       "carat      0.278061\n",
       "cut        0.653381\n",
       "color      0.560200\n",
       "clarity    0.481989\n",
       "depth      0.499362\n",
       "x          0.396679\n",
       "y          0.405929\n",
       "z          0.406775\n",
       "price      0.209683\n",
       "dtype: float64"
      ]
     },
     "execution_count": 37,
     "metadata": {},
     "output_type": "execute_result"
    }
   ],
   "source": [
    "diamonds_z_scaler_mm.mean()\n",
    "\n",
    "#looks like this could be the best method for scaling since is not converting the mean in negative numbers"
   ]
  },
  {
   "cell_type": "code",
   "execution_count": 38,
   "metadata": {},
   "outputs": [
    {
     "data": {
      "text/plain": [
       "<matplotlib.axes._subplots.AxesSubplot at 0x12273f890>"
      ]
     },
     "execution_count": 38,
     "metadata": {},
     "output_type": "execute_result"
    },
    {
     "data": {
      "image/png": "[encoded data removed]",
      "text/plain": [
       "<Figure size 576x432 with 2 Axes>"
      ]
     },
     "metadata": {
      "needs_background": "light"
     },
     "output_type": "display_data"
    }
   ],
   "source": [
    "# check correlation between price and rest of variables \n",
    "\n",
    "corr_matrix= diamonds_z_scaler_mm.corr()\n",
    "upper = corr_matrix.where(np.triu(np.ones(corr_matrix.shape), k=1).astype(np.bool))\n",
    "plt.figure (figsize= (8,6))\n",
    "\n",
    "#sns.heatmap(upper,annot=True)\n",
    "sns.heatmap(corr_matrix, annot=True)\n",
    "\n",
    "# from correlation analysis depth, clarity, color and cut have the lowest correlation with price\n",
    "# z, y, x and carat have the highest correlation with price, being carat the most correlated\n",
    "\n"
   ]
  },
  {
   "cell_type": "code",
   "execution_count": 39,
   "metadata": {},
   "outputs": [],
   "source": [
    "#if only visualizing upper\n",
    "#plt.figure (figsize= (8,6))\n",
    "#sns.heatmap(upper,annot=True)"
   ]
  },
  {
   "cell_type": "code",
   "execution_count": 40,
   "metadata": {},
   "outputs": [],
   "source": [
    "# create new variable volumen as a function of x,y,z\n",
    "\n",
    "diamonds_z_scaler_mm['volumen']=diamonds_z_scaler_mm['x']*diamonds_z_scaler_mm['y']*diamonds_z_scaler_mm['z']"
   ]
  },
  {
   "cell_type": "code",
   "execution_count": 41,
   "metadata": {},
   "outputs": [],
   "source": [
    "#diamonds_z_scaler_mm"
   ]
  },
  {
   "cell_type": "code",
   "execution_count": 42,
   "metadata": {},
   "outputs": [
    {
     "data": {
      "text/plain": [
       "<matplotlib.axes._subplots.AxesSubplot at 0x122729190>"
      ]
     },
     "execution_count": 42,
     "metadata": {},
     "output_type": "execute_result"
    },
    {
     "data": {
      "image/png": "[encoded data removed]",
      "text/plain": [
       "<Figure size 576x432 with 2 Axes>"
      ]
     },
     "metadata": {
      "needs_background": "light"
     },
     "output_type": "display_data"
    }
   ],
   "source": [
    "corr_matrix= diamonds_z_scaler_mm.corr()\n",
    "upper = corr_matrix.where(np.triu(np.ones(corr_matrix.shape), k=1).astype(np.bool))\n",
    "plt.figure (figsize= (8,6))\n",
    "sns.heatmap(upper, annot=True)"
   ]
  },
  {
   "cell_type": "code",
   "execution_count": 43,
   "metadata": {},
   "outputs": [],
   "source": [
    "# dropping x,y,z and taking volumen as a function of the three, removed table already, removing depth\n"
   ]
  },
  {
   "cell_type": "code",
   "execution_count": 44,
   "metadata": {},
   "outputs": [
    {
     "name": "stdout",
     "output_type": "stream",
     "text": [
      "<class 'pandas.core.frame.DataFrame'>\n",
      "RangeIndex: 38890 entries, 0 to 38889\n",
      "Data columns (total 6 columns):\n",
      "carat      38890 non-null float64\n",
      "cut        38890 non-null float64\n",
      "color      38890 non-null float64\n",
      "clarity    38890 non-null float64\n",
      "price      38890 non-null float64\n",
      "volumen    38890 non-null float64\n",
      "dtypes: float64(6)\n",
      "memory usage: 1.8 MB\n"
     ]
    }
   ],
   "source": [
    "diamonds_z_scaler_mm_drop=diamonds_z_scaler_mm.drop(['depth','x', 'y', 'z'], axis=1)\n",
    "diamonds_z_scaler_mm_drop.columns\n",
    "diamonds_z_scaler_mm_drop.info()"
   ]
  },
  {
   "cell_type": "code",
   "execution_count": 45,
   "metadata": {},
   "outputs": [],
   "source": [
    "#train test split\n",
    "\n",
    "X=diamonds_z_scaler_mm_drop.drop(['price'],axis=1)\n",
    "y=diamonds_z_scaler_mm_drop['price']\n",
    "\n",
    "X_train, X_test, y_train, y_test = train_test_split(X,y, test_size=0.2)\n",
    "\n",
    "#dont know why but i see randome_state is 42!"
   ]
  },
  {
   "cell_type": "code",
   "execution_count": 46,
   "metadata": {},
   "outputs": [
    {
     "name": "stdout",
     "output_type": "stream",
     "text": [
      "Training model: decision_tree\n",
      "Training model: forest\n",
      "Training model: neighbors\n",
      "Training model: gradient boosting\n"
     ]
    }
   ],
   "source": [
    "#ask if need fit and transform OR not!\n",
    "\n",
    "models = {\n",
    "    \"decision_tree\": DecisionTreeRegressor(random_state = 0), #ok\n",
    "    \"forest\": RandomForestRegressor(n_estimators=100), #ok\n",
    "    \"neighbors\": KNeighborsRegressor(n_neighbors=2),#ok\n",
    "    \"gradient boosting\": GradientBoostingRegressor() #ok\n",
    "    \n",
    "}\n",
    "\n",
    "for modelName, model in models.items():\n",
    "    print(f\"Training model: {modelName}\")\n",
    "    model.fit(X_train, y_train)\n",
    "\n"
   ]
  },
  {
   "cell_type": "code",
   "execution_count": 47,
   "metadata": {},
   "outputs": [
    {
     "data": {
      "text/html": [
       "<div>\n",
       "<style scoped>\n",
       "    .dataframe tbody tr th:only-of-type {\n",
       "        vertical-align: middle;\n",
       "    }\n",
       "\n",
       "    .dataframe tbody tr th {\n",
       "        vertical-align: top;\n",
       "    }\n",
       "\n",
       "    .dataframe thead th {\n",
       "        text-align: right;\n",
       "    }\n",
       "</style>\n",
       "<table border=\"1\" class=\"dataframe\">\n",
       "  <thead>\n",
       "    <tr style=\"text-align: right;\">\n",
       "      <th></th>\n",
       "      <th>decision_tree</th>\n",
       "      <th>forest</th>\n",
       "      <th>neighbors</th>\n",
       "      <th>gradient boosting</th>\n",
       "      <th>gt</th>\n",
       "    </tr>\n",
       "  </thead>\n",
       "  <tbody>\n",
       "    <tr>\n",
       "      <th>0</th>\n",
       "      <td>0.033177</td>\n",
       "      <td>0.029954</td>\n",
       "      <td>0.027221</td>\n",
       "      <td>0.027966</td>\n",
       "      <td>0.033177</td>\n",
       "    </tr>\n",
       "    <tr>\n",
       "      <th>1</th>\n",
       "      <td>0.470762</td>\n",
       "      <td>0.458266</td>\n",
       "      <td>0.450714</td>\n",
       "      <td>0.414015</td>\n",
       "      <td>0.463076</td>\n",
       "    </tr>\n",
       "    <tr>\n",
       "      <th>2</th>\n",
       "      <td>0.191827</td>\n",
       "      <td>0.262257</td>\n",
       "      <td>0.277045</td>\n",
       "      <td>0.278989</td>\n",
       "      <td>0.270159</td>\n",
       "    </tr>\n",
       "    <tr>\n",
       "      <th>3</th>\n",
       "      <td>0.314866</td>\n",
       "      <td>0.318182</td>\n",
       "      <td>0.348075</td>\n",
       "      <td>0.358994</td>\n",
       "      <td>0.198681</td>\n",
       "    </tr>\n",
       "    <tr>\n",
       "      <th>4</th>\n",
       "      <td>0.325498</td>\n",
       "      <td>0.317490</td>\n",
       "      <td>0.327259</td>\n",
       "      <td>0.325382</td>\n",
       "      <td>0.352911</td>\n",
       "    </tr>\n",
       "    <tr>\n",
       "      <th>...</th>\n",
       "      <td>...</td>\n",
       "      <td>...</td>\n",
       "      <td>...</td>\n",
       "      <td>...</td>\n",
       "      <td>...</td>\n",
       "    </tr>\n",
       "    <tr>\n",
       "      <th>7773</th>\n",
       "      <td>0.730993</td>\n",
       "      <td>0.798913</td>\n",
       "      <td>0.806443</td>\n",
       "      <td>0.808228</td>\n",
       "      <td>0.855697</td>\n",
       "    </tr>\n",
       "    <tr>\n",
       "      <th>7774</th>\n",
       "      <td>0.031768</td>\n",
       "      <td>0.031674</td>\n",
       "      <td>0.036476</td>\n",
       "      <td>0.040082</td>\n",
       "      <td>0.034843</td>\n",
       "    </tr>\n",
       "    <tr>\n",
       "      <th>7775</th>\n",
       "      <td>0.047076</td>\n",
       "      <td>0.045304</td>\n",
       "      <td>0.047076</td>\n",
       "      <td>0.040726</td>\n",
       "      <td>0.047076</td>\n",
       "    </tr>\n",
       "    <tr>\n",
       "      <th>7776</th>\n",
       "      <td>0.040351</td>\n",
       "      <td>0.038185</td>\n",
       "      <td>0.034074</td>\n",
       "      <td>0.030093</td>\n",
       "      <td>0.026837</td>\n",
       "    </tr>\n",
       "    <tr>\n",
       "      <th>7777</th>\n",
       "      <td>0.750721</td>\n",
       "      <td>0.756347</td>\n",
       "      <td>0.775155</td>\n",
       "      <td>0.708726</td>\n",
       "      <td>0.757766</td>\n",
       "    </tr>\n",
       "  </tbody>\n",
       "</table>\n",
       "<p>7778 rows × 5 columns</p>\n",
       "</div>"
      ],
      "text/plain": [
       "      decision_tree    forest  neighbors  gradient boosting        gt\n",
       "0          0.033177  0.029954   0.027221           0.027966  0.033177\n",
       "1          0.470762  0.458266   0.450714           0.414015  0.463076\n",
       "2          0.191827  0.262257   0.277045           0.278989  0.270159\n",
       "3          0.314866  0.318182   0.348075           0.358994  0.198681\n",
       "4          0.325498  0.317490   0.327259           0.325382  0.352911\n",
       "...             ...       ...        ...                ...       ...\n",
       "7773       0.730993  0.798913   0.806443           0.808228  0.855697\n",
       "7774       0.031768  0.031674   0.036476           0.040082  0.034843\n",
       "7775       0.047076  0.045304   0.047076           0.040726  0.047076\n",
       "7776       0.040351  0.038185   0.034074           0.030093  0.026837\n",
       "7777       0.750721  0.756347   0.775155           0.708726  0.757766\n",
       "\n",
       "[7778 rows x 5 columns]"
      ]
     },
     "execution_count": 47,
     "metadata": {},
     "output_type": "execute_result"
    }
   ],
   "source": [
    "d = {modelName:model.predict(X_test) for modelName, model in models.items()}\n",
    "\n",
    "df = pd.DataFrame(d)\n",
    "df[\"gt\"] = y_test.reset_index(drop=True)\n",
    "df\n",
    "\n"
   ]
  },
  {
   "cell_type": "code",
   "execution_count": 48,
   "metadata": {},
   "outputs": [
    {
     "name": "stdout",
     "output_type": "stream",
     "text": [
      " R2 of decision tree is 0.9659860312803566\n"
     ]
    }
   ],
   "source": [
    "#sklearn.metrics.r2_score(y_true, y_pred, sample_weight=None, multioutput='uniform_average')\n",
    "results1=metrics.r2_score(df['gt'], df['decision_tree'])\n",
    "results1\n",
    "print(f' R2 of decision tree is {results1}')"
   ]
  },
  {
   "cell_type": "code",
   "execution_count": 49,
   "metadata": {},
   "outputs": [
    {
     "name": "stdout",
     "output_type": "stream",
     "text": [
      " mean square error of decision tree is 0.0015950658864015367\n"
     ]
    }
   ],
   "source": [
    "results2=metrics.mean_squared_error(df['gt'], df['decision_tree'], squared=True)\n",
    "results2\n",
    "print(f' mean square error of decision tree is {results2}')"
   ]
  },
  {
   "cell_type": "code",
   "execution_count": 50,
   "metadata": {},
   "outputs": [
    {
     "name": "stdout",
     "output_type": "stream",
     "text": [
      " R2 of forest is 0.9791351552044792\n"
     ]
    }
   ],
   "source": [
    "results3=metrics.r2_score(df['gt'], df['forest'])\n",
    "results3\n",
    "print(f' R2 of forest is {results3}')"
   ]
  },
  {
   "cell_type": "code",
   "execution_count": 51,
   "metadata": {},
   "outputs": [
    {
     "name": "stdout",
     "output_type": "stream",
     "text": [
      " mean square error of forest is 0.0009784451333130651\n"
     ]
    }
   ],
   "source": [
    "results4=metrics.mean_squared_error(df['gt'], df['forest'], squared=True)\n",
    "results4\n",
    "print(f' mean square error of forest is {results4}')"
   ]
  },
  {
   "cell_type": "code",
   "execution_count": 52,
   "metadata": {},
   "outputs": [
    {
     "name": "stdout",
     "output_type": "stream",
     "text": [
      " R2 of neighbors is 0.9726593047000336\n"
     ]
    }
   ],
   "source": [
    "results5=metrics.r2_score(df['gt'], df['neighbors'])\n",
    "results5\n",
    "print(f' R2 of neighbors is {results5}')"
   ]
  },
  {
   "cell_type": "code",
   "execution_count": 53,
   "metadata": {},
   "outputs": [
    {
     "name": "stdout",
     "output_type": "stream",
     "text": [
      " mean square error of neighbors is 0.0012821264917048643\n"
     ]
    }
   ],
   "source": [
    "results6=metrics.mean_squared_error(df['gt'], df['neighbors'], squared=True)\n",
    "results6\n",
    "print(f' mean square error of neighbors is {results6}')"
   ]
  },
  {
   "cell_type": "code",
   "execution_count": 54,
   "metadata": {},
   "outputs": [
    {
     "name": "stdout",
     "output_type": "stream",
     "text": [
      " R2 of gradient is 0.9622972709879684\n"
     ]
    }
   ],
   "source": [
    "results7=metrics.r2_score(df['gt'], df['gradient boosting'])\n",
    "results7\n",
    "print(f' R2 of gradient is {results7}')"
   ]
  },
  {
   "cell_type": "code",
   "execution_count": 55,
   "metadata": {},
   "outputs": [
    {
     "name": "stdout",
     "output_type": "stream",
     "text": [
      " mean square error of gradient is 0.0017680482206300992\n"
     ]
    }
   ],
   "source": [
    "results8=metrics.mean_squared_error(df['gt'], df['gradient boosting'], squared=True)\n",
    "results8\n",
    "print(f' mean square error of gradient is {results8}')"
   ]
  },
  {
   "cell_type": "code",
   "execution_count": 56,
   "metadata": {},
   "outputs": [],
   "source": [
    "#comprobar RESULTADOS en archivo test"
   ]
  },
  {
   "cell_type": "code",
   "execution_count": 57,
   "metadata": {},
   "outputs": [
    {
     "data": {
      "text/html": [
       "<div>\n",
       "<style scoped>\n",
       "    .dataframe tbody tr th:only-of-type {\n",
       "        vertical-align: middle;\n",
       "    }\n",
       "\n",
       "    .dataframe tbody tr th {\n",
       "        vertical-align: top;\n",
       "    }\n",
       "\n",
       "    .dataframe thead th {\n",
       "        text-align: right;\n",
       "    }\n",
       "</style>\n",
       "<table border=\"1\" class=\"dataframe\">\n",
       "  <thead>\n",
       "    <tr style=\"text-align: right;\">\n",
       "      <th></th>\n",
       "      <th>carat</th>\n",
       "      <th>cut</th>\n",
       "      <th>color</th>\n",
       "      <th>clarity</th>\n",
       "      <th>depth</th>\n",
       "      <th>table</th>\n",
       "      <th>x</th>\n",
       "      <th>y</th>\n",
       "      <th>z</th>\n",
       "    </tr>\n",
       "    <tr>\n",
       "      <th>id</th>\n",
       "      <th></th>\n",
       "      <th></th>\n",
       "      <th></th>\n",
       "      <th></th>\n",
       "      <th></th>\n",
       "      <th></th>\n",
       "      <th></th>\n",
       "      <th></th>\n",
       "      <th></th>\n",
       "    </tr>\n",
       "  </thead>\n",
       "  <tbody>\n",
       "    <tr>\n",
       "      <th>0</th>\n",
       "      <td>0.56</td>\n",
       "      <td>Ideal</td>\n",
       "      <td>I</td>\n",
       "      <td>VS2</td>\n",
       "      <td>62.1</td>\n",
       "      <td>54.0</td>\n",
       "      <td>5.30</td>\n",
       "      <td>5.33</td>\n",
       "      <td>3.30</td>\n",
       "    </tr>\n",
       "    <tr>\n",
       "      <th>1</th>\n",
       "      <td>1.05</td>\n",
       "      <td>Ideal</td>\n",
       "      <td>G</td>\n",
       "      <td>VS2</td>\n",
       "      <td>61.9</td>\n",
       "      <td>56.0</td>\n",
       "      <td>6.56</td>\n",
       "      <td>6.52</td>\n",
       "      <td>4.05</td>\n",
       "    </tr>\n",
       "    <tr>\n",
       "      <th>2</th>\n",
       "      <td>0.50</td>\n",
       "      <td>Premium</td>\n",
       "      <td>E</td>\n",
       "      <td>VS2</td>\n",
       "      <td>61.5</td>\n",
       "      <td>56.0</td>\n",
       "      <td>5.11</td>\n",
       "      <td>5.07</td>\n",
       "      <td>3.13</td>\n",
       "    </tr>\n",
       "    <tr>\n",
       "      <th>3</th>\n",
       "      <td>0.80</td>\n",
       "      <td>Ideal</td>\n",
       "      <td>F</td>\n",
       "      <td>VS1</td>\n",
       "      <td>62.8</td>\n",
       "      <td>56.0</td>\n",
       "      <td>5.91</td>\n",
       "      <td>5.96</td>\n",
       "      <td>3.73</td>\n",
       "    </tr>\n",
       "    <tr>\n",
       "      <th>4</th>\n",
       "      <td>0.54</td>\n",
       "      <td>Ideal</td>\n",
       "      <td>G</td>\n",
       "      <td>VS1</td>\n",
       "      <td>61.4</td>\n",
       "      <td>57.0</td>\n",
       "      <td>5.23</td>\n",
       "      <td>5.20</td>\n",
       "      <td>3.20</td>\n",
       "    </tr>\n",
       "    <tr>\n",
       "      <th>...</th>\n",
       "      <td>...</td>\n",
       "      <td>...</td>\n",
       "      <td>...</td>\n",
       "      <td>...</td>\n",
       "      <td>...</td>\n",
       "      <td>...</td>\n",
       "      <td>...</td>\n",
       "      <td>...</td>\n",
       "      <td>...</td>\n",
       "    </tr>\n",
       "    <tr>\n",
       "      <th>13480</th>\n",
       "      <td>0.70</td>\n",
       "      <td>Premium</td>\n",
       "      <td>H</td>\n",
       "      <td>SI1</td>\n",
       "      <td>59.0</td>\n",
       "      <td>60.0</td>\n",
       "      <td>5.86</td>\n",
       "      <td>5.81</td>\n",
       "      <td>3.44</td>\n",
       "    </tr>\n",
       "    <tr>\n",
       "      <th>13481</th>\n",
       "      <td>0.55</td>\n",
       "      <td>Ideal</td>\n",
       "      <td>G</td>\n",
       "      <td>VVS2</td>\n",
       "      <td>62.3</td>\n",
       "      <td>53.0</td>\n",
       "      <td>5.27</td>\n",
       "      <td>5.29</td>\n",
       "      <td>3.29</td>\n",
       "    </tr>\n",
       "    <tr>\n",
       "      <th>13482</th>\n",
       "      <td>1.54</td>\n",
       "      <td>Ideal</td>\n",
       "      <td>G</td>\n",
       "      <td>SI1</td>\n",
       "      <td>61.5</td>\n",
       "      <td>55.0</td>\n",
       "      <td>7.40</td>\n",
       "      <td>7.45</td>\n",
       "      <td>4.57</td>\n",
       "    </tr>\n",
       "    <tr>\n",
       "      <th>13483</th>\n",
       "      <td>0.30</td>\n",
       "      <td>Premium</td>\n",
       "      <td>G</td>\n",
       "      <td>SI2</td>\n",
       "      <td>62.7</td>\n",
       "      <td>55.0</td>\n",
       "      <td>4.29</td>\n",
       "      <td>4.26</td>\n",
       "      <td>2.68</td>\n",
       "    </tr>\n",
       "    <tr>\n",
       "      <th>13484</th>\n",
       "      <td>0.42</td>\n",
       "      <td>Ideal</td>\n",
       "      <td>E</td>\n",
       "      <td>VVS2</td>\n",
       "      <td>61.3</td>\n",
       "      <td>56.0</td>\n",
       "      <td>4.85</td>\n",
       "      <td>4.81</td>\n",
       "      <td>2.96</td>\n",
       "    </tr>\n",
       "  </tbody>\n",
       "</table>\n",
       "<p>13485 rows × 9 columns</p>\n",
       "</div>"
      ],
      "text/plain": [
       "       carat      cut color clarity  depth  table     x     y     z\n",
       "id                                                                 \n",
       "0       0.56    Ideal     I     VS2   62.1   54.0  5.30  5.33  3.30\n",
       "1       1.05    Ideal     G     VS2   61.9   56.0  6.56  6.52  4.05\n",
       "2       0.50  Premium     E     VS2   61.5   56.0  5.11  5.07  3.13\n",
       "3       0.80    Ideal     F     VS1   62.8   56.0  5.91  5.96  3.73\n",
       "4       0.54    Ideal     G     VS1   61.4   57.0  5.23  5.20  3.20\n",
       "...      ...      ...   ...     ...    ...    ...   ...   ...   ...\n",
       "13480   0.70  Premium     H     SI1   59.0   60.0  5.86  5.81  3.44\n",
       "13481   0.55    Ideal     G    VVS2   62.3   53.0  5.27  5.29  3.29\n",
       "13482   1.54    Ideal     G     SI1   61.5   55.0  7.40  7.45  4.57\n",
       "13483   0.30  Premium     G     SI2   62.7   55.0  4.29  4.26  2.68\n",
       "13484   0.42    Ideal     E    VVS2   61.3   56.0  4.85  4.81  2.96\n",
       "\n",
       "[13485 rows x 9 columns]"
      ]
     },
     "execution_count": 57,
     "metadata": {},
     "output_type": "execute_result"
    }
   ],
   "source": [
    "diamonds_test=pd.read_csv(\"../input/test.csv\",index_col='id')\n",
    "diamonds_test"
   ]
  },
  {
   "cell_type": "code",
   "execution_count": 58,
   "metadata": {},
   "outputs": [],
   "source": [
    "# igual no es posible cargarse el ID"
   ]
  },
  {
   "cell_type": "code",
   "execution_count": 59,
   "metadata": {},
   "outputs": [],
   "source": [
    "\n",
    "def clean_transformed(df):\n",
    "    ''' applicable for test and data sets: transforms categorical variables cut, color and clarity, creates new variable volumen, drops x,y,z and \n",
    "        depth and table.\n",
    "    '''\n",
    "    df['cut']=df['cut'].map({'Fair':1,'Good':2,'Ideal':3,'Very Good':4,'Premium':5})\n",
    "    df['color']=df['color'].map({'E':1,'J':2,'D':3,'I':4,'H':5,'F':6,'G':7})\n",
    "    df['clarity']=df['clarity'].map({'I1':1,'SI1':2,'VVS1':3,'SI2':4,'VS2':5,'VS1':6,'VVS2':7,'IF':8})\n",
    "    df['volumen']=df['x']*df['y']*df['z']\n",
    "    df =df.drop(['x','y','z','depth','table'], axis=1)\n",
    "    return df\n",
    "    \n",
    "\n",
    "\n",
    "\n",
    "    "
   ]
  },
  {
   "cell_type": "code",
   "execution_count": 71,
   "metadata": {},
   "outputs": [
    {
     "data": {
      "text/html": [
       "<div>\n",
       "<style scoped>\n",
       "    .dataframe tbody tr th:only-of-type {\n",
       "        vertical-align: middle;\n",
       "    }\n",
       "\n",
       "    .dataframe tbody tr th {\n",
       "        vertical-align: top;\n",
       "    }\n",
       "\n",
       "    .dataframe thead th {\n",
       "        text-align: right;\n",
       "    }\n",
       "</style>\n",
       "<table border=\"1\" class=\"dataframe\">\n",
       "  <thead>\n",
       "    <tr style=\"text-align: right;\">\n",
       "      <th></th>\n",
       "      <th>carat</th>\n",
       "      <th>cut</th>\n",
       "      <th>color</th>\n",
       "      <th>clarity</th>\n",
       "      <th>volumen</th>\n",
       "    </tr>\n",
       "    <tr>\n",
       "      <th>id</th>\n",
       "      <th></th>\n",
       "      <th></th>\n",
       "      <th></th>\n",
       "      <th></th>\n",
       "      <th></th>\n",
       "    </tr>\n",
       "  </thead>\n",
       "  <tbody>\n",
       "    <tr>\n",
       "      <th>0</th>\n",
       "      <td>0.56</td>\n",
       "      <td>NaN</td>\n",
       "      <td>NaN</td>\n",
       "      <td>NaN</td>\n",
       "      <td>93.221700</td>\n",
       "    </tr>\n",
       "    <tr>\n",
       "      <th>1</th>\n",
       "      <td>1.05</td>\n",
       "      <td>NaN</td>\n",
       "      <td>NaN</td>\n",
       "      <td>NaN</td>\n",
       "      <td>173.223360</td>\n",
       "    </tr>\n",
       "    <tr>\n",
       "      <th>2</th>\n",
       "      <td>0.50</td>\n",
       "      <td>NaN</td>\n",
       "      <td>NaN</td>\n",
       "      <td>NaN</td>\n",
       "      <td>81.091101</td>\n",
       "    </tr>\n",
       "    <tr>\n",
       "      <th>3</th>\n",
       "      <td>0.80</td>\n",
       "      <td>NaN</td>\n",
       "      <td>NaN</td>\n",
       "      <td>NaN</td>\n",
       "      <td>131.384028</td>\n",
       "    </tr>\n",
       "    <tr>\n",
       "      <th>4</th>\n",
       "      <td>0.54</td>\n",
       "      <td>NaN</td>\n",
       "      <td>NaN</td>\n",
       "      <td>NaN</td>\n",
       "      <td>87.027200</td>\n",
       "    </tr>\n",
       "    <tr>\n",
       "      <th>...</th>\n",
       "      <td>...</td>\n",
       "      <td>...</td>\n",
       "      <td>...</td>\n",
       "      <td>...</td>\n",
       "      <td>...</td>\n",
       "    </tr>\n",
       "    <tr>\n",
       "      <th>13480</th>\n",
       "      <td>0.70</td>\n",
       "      <td>NaN</td>\n",
       "      <td>NaN</td>\n",
       "      <td>NaN</td>\n",
       "      <td>117.120304</td>\n",
       "    </tr>\n",
       "    <tr>\n",
       "      <th>13481</th>\n",
       "      <td>0.55</td>\n",
       "      <td>NaN</td>\n",
       "      <td>NaN</td>\n",
       "      <td>NaN</td>\n",
       "      <td>91.719607</td>\n",
       "    </tr>\n",
       "    <tr>\n",
       "      <th>13482</th>\n",
       "      <td>1.54</td>\n",
       "      <td>NaN</td>\n",
       "      <td>NaN</td>\n",
       "      <td>NaN</td>\n",
       "      <td>251.944100</td>\n",
       "    </tr>\n",
       "    <tr>\n",
       "      <th>13483</th>\n",
       "      <td>0.30</td>\n",
       "      <td>NaN</td>\n",
       "      <td>NaN</td>\n",
       "      <td>NaN</td>\n",
       "      <td>48.978072</td>\n",
       "    </tr>\n",
       "    <tr>\n",
       "      <th>13484</th>\n",
       "      <td>0.42</td>\n",
       "      <td>NaN</td>\n",
       "      <td>NaN</td>\n",
       "      <td>NaN</td>\n",
       "      <td>69.052360</td>\n",
       "    </tr>\n",
       "  </tbody>\n",
       "</table>\n",
       "<p>13485 rows × 5 columns</p>\n",
       "</div>"
      ],
      "text/plain": [
       "       carat  cut  color  clarity     volumen\n",
       "id                                           \n",
       "0       0.56  NaN    NaN      NaN   93.221700\n",
       "1       1.05  NaN    NaN      NaN  173.223360\n",
       "2       0.50  NaN    NaN      NaN   81.091101\n",
       "3       0.80  NaN    NaN      NaN  131.384028\n",
       "4       0.54  NaN    NaN      NaN   87.027200\n",
       "...      ...  ...    ...      ...         ...\n",
       "13480   0.70  NaN    NaN      NaN  117.120304\n",
       "13481   0.55  NaN    NaN      NaN   91.719607\n",
       "13482   1.54  NaN    NaN      NaN  251.944100\n",
       "13483   0.30  NaN    NaN      NaN   48.978072\n",
       "13484   0.42  NaN    NaN      NaN   69.052360\n",
       "\n",
       "[13485 rows x 5 columns]"
      ]
     },
     "execution_count": 71,
     "metadata": {},
     "output_type": "execute_result"
    }
   ],
   "source": [
    "#volver a tranformar la test para recuperar el index \n",
    "diamond_test_clean_transformed =clean_transformed(diamonds_test)\n",
    "diamond_test_clean_transformed"
   ]
  },
  {
   "cell_type": "code",
   "execution_count": 61,
   "metadata": {},
   "outputs": [],
   "source": [
    "mm_scaler = preprocessing.MinMaxScaler()\n",
    "mm_scaler.fit(diamonds_z)\n",
    "\n",
    "def applyscaleMinMax(df):\n",
    "    '''applicable to transform data and test set, prior fit has extracted parameters from data set '''\n",
    "    column_names= list(df)\n",
    "    df = mm_scaler.transform(df)\n",
    "    df = pd.DataFrame(df, columns=column_names)\n",
    "    return df"
   ]
  },
  {
   "cell_type": "code",
   "execution_count": 64,
   "metadata": {},
   "outputs": [
    {
     "ename": "ValueError",
     "evalue": "operands could not be broadcast together with shapes (13485,6) (9,) (13485,6) ",
     "output_type": "error",
     "traceback": [
      "\u001b[0;31m---------------------------------------------------------------------------\u001b[0m",
      "\u001b[0;31mValueError\u001b[0m                                Traceback (most recent call last)",
      "\u001b[0;32m<ipython-input-64-441dd4788481>\u001b[0m in \u001b[0;36m<module>\u001b[0;34m\u001b[0m\n\u001b[0;32m----> 1\u001b[0;31m \u001b[0mapplyscaleMinMax\u001b[0m\u001b[0;34m(\u001b[0m\u001b[0mdiamond_test_clean_transformed\u001b[0m\u001b[0;34m)\u001b[0m\u001b[0;34m\u001b[0m\u001b[0;34m\u001b[0m\u001b[0m\n\u001b[0m",
      "\u001b[0;32m<ipython-input-61-0272b09c46dd>\u001b[0m in \u001b[0;36mapplyscaleMinMax\u001b[0;34m(df)\u001b[0m\n\u001b[1;32m      5\u001b[0m     \u001b[0;34m'''applicable to transform data and test set, prior fit has extracted parameters from data set '''\u001b[0m\u001b[0;34m\u001b[0m\u001b[0;34m\u001b[0m\u001b[0m\n\u001b[1;32m      6\u001b[0m     \u001b[0mcolumn_names\u001b[0m\u001b[0;34m=\u001b[0m \u001b[0mlist\u001b[0m\u001b[0;34m(\u001b[0m\u001b[0mdf\u001b[0m\u001b[0;34m)\u001b[0m\u001b[0;34m\u001b[0m\u001b[0;34m\u001b[0m\u001b[0m\n\u001b[0;32m----> 7\u001b[0;31m     \u001b[0mdf\u001b[0m \u001b[0;34m=\u001b[0m \u001b[0mmm_scaler\u001b[0m\u001b[0;34m.\u001b[0m\u001b[0mtransform\u001b[0m\u001b[0;34m(\u001b[0m\u001b[0mdf\u001b[0m\u001b[0;34m)\u001b[0m\u001b[0;34m\u001b[0m\u001b[0;34m\u001b[0m\u001b[0m\n\u001b[0m\u001b[1;32m      8\u001b[0m     \u001b[0mdf\u001b[0m \u001b[0;34m=\u001b[0m \u001b[0mpd\u001b[0m\u001b[0;34m.\u001b[0m\u001b[0mDataFrame\u001b[0m\u001b[0;34m(\u001b[0m\u001b[0mdf\u001b[0m\u001b[0;34m,\u001b[0m \u001b[0mcolumns\u001b[0m\u001b[0;34m=\u001b[0m\u001b[0mcolumn_names\u001b[0m\u001b[0;34m)\u001b[0m\u001b[0;34m\u001b[0m\u001b[0;34m\u001b[0m\u001b[0m\n\u001b[1;32m      9\u001b[0m     \u001b[0;32mreturn\u001b[0m \u001b[0mdf\u001b[0m\u001b[0;34m\u001b[0m\u001b[0;34m\u001b[0m\u001b[0m\n",
      "\u001b[0;32m/usr/local/lib/python3.7/site-packages/sklearn/preprocessing/_data.py\u001b[0m in \u001b[0;36mtransform\u001b[0;34m(self, X)\u001b[0m\n\u001b[1;32m    412\u001b[0m                         force_all_finite=\"allow-nan\")\n\u001b[1;32m    413\u001b[0m \u001b[0;34m\u001b[0m\u001b[0m\n\u001b[0;32m--> 414\u001b[0;31m         \u001b[0mX\u001b[0m \u001b[0;34m*=\u001b[0m \u001b[0mself\u001b[0m\u001b[0;34m.\u001b[0m\u001b[0mscale_\u001b[0m\u001b[0;34m\u001b[0m\u001b[0;34m\u001b[0m\u001b[0m\n\u001b[0m\u001b[1;32m    415\u001b[0m         \u001b[0mX\u001b[0m \u001b[0;34m+=\u001b[0m \u001b[0mself\u001b[0m\u001b[0;34m.\u001b[0m\u001b[0mmin_\u001b[0m\u001b[0;34m\u001b[0m\u001b[0;34m\u001b[0m\u001b[0m\n\u001b[1;32m    416\u001b[0m         \u001b[0;32mreturn\u001b[0m \u001b[0mX\u001b[0m\u001b[0;34m\u001b[0m\u001b[0;34m\u001b[0m\u001b[0m\n",
      "\u001b[0;31mValueError\u001b[0m: operands could not be broadcast together with shapes (13485,6) (9,) (13485,6) "
     ]
    }
   ],
   "source": [
    "applyscaleMinMax(diamond_test_clean_transformed)"
   ]
  },
  {
   "cell_type": "code",
   "execution_count": 66,
   "metadata": {},
   "outputs": [
    {
     "data": {
      "text/plain": [
       "MinMaxScaler(copy=True, feature_range=(0, 1))"
      ]
     },
     "execution_count": 66,
     "metadata": {},
     "output_type": "execute_result"
    }
   ],
   "source": [
    "mm_scaler = preprocessing.MinMaxScaler()\n",
    "mm_scaler.fit(diamonds_z)"
   ]
  },
  {
   "cell_type": "code",
   "execution_count": null,
   "metadata": {},
   "outputs": [],
   "source": []
  },
  {
   "cell_type": "code",
   "execution_count": 68,
   "metadata": {},
   "outputs": [
    {
     "ename": "ValueError",
     "evalue": "operands could not be broadcast together with shapes (13485,6) (9,) (13485,6) ",
     "output_type": "error",
     "traceback": [
      "\u001b[0;31m---------------------------------------------------------------------------\u001b[0m",
      "\u001b[0;31mValueError\u001b[0m                                Traceback (most recent call last)",
      "\u001b[0;32m<ipython-input-68-1f88062b71cf>\u001b[0m in \u001b[0;36m<module>\u001b[0;34m\u001b[0m\n\u001b[0;32m----> 1\u001b[0;31m \u001b[0mmm_scaler\u001b[0m\u001b[0;34m.\u001b[0m\u001b[0mtransform\u001b[0m\u001b[0;34m(\u001b[0m\u001b[0mdiamond_test_clean_transformed\u001b[0m\u001b[0;34m)\u001b[0m\u001b[0;34m\u001b[0m\u001b[0;34m\u001b[0m\u001b[0m\n\u001b[0m",
      "\u001b[0;32m/usr/local/lib/python3.7/site-packages/sklearn/preprocessing/_data.py\u001b[0m in \u001b[0;36mtransform\u001b[0;34m(self, X)\u001b[0m\n\u001b[1;32m    412\u001b[0m                         force_all_finite=\"allow-nan\")\n\u001b[1;32m    413\u001b[0m \u001b[0;34m\u001b[0m\u001b[0m\n\u001b[0;32m--> 414\u001b[0;31m         \u001b[0mX\u001b[0m \u001b[0;34m*=\u001b[0m \u001b[0mself\u001b[0m\u001b[0;34m.\u001b[0m\u001b[0mscale_\u001b[0m\u001b[0;34m\u001b[0m\u001b[0;34m\u001b[0m\u001b[0m\n\u001b[0m\u001b[1;32m    415\u001b[0m         \u001b[0mX\u001b[0m \u001b[0;34m+=\u001b[0m \u001b[0mself\u001b[0m\u001b[0;34m.\u001b[0m\u001b[0mmin_\u001b[0m\u001b[0;34m\u001b[0m\u001b[0;34m\u001b[0m\u001b[0m\n\u001b[1;32m    416\u001b[0m         \u001b[0;32mreturn\u001b[0m \u001b[0mX\u001b[0m\u001b[0;34m\u001b[0m\u001b[0;34m\u001b[0m\u001b[0m\n",
      "\u001b[0;31mValueError\u001b[0m: operands could not be broadcast together with shapes (13485,6) (9,) (13485,6) "
     ]
    }
   ],
   "source": [
    "mm_scaler.transform(diamond_test_clean_transformed)"
   ]
  },
  {
   "cell_type": "code",
   "execution_count": 69,
   "metadata": {},
   "outputs": [
    {
     "data": {
      "text/plain": [
       "(13485, 6)"
      ]
     },
     "execution_count": 69,
     "metadata": {},
     "output_type": "execute_result"
    }
   ],
   "source": [
    "diamond_test_clean_transformed.shape"
   ]
  },
  {
   "cell_type": "code",
   "execution_count": null,
   "metadata": {},
   "outputs": [],
   "source": []
  },
  {
   "cell_type": "code",
   "execution_count": 70,
   "metadata": {},
   "outputs": [
    {
     "data": {
      "text/plain": [
       "(38890, 9)"
      ]
     },
     "execution_count": 70,
     "metadata": {},
     "output_type": "execute_result"
    }
   ],
   "source": [
    "diamonds_z.shape"
   ]
  },
  {
   "cell_type": "code",
   "execution_count": null,
   "metadata": {},
   "outputs": [],
   "source": []
  },
  {
   "cell_type": "code",
   "execution_count": null,
   "metadata": {},
   "outputs": [],
   "source": []
  },
  {
   "cell_type": "code",
   "execution_count": null,
   "metadata": {},
   "outputs": [],
   "source": []
  },
  {
   "cell_type": "code",
   "execution_count": null,
   "metadata": {},
   "outputs": [],
   "source": [
    "def remove_outliers(df):\n",
    "    '''only applicable to the data set NOT the test set'''\n",
    "    z = np.abs(stats.zscore(df))\n",
    "    df =df[(z<3).all(axis=1)]\n",
    "    return df\n",
    "    \n",
    "# to use a function to do the scalling to both data and test set, we must get the parameters from fitting \n",
    "# the data set AFTER treating it using the cleaned_transformed function and the remove_outliers\n",
    "# TRAIN corresponds to the data set after these two functions have transformed original data set\n",
    "\n",
    "mm_scaler = preprocessing.MinMaxScaler()\n",
    "mm_scaler.fit(TRAIN)\n",
    "\n",
    "def applyscaleMinMax(df):\n",
    "    '''applicable to transform data and test set, prior fit has extracted parameters from data set '''\n",
    "    column_names= list(df)\n",
    "    df = mm_scaler.transform(df)\n",
    "    df = pd.DataFrame(df, columns=column_names)\n",
    "    return df"
   ]
  },
  {
   "cell_type": "code",
   "execution_count": null,
   "metadata": {},
   "outputs": [],
   "source": []
  },
  {
   "cell_type": "code",
   "execution_count": null,
   "metadata": {},
   "outputs": [],
   "source": []
  },
  {
   "cell_type": "code",
   "execution_count": null,
   "metadata": {},
   "outputs": [],
   "source": []
  },
  {
   "cell_type": "code",
   "execution_count": null,
   "metadata": {},
   "outputs": [],
   "source": []
  },
  {
   "cell_type": "code",
   "execution_count": null,
   "metadata": {},
   "outputs": [],
   "source": []
  },
  {
   "cell_type": "code",
   "execution_count": null,
   "metadata": {},
   "outputs": [],
   "source": []
  },
  {
   "cell_type": "code",
   "execution_count": null,
   "metadata": {},
   "outputs": [],
   "source": []
  },
  {
   "cell_type": "code",
   "execution_count": null,
   "metadata": {},
   "outputs": [],
   "source": [
    "X=df.drop(['price'], axis=1)\n",
    "\n",
    "def modelling(df)\n",
    "    ''' defines returns the conclusions y predicted of models selected '''\n",
    "    \n",
    "    X=diamonds_z_scaler_mm_drop.drop(['price'],axis=1)\n",
    "    y=diamonds_z_scaler_mm_drop['price']\n",
    "\n",
    "    X_train, X_test, y_train, y_test = train_test_split(X,y, test_size=0.2)\n",
    "    models = {\n",
    "        \"decision_tree\": DecisionTreeRegressor(random_state = 0), #ok\n",
    "        \"forest\": RandomForestRegressor(n_estimators=100), #ok\n",
    "        \"neighbors\": KNeighborsRegressor(n_neighbors=2),#ok\n",
    "        \"gradient boosting\": GradientBoostingRegressor() #ok\n",
    "    \n",
    "        }\n",
    "\n",
    "    for modelName, model in models.items():\n",
    "        print(f\"Training model: {modelName}\")\n",
    "        model.fit(X_train, y_train)\n",
    "\n",
    "\n"
   ]
  },
  {
   "cell_type": "code",
   "execution_count": null,
   "metadata": {},
   "outputs": [],
   "source": []
  },
  {
   "cell_type": "code",
   "execution_count": null,
   "metadata": {},
   "outputs": [],
   "source": []
  },
  {
   "cell_type": "code",
   "execution_count": null,
   "metadata": {},
   "outputs": [],
   "source": []
  },
  {
   "cell_type": "code",
   "execution_count": null,
   "metadata": {},
   "outputs": [],
   "source": []
  },
  {
   "cell_type": "code",
   "execution_count": null,
   "metadata": {},
   "outputs": [],
   "source": []
  },
  {
   "cell_type": "code",
   "execution_count": null,
   "metadata": {},
   "outputs": [],
   "source": []
  }
 ],
 "metadata": {
  "kernelspec": {
   "display_name": "Python 3",
   "language": "python",
   "name": "python3"
  },
  "language_info": {
   "codemirror_mode": {
    "name": "ipython",
    "version": 3
   },
   "file_extension": ".py",
   "mimetype": "text/x-python",
   "name": "python",
   "nbconvert_exporter": "python",
   "pygments_lexer": "ipython3",
   "version": "3.7.5"
  }
 },
 "nbformat": 4,
 "nbformat_minor": 2
}
