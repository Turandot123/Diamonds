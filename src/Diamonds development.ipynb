{
 "cells": [
  {
   "cell_type": "code",
   "execution_count": 65,
   "metadata": {},
   "outputs": [],
   "source": [
    "import pandas as pd\n",
    "import re\n",
    "import numpy as np\n",
    "from sklearn import preprocessing\n",
    "import matplotlib.pyplot as plt\n",
    "import seaborn as sns\n",
    "from scipy import stats\n",
    "from sklearn.preprocessing import StandardScaler\n",
    "from sklearn.model_selection import train_test_split\n",
    "from sklearn.tree import DecisionTreeRegressor\n",
    "from sklearn.ensemble import RandomForestRegressor\n",
    "from sklearn import metrics \n"
   ]
  },
  {
   "cell_type": "code",
   "execution_count": 2,
   "metadata": {},
   "outputs": [
    {
     "data": {
      "text/html": [
       "<div>\n",
       "<style scoped>\n",
       "    .dataframe tbody tr th:only-of-type {\n",
       "        vertical-align: middle;\n",
       "    }\n",
       "\n",
       "    .dataframe tbody tr th {\n",
       "        vertical-align: top;\n",
       "    }\n",
       "\n",
       "    .dataframe thead th {\n",
       "        text-align: right;\n",
       "    }\n",
       "</style>\n",
       "<table border=\"1\" class=\"dataframe\">\n",
       "  <thead>\n",
       "    <tr style=\"text-align: right;\">\n",
       "      <th></th>\n",
       "      <th>carat</th>\n",
       "      <th>cut</th>\n",
       "      <th>color</th>\n",
       "      <th>clarity</th>\n",
       "      <th>depth</th>\n",
       "      <th>table</th>\n",
       "      <th>x</th>\n",
       "      <th>y</th>\n",
       "      <th>z</th>\n",
       "      <th>price</th>\n",
       "    </tr>\n",
       "  </thead>\n",
       "  <tbody>\n",
       "    <tr>\n",
       "      <th>0</th>\n",
       "      <td>2.26</td>\n",
       "      <td>Ideal</td>\n",
       "      <td>G</td>\n",
       "      <td>SI2</td>\n",
       "      <td>61.9</td>\n",
       "      <td>57.0</td>\n",
       "      <td>8.44</td>\n",
       "      <td>8.36</td>\n",
       "      <td>5.20</td>\n",
       "      <td>12831</td>\n",
       "    </tr>\n",
       "    <tr>\n",
       "      <th>1</th>\n",
       "      <td>2.43</td>\n",
       "      <td>Very Good</td>\n",
       "      <td>H</td>\n",
       "      <td>SI2</td>\n",
       "      <td>63.2</td>\n",
       "      <td>57.0</td>\n",
       "      <td>8.56</td>\n",
       "      <td>8.50</td>\n",
       "      <td>5.39</td>\n",
       "      <td>16170</td>\n",
       "    </tr>\n",
       "    <tr>\n",
       "      <th>2</th>\n",
       "      <td>0.80</td>\n",
       "      <td>Premium</td>\n",
       "      <td>F</td>\n",
       "      <td>SI2</td>\n",
       "      <td>61.0</td>\n",
       "      <td>57.0</td>\n",
       "      <td>6.03</td>\n",
       "      <td>6.01</td>\n",
       "      <td>3.67</td>\n",
       "      <td>2797</td>\n",
       "    </tr>\n",
       "    <tr>\n",
       "      <th>3</th>\n",
       "      <td>0.40</td>\n",
       "      <td>Ideal</td>\n",
       "      <td>F</td>\n",
       "      <td>I1</td>\n",
       "      <td>63.3</td>\n",
       "      <td>60.0</td>\n",
       "      <td>4.68</td>\n",
       "      <td>4.64</td>\n",
       "      <td>2.95</td>\n",
       "      <td>630</td>\n",
       "    </tr>\n",
       "    <tr>\n",
       "      <th>4</th>\n",
       "      <td>0.31</td>\n",
       "      <td>Ideal</td>\n",
       "      <td>G</td>\n",
       "      <td>VS2</td>\n",
       "      <td>61.6</td>\n",
       "      <td>55.0</td>\n",
       "      <td>4.39</td>\n",
       "      <td>4.37</td>\n",
       "      <td>2.70</td>\n",
       "      <td>698</td>\n",
       "    </tr>\n",
       "    <tr>\n",
       "      <th>5</th>\n",
       "      <td>0.53</td>\n",
       "      <td>Very Good</td>\n",
       "      <td>F</td>\n",
       "      <td>SI2</td>\n",
       "      <td>60.5</td>\n",
       "      <td>60.0</td>\n",
       "      <td>5.19</td>\n",
       "      <td>5.23</td>\n",
       "      <td>3.15</td>\n",
       "      <td>1132</td>\n",
       "    </tr>\n",
       "    <tr>\n",
       "      <th>6</th>\n",
       "      <td>0.70</td>\n",
       "      <td>Premium</td>\n",
       "      <td>D</td>\n",
       "      <td>SI2</td>\n",
       "      <td>60.8</td>\n",
       "      <td>61.0</td>\n",
       "      <td>5.69</td>\n",
       "      <td>5.64</td>\n",
       "      <td>3.45</td>\n",
       "      <td>1987</td>\n",
       "    </tr>\n",
       "    <tr>\n",
       "      <th>7</th>\n",
       "      <td>1.13</td>\n",
       "      <td>Good</td>\n",
       "      <td>F</td>\n",
       "      <td>SI2</td>\n",
       "      <td>64.0</td>\n",
       "      <td>58.0</td>\n",
       "      <td>6.52</td>\n",
       "      <td>6.58</td>\n",
       "      <td>4.19</td>\n",
       "      <td>3952</td>\n",
       "    </tr>\n",
       "    <tr>\n",
       "      <th>8</th>\n",
       "      <td>0.35</td>\n",
       "      <td>Ideal</td>\n",
       "      <td>E</td>\n",
       "      <td>SI1</td>\n",
       "      <td>60.9</td>\n",
       "      <td>55.0</td>\n",
       "      <td>4.53</td>\n",
       "      <td>4.57</td>\n",
       "      <td>2.77</td>\n",
       "      <td>614</td>\n",
       "    </tr>\n",
       "    <tr>\n",
       "      <th>9</th>\n",
       "      <td>1.01</td>\n",
       "      <td>Fair</td>\n",
       "      <td>H</td>\n",
       "      <td>VS1</td>\n",
       "      <td>61.4</td>\n",
       "      <td>66.0</td>\n",
       "      <td>6.34</td>\n",
       "      <td>6.24</td>\n",
       "      <td>3.87</td>\n",
       "      <td>5062</td>\n",
       "    </tr>\n",
       "  </tbody>\n",
       "</table>\n",
       "</div>"
      ],
      "text/plain": [
       "   carat        cut color clarity  depth  table     x     y     z  price\n",
       "0   2.26      Ideal     G     SI2   61.9   57.0  8.44  8.36  5.20  12831\n",
       "1   2.43  Very Good     H     SI2   63.2   57.0  8.56  8.50  5.39  16170\n",
       "2   0.80    Premium     F     SI2   61.0   57.0  6.03  6.01  3.67   2797\n",
       "3   0.40      Ideal     F      I1   63.3   60.0  4.68  4.64  2.95    630\n",
       "4   0.31      Ideal     G     VS2   61.6   55.0  4.39  4.37  2.70    698\n",
       "5   0.53  Very Good     F     SI2   60.5   60.0  5.19  5.23  3.15   1132\n",
       "6   0.70    Premium     D     SI2   60.8   61.0  5.69  5.64  3.45   1987\n",
       "7   1.13       Good     F     SI2   64.0   58.0  6.52  6.58  4.19   3952\n",
       "8   0.35      Ideal     E     SI1   60.9   55.0  4.53  4.57  2.77    614\n",
       "9   1.01       Fair     H     VS1   61.4   66.0  6.34  6.24  3.87   5062"
      ]
     },
     "metadata": {},
     "output_type": "display_data"
    }
   ],
   "source": [
    "diamonds=pd.read_csv(\"../input/data.csv\")\n",
    "display(diamonds.head(10))"
   ]
  },
  {
   "cell_type": "code",
   "execution_count": 3,
   "metadata": {},
   "outputs": [
    {
     "data": {
      "text/plain": [
       "Index(['carat', 'cut', 'color', 'clarity', 'depth', 'table', 'x', 'y', 'z',\n",
       "       'price'],\n",
       "      dtype='object')"
      ]
     },
     "execution_count": 3,
     "metadata": {},
     "output_type": "execute_result"
    }
   ],
   "source": [
    "diamonds.columns"
   ]
  },
  {
   "cell_type": "code",
   "execution_count": 4,
   "metadata": {},
   "outputs": [
    {
     "data": {
      "text/plain": [
       "carat      float64\n",
       "cut         object\n",
       "color       object\n",
       "clarity     object\n",
       "depth      float64\n",
       "table      float64\n",
       "x          float64\n",
       "y          float64\n",
       "z          float64\n",
       "price        int64\n",
       "dtype: object"
      ]
     },
     "execution_count": 4,
     "metadata": {},
     "output_type": "execute_result"
    }
   ],
   "source": [
    "diamonds.dtypes"
   ]
  },
  {
   "cell_type": "code",
   "execution_count": 5,
   "metadata": {},
   "outputs": [
    {
     "name": "stdout",
     "output_type": "stream",
     "text": [
      "<class 'pandas.core.frame.DataFrame'>\n",
      "RangeIndex: 40455 entries, 0 to 40454\n",
      "Data columns (total 10 columns):\n",
      "carat      40455 non-null float64\n",
      "cut        40455 non-null object\n",
      "color      40455 non-null object\n",
      "clarity    40455 non-null object\n",
      "depth      40455 non-null float64\n",
      "table      40455 non-null float64\n",
      "x          40455 non-null float64\n",
      "y          40455 non-null float64\n",
      "z          40455 non-null float64\n",
      "price      40455 non-null int64\n",
      "dtypes: float64(6), int64(1), object(3)\n",
      "memory usage: 3.1+ MB\n"
     ]
    }
   ],
   "source": [
    "diamonds.info()\n",
    "#More powerful than dtypes in terms of information you can quickly grassp"
   ]
  },
  {
   "cell_type": "code",
   "execution_count": 6,
   "metadata": {},
   "outputs": [],
   "source": [
    "#diamonds.isnull().sum()"
   ]
  },
  {
   "cell_type": "code",
   "execution_count": 7,
   "metadata": {},
   "outputs": [
    {
     "name": "stdout",
     "output_type": "stream",
     "text": [
      "Cut:  {'Ideal', 'Good', 'Very Good', 'Premium', 'Fair'}\n",
      "Color:  {'G', 'H', 'D', 'E', 'J', 'F', 'I'}\n",
      "Clarity:  {'IF', 'SI2', 'VVS1', 'I1', 'VS1', 'SI1', 'VS2', 'VVS2'}\n"
     ]
    }
   ],
   "source": [
    "#looking at all the variables which are objects cut, color, clarity\n",
    "\n",
    "print(\"Cut: \",set(diamonds[\"cut\"]))\n",
    "print(\"Color: \",set(diamonds[\"color\"]))\n",
    "print(\"Clarity: \",set(diamonds[\"clarity\"]))\n",
    "\n",
    "# I have to process these variables somehow before training a model. Not sure if I should keep color"
   ]
  },
  {
   "cell_type": "code",
   "execution_count": 8,
   "metadata": {},
   "outputs": [
    {
     "data": {
      "text/plain": [
       "(40455, 10)"
      ]
     },
     "execution_count": 8,
     "metadata": {},
     "output_type": "execute_result"
    }
   ],
   "source": [
    "diamonds.shape\n"
   ]
  },
  {
   "cell_type": "code",
   "execution_count": 9,
   "metadata": {},
   "outputs": [
    {
     "name": "stdout",
     "output_type": "stream",
     "text": [
      " model has 40455 rows and 10 columns and non nulls\n"
     ]
    }
   ],
   "source": [
    "print(f' model has {diamonds.shape[0]} rows and {diamonds.shape[1]} columns and non nulls')"
   ]
  },
  {
   "cell_type": "code",
   "execution_count": 10,
   "metadata": {},
   "outputs": [],
   "source": [
    "diamonds['price/wt']=diamonds['price']/diamonds['carat']"
   ]
  },
  {
   "cell_type": "code",
   "execution_count": 11,
   "metadata": {},
   "outputs": [
    {
     "data": {
      "text/html": [
       "<div>\n",
       "<style scoped>\n",
       "    .dataframe tbody tr th:only-of-type {\n",
       "        vertical-align: middle;\n",
       "    }\n",
       "\n",
       "    .dataframe tbody tr th {\n",
       "        vertical-align: top;\n",
       "    }\n",
       "\n",
       "    .dataframe thead th {\n",
       "        text-align: right;\n",
       "    }\n",
       "</style>\n",
       "<table border=\"1\" class=\"dataframe\">\n",
       "  <thead>\n",
       "    <tr style=\"text-align: right;\">\n",
       "      <th></th>\n",
       "      <th>carat</th>\n",
       "      <th>cut</th>\n",
       "      <th>color</th>\n",
       "      <th>clarity</th>\n",
       "      <th>depth</th>\n",
       "      <th>table</th>\n",
       "      <th>x</th>\n",
       "      <th>y</th>\n",
       "      <th>z</th>\n",
       "      <th>price</th>\n",
       "      <th>price/wt</th>\n",
       "    </tr>\n",
       "  </thead>\n",
       "  <tbody>\n",
       "    <tr>\n",
       "      <th>0</th>\n",
       "      <td>2.26</td>\n",
       "      <td>Ideal</td>\n",
       "      <td>G</td>\n",
       "      <td>SI2</td>\n",
       "      <td>61.9</td>\n",
       "      <td>57.0</td>\n",
       "      <td>8.44</td>\n",
       "      <td>8.36</td>\n",
       "      <td>5.20</td>\n",
       "      <td>12831</td>\n",
       "      <td>5677.433628</td>\n",
       "    </tr>\n",
       "    <tr>\n",
       "      <th>1</th>\n",
       "      <td>2.43</td>\n",
       "      <td>Very Good</td>\n",
       "      <td>H</td>\n",
       "      <td>SI2</td>\n",
       "      <td>63.2</td>\n",
       "      <td>57.0</td>\n",
       "      <td>8.56</td>\n",
       "      <td>8.50</td>\n",
       "      <td>5.39</td>\n",
       "      <td>16170</td>\n",
       "      <td>6654.320988</td>\n",
       "    </tr>\n",
       "    <tr>\n",
       "      <th>2</th>\n",
       "      <td>0.80</td>\n",
       "      <td>Premium</td>\n",
       "      <td>F</td>\n",
       "      <td>SI2</td>\n",
       "      <td>61.0</td>\n",
       "      <td>57.0</td>\n",
       "      <td>6.03</td>\n",
       "      <td>6.01</td>\n",
       "      <td>3.67</td>\n",
       "      <td>2797</td>\n",
       "      <td>3496.250000</td>\n",
       "    </tr>\n",
       "    <tr>\n",
       "      <th>3</th>\n",
       "      <td>0.40</td>\n",
       "      <td>Ideal</td>\n",
       "      <td>F</td>\n",
       "      <td>I1</td>\n",
       "      <td>63.3</td>\n",
       "      <td>60.0</td>\n",
       "      <td>4.68</td>\n",
       "      <td>4.64</td>\n",
       "      <td>2.95</td>\n",
       "      <td>630</td>\n",
       "      <td>1575.000000</td>\n",
       "    </tr>\n",
       "    <tr>\n",
       "      <th>4</th>\n",
       "      <td>0.31</td>\n",
       "      <td>Ideal</td>\n",
       "      <td>G</td>\n",
       "      <td>VS2</td>\n",
       "      <td>61.6</td>\n",
       "      <td>55.0</td>\n",
       "      <td>4.39</td>\n",
       "      <td>4.37</td>\n",
       "      <td>2.70</td>\n",
       "      <td>698</td>\n",
       "      <td>2251.612903</td>\n",
       "    </tr>\n",
       "    <tr>\n",
       "      <th>5</th>\n",
       "      <td>0.53</td>\n",
       "      <td>Very Good</td>\n",
       "      <td>F</td>\n",
       "      <td>SI2</td>\n",
       "      <td>60.5</td>\n",
       "      <td>60.0</td>\n",
       "      <td>5.19</td>\n",
       "      <td>5.23</td>\n",
       "      <td>3.15</td>\n",
       "      <td>1132</td>\n",
       "      <td>2135.849057</td>\n",
       "    </tr>\n",
       "    <tr>\n",
       "      <th>6</th>\n",
       "      <td>0.70</td>\n",
       "      <td>Premium</td>\n",
       "      <td>D</td>\n",
       "      <td>SI2</td>\n",
       "      <td>60.8</td>\n",
       "      <td>61.0</td>\n",
       "      <td>5.69</td>\n",
       "      <td>5.64</td>\n",
       "      <td>3.45</td>\n",
       "      <td>1987</td>\n",
       "      <td>2838.571429</td>\n",
       "    </tr>\n",
       "    <tr>\n",
       "      <th>7</th>\n",
       "      <td>1.13</td>\n",
       "      <td>Good</td>\n",
       "      <td>F</td>\n",
       "      <td>SI2</td>\n",
       "      <td>64.0</td>\n",
       "      <td>58.0</td>\n",
       "      <td>6.52</td>\n",
       "      <td>6.58</td>\n",
       "      <td>4.19</td>\n",
       "      <td>3952</td>\n",
       "      <td>3497.345133</td>\n",
       "    </tr>\n",
       "    <tr>\n",
       "      <th>8</th>\n",
       "      <td>0.35</td>\n",
       "      <td>Ideal</td>\n",
       "      <td>E</td>\n",
       "      <td>SI1</td>\n",
       "      <td>60.9</td>\n",
       "      <td>55.0</td>\n",
       "      <td>4.53</td>\n",
       "      <td>4.57</td>\n",
       "      <td>2.77</td>\n",
       "      <td>614</td>\n",
       "      <td>1754.285714</td>\n",
       "    </tr>\n",
       "    <tr>\n",
       "      <th>9</th>\n",
       "      <td>1.01</td>\n",
       "      <td>Fair</td>\n",
       "      <td>H</td>\n",
       "      <td>VS1</td>\n",
       "      <td>61.4</td>\n",
       "      <td>66.0</td>\n",
       "      <td>6.34</td>\n",
       "      <td>6.24</td>\n",
       "      <td>3.87</td>\n",
       "      <td>5062</td>\n",
       "      <td>5011.881188</td>\n",
       "    </tr>\n",
       "  </tbody>\n",
       "</table>\n",
       "</div>"
      ],
      "text/plain": [
       "   carat        cut color clarity  depth  table     x     y     z  price  \\\n",
       "0   2.26      Ideal     G     SI2   61.9   57.0  8.44  8.36  5.20  12831   \n",
       "1   2.43  Very Good     H     SI2   63.2   57.0  8.56  8.50  5.39  16170   \n",
       "2   0.80    Premium     F     SI2   61.0   57.0  6.03  6.01  3.67   2797   \n",
       "3   0.40      Ideal     F      I1   63.3   60.0  4.68  4.64  2.95    630   \n",
       "4   0.31      Ideal     G     VS2   61.6   55.0  4.39  4.37  2.70    698   \n",
       "5   0.53  Very Good     F     SI2   60.5   60.0  5.19  5.23  3.15   1132   \n",
       "6   0.70    Premium     D     SI2   60.8   61.0  5.69  5.64  3.45   1987   \n",
       "7   1.13       Good     F     SI2   64.0   58.0  6.52  6.58  4.19   3952   \n",
       "8   0.35      Ideal     E     SI1   60.9   55.0  4.53  4.57  2.77    614   \n",
       "9   1.01       Fair     H     VS1   61.4   66.0  6.34  6.24  3.87   5062   \n",
       "\n",
       "      price/wt  \n",
       "0  5677.433628  \n",
       "1  6654.320988  \n",
       "2  3496.250000  \n",
       "3  1575.000000  \n",
       "4  2251.612903  \n",
       "5  2135.849057  \n",
       "6  2838.571429  \n",
       "7  3497.345133  \n",
       "8  1754.285714  \n",
       "9  5011.881188  "
      ]
     },
     "execution_count": 11,
     "metadata": {},
     "output_type": "execute_result"
    }
   ],
   "source": [
    "diamonds.head(10)"
   ]
  },
  {
   "cell_type": "code",
   "execution_count": 12,
   "metadata": {},
   "outputs": [
    {
     "name": "stdout",
     "output_type": "stream",
     "text": [
      "cut\n",
      "Fair         3737.468421\n",
      "Good         3873.241694\n",
      "Ideal        3922.272721\n",
      "Very Good    4011.693218\n",
      "Premium      4223.619019\n",
      "Name: price/wt, dtype: float64\n"
     ]
    }
   ],
   "source": [
    "print(diamonds.groupby('cut')['price/wt'].mean().sort_values())"
   ]
  },
  {
   "cell_type": "code",
   "execution_count": 13,
   "metadata": {},
   "outputs": [
    {
     "name": "stdout",
     "output_type": "stream",
     "text": [
      "color\n",
      "E    3787.426635\n",
      "J    3826.604761\n",
      "D    3948.783704\n",
      "I    4000.546520\n",
      "H    4016.204136\n",
      "F    4129.482925\n",
      "G    4182.615921\n",
      "Name: price/wt, dtype: float64\n",
      "clarity\n",
      "I1      2776.012219\n",
      "SI1     3856.733909\n",
      "VVS1    3860.279651\n",
      "SI2     4015.902895\n",
      "VS2     4080.272657\n",
      "VS1     4143.406705\n",
      "VVS2    4198.660097\n",
      "IF      4276.867594\n",
      "Name: price/wt, dtype: float64\n"
     ]
    }
   ],
   "source": [
    "print(diamonds.groupby('color')['price/wt'].mean().sort_values())\n",
    "print(diamonds.groupby('clarity')['price/wt'].mean().sort_values())\n"
   ]
  },
  {
   "cell_type": "code",
   "execution_count": 14,
   "metadata": {},
   "outputs": [],
   "source": [
    "#delete the column create to analyse how important are categorical variables\n",
    "diamonds = diamonds.drop(['price/wt','table'], axis=1)"
   ]
  },
  {
   "cell_type": "code",
   "execution_count": 15,
   "metadata": {},
   "outputs": [],
   "source": [
    "#all categorical variables are relevant and have an impact in prices per carat thus I cannot delete anyone for now"
   ]
  },
  {
   "cell_type": "code",
   "execution_count": 16,
   "metadata": {},
   "outputs": [
    {
     "data": {
      "text/plain": [
       "array(['Ideal', 'Very Good', 'Premium', 'Good', 'Fair'], dtype=object)"
      ]
     },
     "execution_count": 16,
     "metadata": {},
     "output_type": "execute_result"
    }
   ],
   "source": [
    "diamonds['cut'].unique()"
   ]
  },
  {
   "cell_type": "code",
   "execution_count": 17,
   "metadata": {},
   "outputs": [
    {
     "data": {
      "text/plain": [
       "array(['G', 'H', 'F', 'D', 'E', 'I', 'J'], dtype=object)"
      ]
     },
     "execution_count": 17,
     "metadata": {},
     "output_type": "execute_result"
    }
   ],
   "source": [
    "diamonds['color'].unique()"
   ]
  },
  {
   "cell_type": "code",
   "execution_count": 18,
   "metadata": {},
   "outputs": [
    {
     "data": {
      "text/plain": [
       "array(['SI2', 'I1', 'VS2', 'SI1', 'VS1', 'VVS2', 'IF', 'VVS1'],\n",
       "      dtype=object)"
      ]
     },
     "execution_count": 18,
     "metadata": {},
     "output_type": "execute_result"
    }
   ],
   "source": [
    "diamonds['clarity'].unique()"
   ]
  },
  {
   "cell_type": "code",
   "execution_count": 19,
   "metadata": {},
   "outputs": [],
   "source": [
    "#converting categorical into numerical \n",
    "#using method ordinal encoding based on information \n",
    "diamonds['cut']=diamonds['cut'].map({'Fair':1,'Good':2,'Ideal':3,'Very Good':4,'Premium':5})\n",
    "diamonds['color']=diamonds['color'].map({'E':1,'J':2,'D':3,'I':4,'H':5,'F':6,'G':7})\n",
    "diamonds['clarity']=diamonds['clarity'].map({'I1':1,'SI1':2,'VVS1':3,'SI2':4,'VS2':5,'VS1':6,'VVS2':7,'IF':8})"
   ]
  },
  {
   "cell_type": "code",
   "execution_count": 20,
   "metadata": {},
   "outputs": [],
   "source": [
    "\n",
    "# WARNING !!!!!!!\n",
    "# create a new method of categorical to numerical using mean \n",
    "# and the other ordinal but with industry relevancy regarding cut, color, clarity\n",
    "\n"
   ]
  },
  {
   "cell_type": "code",
   "execution_count": 21,
   "metadata": {},
   "outputs": [
    {
     "data": {
      "text/html": [
       "<div>\n",
       "<style scoped>\n",
       "    .dataframe tbody tr th:only-of-type {\n",
       "        vertical-align: middle;\n",
       "    }\n",
       "\n",
       "    .dataframe tbody tr th {\n",
       "        vertical-align: top;\n",
       "    }\n",
       "\n",
       "    .dataframe thead th {\n",
       "        text-align: right;\n",
       "    }\n",
       "</style>\n",
       "<table border=\"1\" class=\"dataframe\">\n",
       "  <thead>\n",
       "    <tr style=\"text-align: right;\">\n",
       "      <th></th>\n",
       "      <th>carat</th>\n",
       "      <th>cut</th>\n",
       "      <th>color</th>\n",
       "      <th>clarity</th>\n",
       "      <th>depth</th>\n",
       "      <th>x</th>\n",
       "      <th>y</th>\n",
       "      <th>z</th>\n",
       "      <th>price</th>\n",
       "    </tr>\n",
       "  </thead>\n",
       "  <tbody>\n",
       "    <tr>\n",
       "      <th>0</th>\n",
       "      <td>2.26</td>\n",
       "      <td>3</td>\n",
       "      <td>7</td>\n",
       "      <td>4</td>\n",
       "      <td>61.9</td>\n",
       "      <td>8.44</td>\n",
       "      <td>8.36</td>\n",
       "      <td>5.20</td>\n",
       "      <td>12831</td>\n",
       "    </tr>\n",
       "    <tr>\n",
       "      <th>1</th>\n",
       "      <td>2.43</td>\n",
       "      <td>4</td>\n",
       "      <td>5</td>\n",
       "      <td>4</td>\n",
       "      <td>63.2</td>\n",
       "      <td>8.56</td>\n",
       "      <td>8.50</td>\n",
       "      <td>5.39</td>\n",
       "      <td>16170</td>\n",
       "    </tr>\n",
       "    <tr>\n",
       "      <th>2</th>\n",
       "      <td>0.80</td>\n",
       "      <td>5</td>\n",
       "      <td>6</td>\n",
       "      <td>4</td>\n",
       "      <td>61.0</td>\n",
       "      <td>6.03</td>\n",
       "      <td>6.01</td>\n",
       "      <td>3.67</td>\n",
       "      <td>2797</td>\n",
       "    </tr>\n",
       "    <tr>\n",
       "      <th>3</th>\n",
       "      <td>0.40</td>\n",
       "      <td>3</td>\n",
       "      <td>6</td>\n",
       "      <td>1</td>\n",
       "      <td>63.3</td>\n",
       "      <td>4.68</td>\n",
       "      <td>4.64</td>\n",
       "      <td>2.95</td>\n",
       "      <td>630</td>\n",
       "    </tr>\n",
       "    <tr>\n",
       "      <th>4</th>\n",
       "      <td>0.31</td>\n",
       "      <td>3</td>\n",
       "      <td>7</td>\n",
       "      <td>5</td>\n",
       "      <td>61.6</td>\n",
       "      <td>4.39</td>\n",
       "      <td>4.37</td>\n",
       "      <td>2.70</td>\n",
       "      <td>698</td>\n",
       "    </tr>\n",
       "    <tr>\n",
       "      <th>...</th>\n",
       "      <td>...</td>\n",
       "      <td>...</td>\n",
       "      <td>...</td>\n",
       "      <td>...</td>\n",
       "      <td>...</td>\n",
       "      <td>...</td>\n",
       "      <td>...</td>\n",
       "      <td>...</td>\n",
       "      <td>...</td>\n",
       "    </tr>\n",
       "    <tr>\n",
       "      <th>40450</th>\n",
       "      <td>1.11</td>\n",
       "      <td>5</td>\n",
       "      <td>5</td>\n",
       "      <td>2</td>\n",
       "      <td>62.8</td>\n",
       "      <td>6.63</td>\n",
       "      <td>6.56</td>\n",
       "      <td>4.14</td>\n",
       "      <td>5315</td>\n",
       "    </tr>\n",
       "    <tr>\n",
       "      <th>40451</th>\n",
       "      <td>0.73</td>\n",
       "      <td>3</td>\n",
       "      <td>6</td>\n",
       "      <td>5</td>\n",
       "      <td>62.6</td>\n",
       "      <td>5.77</td>\n",
       "      <td>5.74</td>\n",
       "      <td>3.60</td>\n",
       "      <td>2762</td>\n",
       "    </tr>\n",
       "    <tr>\n",
       "      <th>40452</th>\n",
       "      <td>1.26</td>\n",
       "      <td>4</td>\n",
       "      <td>4</td>\n",
       "      <td>6</td>\n",
       "      <td>59.2</td>\n",
       "      <td>7.09</td>\n",
       "      <td>7.02</td>\n",
       "      <td>4.18</td>\n",
       "      <td>6855</td>\n",
       "    </tr>\n",
       "    <tr>\n",
       "      <th>40453</th>\n",
       "      <td>0.72</td>\n",
       "      <td>3</td>\n",
       "      <td>7</td>\n",
       "      <td>4</td>\n",
       "      <td>61.4</td>\n",
       "      <td>5.76</td>\n",
       "      <td>5.83</td>\n",
       "      <td>3.56</td>\n",
       "      <td>2297</td>\n",
       "    </tr>\n",
       "    <tr>\n",
       "      <th>40454</th>\n",
       "      <td>0.54</td>\n",
       "      <td>5</td>\n",
       "      <td>7</td>\n",
       "      <td>2</td>\n",
       "      <td>60.8</td>\n",
       "      <td>5.27</td>\n",
       "      <td>5.23</td>\n",
       "      <td>3.19</td>\n",
       "      <td>1356</td>\n",
       "    </tr>\n",
       "  </tbody>\n",
       "</table>\n",
       "<p>40455 rows × 9 columns</p>\n",
       "</div>"
      ],
      "text/plain": [
       "       carat  cut  color  clarity  depth     x     y     z  price\n",
       "0       2.26    3      7        4   61.9  8.44  8.36  5.20  12831\n",
       "1       2.43    4      5        4   63.2  8.56  8.50  5.39  16170\n",
       "2       0.80    5      6        4   61.0  6.03  6.01  3.67   2797\n",
       "3       0.40    3      6        1   63.3  4.68  4.64  2.95    630\n",
       "4       0.31    3      7        5   61.6  4.39  4.37  2.70    698\n",
       "...      ...  ...    ...      ...    ...   ...   ...   ...    ...\n",
       "40450   1.11    5      5        2   62.8  6.63  6.56  4.14   5315\n",
       "40451   0.73    3      6        5   62.6  5.77  5.74  3.60   2762\n",
       "40452   1.26    4      4        6   59.2  7.09  7.02  4.18   6855\n",
       "40453   0.72    3      7        4   61.4  5.76  5.83  3.56   2297\n",
       "40454   0.54    5      7        2   60.8  5.27  5.23  3.19   1356\n",
       "\n",
       "[40455 rows x 9 columns]"
      ]
     },
     "execution_count": 21,
     "metadata": {},
     "output_type": "execute_result"
    }
   ],
   "source": [
    "diamonds"
   ]
  },
  {
   "cell_type": "code",
   "execution_count": 22,
   "metadata": {},
   "outputs": [
    {
     "data": {
      "text/html": [
       "<div>\n",
       "<style scoped>\n",
       "    .dataframe tbody tr th:only-of-type {\n",
       "        vertical-align: middle;\n",
       "    }\n",
       "\n",
       "    .dataframe tbody tr th {\n",
       "        vertical-align: top;\n",
       "    }\n",
       "\n",
       "    .dataframe thead th {\n",
       "        text-align: right;\n",
       "    }\n",
       "</style>\n",
       "<table border=\"1\" class=\"dataframe\">\n",
       "  <thead>\n",
       "    <tr style=\"text-align: right;\">\n",
       "      <th></th>\n",
       "      <th>carat</th>\n",
       "      <th>cut</th>\n",
       "      <th>color</th>\n",
       "      <th>clarity</th>\n",
       "      <th>depth</th>\n",
       "      <th>x</th>\n",
       "      <th>y</th>\n",
       "      <th>z</th>\n",
       "      <th>price</th>\n",
       "    </tr>\n",
       "  </thead>\n",
       "  <tbody>\n",
       "    <tr>\n",
       "      <th>count</th>\n",
       "      <td>40455.000000</td>\n",
       "      <td>40455.000000</td>\n",
       "      <td>40455.000000</td>\n",
       "      <td>40455.000000</td>\n",
       "      <td>40455.000000</td>\n",
       "      <td>40455.000000</td>\n",
       "      <td>40455.000000</td>\n",
       "      <td>40455.000000</td>\n",
       "      <td>40455.000000</td>\n",
       "    </tr>\n",
       "    <tr>\n",
       "      <th>mean</th>\n",
       "      <td>0.798385</td>\n",
       "      <td>3.589025</td>\n",
       "      <td>4.365023</td>\n",
       "      <td>4.356099</td>\n",
       "      <td>61.747932</td>\n",
       "      <td>5.732041</td>\n",
       "      <td>5.735939</td>\n",
       "      <td>3.539537</td>\n",
       "      <td>3939.242813</td>\n",
       "    </tr>\n",
       "    <tr>\n",
       "      <th>std</th>\n",
       "      <td>0.474353</td>\n",
       "      <td>1.054400</td>\n",
       "      <td>2.141903</td>\n",
       "      <td>1.803355</td>\n",
       "      <td>1.432322</td>\n",
       "      <td>1.123169</td>\n",
       "      <td>1.152802</td>\n",
       "      <td>0.709709</td>\n",
       "      <td>4000.344155</td>\n",
       "    </tr>\n",
       "    <tr>\n",
       "      <th>min</th>\n",
       "      <td>0.200000</td>\n",
       "      <td>1.000000</td>\n",
       "      <td>1.000000</td>\n",
       "      <td>1.000000</td>\n",
       "      <td>43.000000</td>\n",
       "      <td>0.000000</td>\n",
       "      <td>0.000000</td>\n",
       "      <td>0.000000</td>\n",
       "      <td>326.000000</td>\n",
       "    </tr>\n",
       "    <tr>\n",
       "      <th>25%</th>\n",
       "      <td>0.400000</td>\n",
       "      <td>3.000000</td>\n",
       "      <td>3.000000</td>\n",
       "      <td>2.000000</td>\n",
       "      <td>61.000000</td>\n",
       "      <td>4.710000</td>\n",
       "      <td>4.720000</td>\n",
       "      <td>2.910000</td>\n",
       "      <td>950.000000</td>\n",
       "    </tr>\n",
       "    <tr>\n",
       "      <th>50%</th>\n",
       "      <td>0.700000</td>\n",
       "      <td>3.000000</td>\n",
       "      <td>5.000000</td>\n",
       "      <td>5.000000</td>\n",
       "      <td>61.800000</td>\n",
       "      <td>5.700000</td>\n",
       "      <td>5.710000</td>\n",
       "      <td>3.530000</td>\n",
       "      <td>2409.000000</td>\n",
       "    </tr>\n",
       "    <tr>\n",
       "      <th>75%</th>\n",
       "      <td>1.040000</td>\n",
       "      <td>5.000000</td>\n",
       "      <td>6.000000</td>\n",
       "      <td>6.000000</td>\n",
       "      <td>62.500000</td>\n",
       "      <td>6.540000</td>\n",
       "      <td>6.540000</td>\n",
       "      <td>4.040000</td>\n",
       "      <td>5331.000000</td>\n",
       "    </tr>\n",
       "    <tr>\n",
       "      <th>max</th>\n",
       "      <td>5.010000</td>\n",
       "      <td>5.000000</td>\n",
       "      <td>7.000000</td>\n",
       "      <td>8.000000</td>\n",
       "      <td>79.000000</td>\n",
       "      <td>10.740000</td>\n",
       "      <td>58.900000</td>\n",
       "      <td>31.800000</td>\n",
       "      <td>18823.000000</td>\n",
       "    </tr>\n",
       "  </tbody>\n",
       "</table>\n",
       "</div>"
      ],
      "text/plain": [
       "              carat           cut         color       clarity         depth  \\\n",
       "count  40455.000000  40455.000000  40455.000000  40455.000000  40455.000000   \n",
       "mean       0.798385      3.589025      4.365023      4.356099     61.747932   \n",
       "std        0.474353      1.054400      2.141903      1.803355      1.432322   \n",
       "min        0.200000      1.000000      1.000000      1.000000     43.000000   \n",
       "25%        0.400000      3.000000      3.000000      2.000000     61.000000   \n",
       "50%        0.700000      3.000000      5.000000      5.000000     61.800000   \n",
       "75%        1.040000      5.000000      6.000000      6.000000     62.500000   \n",
       "max        5.010000      5.000000      7.000000      8.000000     79.000000   \n",
       "\n",
       "                  x             y             z         price  \n",
       "count  40455.000000  40455.000000  40455.000000  40455.000000  \n",
       "mean       5.732041      5.735939      3.539537   3939.242813  \n",
       "std        1.123169      1.152802      0.709709   4000.344155  \n",
       "min        0.000000      0.000000      0.000000    326.000000  \n",
       "25%        4.710000      4.720000      2.910000    950.000000  \n",
       "50%        5.700000      5.710000      3.530000   2409.000000  \n",
       "75%        6.540000      6.540000      4.040000   5331.000000  \n",
       "max       10.740000     58.900000     31.800000  18823.000000  "
      ]
     },
     "execution_count": 22,
     "metadata": {},
     "output_type": "execute_result"
    }
   ],
   "source": [
    "diamonds.describe()"
   ]
  },
  {
   "cell_type": "code",
   "execution_count": 23,
   "metadata": {},
   "outputs": [
    {
     "data": {
      "text/plain": [
       "carat      1.109383\n",
       "cut       -0.185133\n",
       "color     -0.333214\n",
       "clarity    0.042548\n",
       "depth     -0.132900\n",
       "x          0.376327\n",
       "y          3.043535\n",
       "z          1.886917\n",
       "price      1.616622\n",
       "dtype: float64"
      ]
     },
     "execution_count": 23,
     "metadata": {},
     "output_type": "execute_result"
    }
   ],
   "source": [
    "diamonds.skew()\n",
    "#calculate level of skewness for each column being 0 best distribution"
   ]
  },
  {
   "cell_type": "code",
   "execution_count": 24,
   "metadata": {},
   "outputs": [
    {
     "name": "stdout",
     "output_type": "stream",
     "text": [
      "[[3.08132060e+00 5.58641912e-01 1.23021920e+00 ... 2.27627414e+00\n",
      "  2.33966697e+00 2.22277553e+00]\n",
      " [3.43970798e+00 3.89776341e-01 2.96458384e-01 ... 2.39771889e+00\n",
      "  2.60738551e+00 3.05746403e+00]\n",
      " [3.40547089e-03 1.33819459e+00 7.63338791e-01 ... 2.37737260e-01\n",
      "  1.83828207e-01 2.85539665e-01]\n",
      " ...\n",
      " [9.73159554e-01 3.89776341e-01 1.70422024e-01 ... 1.11387439e+00\n",
      "  9.02441129e-01 7.28885594e-01]\n",
      " [1.65247413e-01 5.58641912e-01 1.23021920e+00 ... 8.15940096e-02\n",
      "  2.88332635e-02 4.10530456e-01]\n",
      " [5.44716402e-01 1.33819459e+00 1.23021920e+00 ... 4.38883491e-01\n",
      "  4.92513366e-01 6.45763125e-01]]\n"
     ]
    }
   ],
   "source": [
    "#applying z-score to identify outliers\n",
    "z = np.abs(stats.zscore(diamonds))\n",
    "print(z)"
   ]
  },
  {
   "cell_type": "code",
   "execution_count": 25,
   "metadata": {},
   "outputs": [
    {
     "name": "stdout",
     "output_type": "stream",
     "text": [
      "(array([    0,     1,     1, ..., 40324, 40335, 40437]), array([0, 0, 8, ..., 4, 4, 4]))\n"
     ]
    }
   ],
   "source": [
    "threshold = 3\n",
    "print(np.where(z > 3))\n",
    "#all the data points which are outliers and where they are located, row first and column second"
   ]
  },
  {
   "cell_type": "code",
   "execution_count": 26,
   "metadata": {},
   "outputs": [
    {
     "data": {
      "text/plain": [
       "(38890, 9)"
      ]
     },
     "execution_count": 26,
     "metadata": {},
     "output_type": "execute_result"
    }
   ],
   "source": [
    "diamonds_z=diamonds[(z<3).all(axis=1)]\n",
    "diamonds_z.shape"
   ]
  },
  {
   "cell_type": "code",
   "execution_count": 27,
   "metadata": {},
   "outputs": [
    {
     "data": {
      "text/plain": [
       "<matplotlib.axes._subplots.AxesSubplot at 0x1029ca150>"
      ]
     },
     "execution_count": 27,
     "metadata": {},
     "output_type": "execute_result"
    },
    {
     "data": {
      "image/png": "[encoded data removed]",
      "text/plain": [
       "<Figure size 1080x576 with 1 Axes>"
      ]
     },
     "metadata": {
      "needs_background": "light"
     },
     "output_type": "display_data"
    }
   ],
   "source": [
    "\n",
    "# Visualize the distribution of each non numerical variable\n",
    "\n",
    "fig, (ax1) = plt.subplots(ncols=1, figsize=(15, 8))\n",
    "ax1.set_title('Distributions each feature')\n",
    "\n",
    "sns.kdeplot(diamonds_z['carat'], ax=ax1)\n",
    "sns.kdeplot(diamonds_z['depth'], ax=ax1)\n",
    "sns.kdeplot(diamonds_z['x'], ax=ax1)\n",
    "sns.kdeplot(diamonds_z['y'], ax=ax1)\n",
    "sns.kdeplot(diamonds_z['z'], ax=ax1)"
   ]
  },
  {
   "cell_type": "code",
   "execution_count": 28,
   "metadata": {},
   "outputs": [],
   "source": [
    "#diamonds_z.describe()"
   ]
  },
  {
   "cell_type": "code",
   "execution_count": 29,
   "metadata": {},
   "outputs": [
    {
     "name": "stdout",
     "output_type": "stream",
     "text": [
      "['carat', 'cut', 'color', 'clarity', 'depth', 'x', 'y', 'z', 'price']\n"
     ]
    }
   ],
   "source": [
    "\n",
    "column_names= list(diamonds_z.columns)\n",
    "print(column_names)"
   ]
  },
  {
   "cell_type": "code",
   "execution_count": 30,
   "metadata": {},
   "outputs": [
    {
     "data": {
      "text/plain": [
       "<matplotlib.axes._subplots.AxesSubplot at 0x102a3be90>"
      ]
     },
     "execution_count": 30,
     "metadata": {},
     "output_type": "execute_result"
    },
    {
     "data": {
      "image/png": "[encoded data removed]",
      "text/plain": [
       "<Figure size 720x576 with 1 Axes>"
      ]
     },
     "metadata": {
      "needs_background": "light"
     },
     "output_type": "display_data"
    }
   ],
   "source": [
    "\n",
    "# Some useful literature about scaling data\n",
    "# http://benalexkeen.com/feature-scaling-with-scikit-learn/\n",
    "# https://www.kaggle.com/discdiver/guide-to-scaling-and-standardizing\n",
    "# https://becominghuman.ai/demystifying-feature-scaling-baff53e9b3fd\n",
    "\n",
    "s_scaler = preprocessing.StandardScaler()\n",
    "\n",
    "diamonds_z_scaler = s_scaler.fit_transform(diamonds_z)\n",
    "\n",
    "diamonds_z_scaler = pd.DataFrame(diamonds_z_scaler, columns=column_names)\n",
    "\n",
    "diamonds_z_scaler\n",
    "\n",
    "fig, (ax1) = plt.subplots(ncols=1, figsize=(10, 8))\n",
    "\n",
    "ax1.set_title('After StandardScaler')\n",
    "\n",
    "sns.kdeplot(diamonds_z_scaler['carat'], ax=ax1)\n",
    "sns.kdeplot(diamonds_z_scaler['depth'], ax=ax1)\n",
    "sns.kdeplot(diamonds_z_scaler['x'], ax=ax1)\n",
    "sns.kdeplot(diamonds_z_scaler['y'], ax=ax1)\n",
    "sns.kdeplot(diamonds_z_scaler['z'], ax=ax1)"
   ]
  },
  {
   "cell_type": "code",
   "execution_count": 31,
   "metadata": {},
   "outputs": [
    {
     "data": {
      "text/plain": [
       "carat      1.594450e-16\n",
       "cut        2.987473e-15\n",
       "color     -1.887351e-16\n",
       "clarity   -5.622941e-16\n",
       "depth     -2.517951e-15\n",
       "x         -3.931314e-17\n",
       "y          3.905821e-16\n",
       "z          8.242599e-16\n",
       "price      9.421908e-17\n",
       "dtype: float64"
      ]
     },
     "execution_count": 31,
     "metadata": {},
     "output_type": "execute_result"
    }
   ],
   "source": [
    "diamonds_z_scaler.mean()\n",
    "\n",
    "#not sure why StandardScaler converts data into negative values!!!"
   ]
  },
  {
   "cell_type": "code",
   "execution_count": 32,
   "metadata": {},
   "outputs": [
    {
     "data": {
      "text/plain": [
       "<matplotlib.axes._subplots.AxesSubplot at 0x118d7b5d0>"
      ]
     },
     "execution_count": 32,
     "metadata": {},
     "output_type": "execute_result"
    },
    {
     "data": {
      "image/png": "[encoded data removed]",
      "text/plain": [
       "<Figure size 720x576 with 1 Axes>"
      ]
     },
     "metadata": {
      "needs_background": "light"
     },
     "output_type": "display_data"
    }
   ],
   "source": [
    "#trying with normalizing\n",
    "\n",
    "s_scaler = preprocessing.StandardScaler()\n",
    "\n",
    "diamonds_z_scaler_norm = s_scaler.fit_transform(diamonds_z)\n",
    "\n",
    "diamonds_z_scaler_norm = pd.DataFrame(diamonds_z_scaler_norm, columns=column_names)\n",
    "\n",
    "diamonds_z_scaler_norm\n",
    "\n",
    "fig, (ax1) = plt.subplots(ncols=1, figsize=(10, 8))\n",
    "\n",
    "ax1.set_title('After Normalizer')\n",
    "\n",
    "sns.kdeplot(diamonds_z_scaler_norm['carat'], ax=ax1)\n",
    "sns.kdeplot(diamonds_z_scaler_norm['depth'], ax=ax1)\n",
    "sns.kdeplot(diamonds_z_scaler_norm['x'], ax=ax1)\n",
    "sns.kdeplot(diamonds_z_scaler_norm['y'], ax=ax1)\n",
    "sns.kdeplot(diamonds_z_scaler_norm['z'], ax=ax1)\n"
   ]
  },
  {
   "cell_type": "code",
   "execution_count": 33,
   "metadata": {},
   "outputs": [
    {
     "data": {
      "text/plain": [
       "carat      1.594450e-16\n",
       "cut        2.987473e-15\n",
       "color     -1.887351e-16\n",
       "clarity   -5.622941e-16\n",
       "depth     -2.517951e-15\n",
       "x         -3.931314e-17\n",
       "y          3.905821e-16\n",
       "z          8.242599e-16\n",
       "price      9.421908e-17\n",
       "dtype: float64"
      ]
     },
     "execution_count": 33,
     "metadata": {},
     "output_type": "execute_result"
    }
   ],
   "source": [
    "diamonds_z_scaler_norm.mean()\n",
    "#again normalizer also converts average into negative and I dont know this is the case!!!"
   ]
  },
  {
   "cell_type": "code",
   "execution_count": 34,
   "metadata": {},
   "outputs": [
    {
     "data": {
      "text/plain": [
       "<matplotlib.axes._subplots.AxesSubplot at 0x118e000d0>"
      ]
     },
     "execution_count": 34,
     "metadata": {},
     "output_type": "execute_result"
    },
    {
     "data": {
      "image/png": "[encoded data removed]",
      "text/plain": [
       "<Figure size 720x576 with 1 Axes>"
      ]
     },
     "metadata": {
      "needs_background": "light"
     },
     "output_type": "display_data"
    }
   ],
   "source": [
    "#trying with minmax\n",
    "\n",
    "mm_scaler = preprocessing.MinMaxScaler()\n",
    "\n",
    "diamonds_z_scaler_mm= mm_scaler.fit_transform(diamonds_z)\n",
    "\n",
    "diamonds_z_scaler_mm = pd.DataFrame(diamonds_z_scaler_mm, columns=column_names)\n",
    "\n",
    "fig, (ax1) = plt.subplots(ncols=1, figsize=(10, 8))\n",
    "\n",
    "ax1.set_title('After MinMaxScaler')\n",
    "\n",
    "sns.kdeplot(diamonds_z_scaler_mm['carat'], ax=ax1)\n",
    "sns.kdeplot(diamonds_z_scaler_mm['depth'], ax=ax1)\n",
    "sns.kdeplot(diamonds_z_scaler_mm['x'], ax=ax1)\n",
    "sns.kdeplot(diamonds_z_scaler_mm['y'], ax=ax1)\n",
    "sns.kdeplot(diamonds_z_scaler_mm['z'], ax=ax1)\n"
   ]
  },
  {
   "cell_type": "code",
   "execution_count": 35,
   "metadata": {},
   "outputs": [
    {
     "data": {
      "text/plain": [
       "carat      0.278061\n",
       "cut        0.653381\n",
       "color      0.560200\n",
       "clarity    0.481989\n",
       "depth      0.499362\n",
       "x          0.396679\n",
       "y          0.405929\n",
       "z          0.406775\n",
       "price      0.209683\n",
       "dtype: float64"
      ]
     },
     "execution_count": 35,
     "metadata": {},
     "output_type": "execute_result"
    }
   ],
   "source": [
    "diamonds_z_scaler_mm.mean()\n",
    "\n",
    "#looks like this could be the best method for scaling since is not converting the mean in negative numbers"
   ]
  },
  {
   "cell_type": "code",
   "execution_count": 36,
   "metadata": {},
   "outputs": [
    {
     "data": {
      "text/plain": [
       "<matplotlib.axes._subplots.AxesSubplot at 0x118208e50>"
      ]
     },
     "execution_count": 36,
     "metadata": {},
     "output_type": "execute_result"
    },
    {
     "data": {
      "image/png": "[encoded data removed]",
      "text/plain": [
       "<Figure size 576x432 with 2 Axes>"
      ]
     },
     "metadata": {
      "needs_background": "light"
     },
     "output_type": "display_data"
    }
   ],
   "source": [
    "# check correlation between price and rest of variables \n",
    "corr_matrix= diamonds_z_scaler_mm.corr()\n",
    "upper = corr_matrix.where(np.triu(np.ones(corr_matrix.shape), k=1).astype(np.bool))\n",
    "plt.figure (figsize= (8,6))\n",
    "#sns.heatmap(upper,annot=True)\n",
    "sns.heatmap(corr_matrix, annot=True)\n",
    "\n",
    "# from correlation analysis depth, clarity, color and cut have the lowest correlation with price\n",
    "# z, y, x and carat have the highest correlation with price, being carat the most correlated\n"
   ]
  },
  {
   "cell_type": "code",
   "execution_count": 37,
   "metadata": {},
   "outputs": [],
   "source": [
    "diamonds_z_scaler_mm['volumen']=diamonds_z_scaler_mm['x']*diamonds_z_scaler_mm['y']*diamonds_z_scaler_mm['z']"
   ]
  },
  {
   "cell_type": "code",
   "execution_count": 38,
   "metadata": {},
   "outputs": [],
   "source": [
    "#diamonds_z_scaler_mm"
   ]
  },
  {
   "cell_type": "code",
   "execution_count": 39,
   "metadata": {},
   "outputs": [
    {
     "data": {
      "text/html": [
       "<div>\n",
       "<style scoped>\n",
       "    .dataframe tbody tr th:only-of-type {\n",
       "        vertical-align: middle;\n",
       "    }\n",
       "\n",
       "    .dataframe tbody tr th {\n",
       "        vertical-align: top;\n",
       "    }\n",
       "\n",
       "    .dataframe thead th {\n",
       "        text-align: right;\n",
       "    }\n",
       "</style>\n",
       "<table border=\"1\" class=\"dataframe\">\n",
       "  <thead>\n",
       "    <tr style=\"text-align: right;\">\n",
       "      <th></th>\n",
       "      <th>carat</th>\n",
       "      <th>cut</th>\n",
       "      <th>color</th>\n",
       "      <th>clarity</th>\n",
       "      <th>depth</th>\n",
       "      <th>x</th>\n",
       "      <th>y</th>\n",
       "      <th>z</th>\n",
       "      <th>price</th>\n",
       "      <th>volumen</th>\n",
       "    </tr>\n",
       "  </thead>\n",
       "  <tbody>\n",
       "    <tr>\n",
       "      <th>0</th>\n",
       "      <td>0.297030</td>\n",
       "      <td>1.00</td>\n",
       "      <td>0.833333</td>\n",
       "      <td>0.428571</td>\n",
       "      <td>0.411765</td>\n",
       "      <td>0.472279</td>\n",
       "      <td>0.476483</td>\n",
       "      <td>0.463816</td>\n",
       "      <td>0.158266</td>\n",
       "      <td>0.104374</td>\n",
       "    </tr>\n",
       "    <tr>\n",
       "      <th>1</th>\n",
       "      <td>0.099010</td>\n",
       "      <td>0.50</td>\n",
       "      <td>0.833333</td>\n",
       "      <td>0.000000</td>\n",
       "      <td>0.682353</td>\n",
       "      <td>0.195072</td>\n",
       "      <td>0.196319</td>\n",
       "      <td>0.226974</td>\n",
       "      <td>0.019471</td>\n",
       "      <td>0.008692</td>\n",
       "    </tr>\n",
       "    <tr>\n",
       "      <th>2</th>\n",
       "      <td>0.054455</td>\n",
       "      <td>0.50</td>\n",
       "      <td>1.000000</td>\n",
       "      <td>0.571429</td>\n",
       "      <td>0.482353</td>\n",
       "      <td>0.135524</td>\n",
       "      <td>0.141104</td>\n",
       "      <td>0.144737</td>\n",
       "      <td>0.023826</td>\n",
       "      <td>0.002768</td>\n",
       "    </tr>\n",
       "    <tr>\n",
       "      <th>3</th>\n",
       "      <td>0.163366</td>\n",
       "      <td>0.75</td>\n",
       "      <td>0.833333</td>\n",
       "      <td>0.428571</td>\n",
       "      <td>0.352941</td>\n",
       "      <td>0.299795</td>\n",
       "      <td>0.316973</td>\n",
       "      <td>0.292763</td>\n",
       "      <td>0.051624</td>\n",
       "      <td>0.027820</td>\n",
       "    </tr>\n",
       "    <tr>\n",
       "      <th>4</th>\n",
       "      <td>0.247525</td>\n",
       "      <td>1.00</td>\n",
       "      <td>0.333333</td>\n",
       "      <td>0.428571</td>\n",
       "      <td>0.388235</td>\n",
       "      <td>0.402464</td>\n",
       "      <td>0.400818</td>\n",
       "      <td>0.391447</td>\n",
       "      <td>0.106386</td>\n",
       "      <td>0.063146</td>\n",
       "    </tr>\n",
       "    <tr>\n",
       "      <th>...</th>\n",
       "      <td>...</td>\n",
       "      <td>...</td>\n",
       "      <td>...</td>\n",
       "      <td>...</td>\n",
       "      <td>...</td>\n",
       "      <td>...</td>\n",
       "      <td>...</td>\n",
       "      <td>...</td>\n",
       "      <td>...</td>\n",
       "      <td>...</td>\n",
       "    </tr>\n",
       "    <tr>\n",
       "      <th>38885</th>\n",
       "      <td>0.450495</td>\n",
       "      <td>1.00</td>\n",
       "      <td>0.666667</td>\n",
       "      <td>0.142857</td>\n",
       "      <td>0.623529</td>\n",
       "      <td>0.595483</td>\n",
       "      <td>0.588957</td>\n",
       "      <td>0.618421</td>\n",
       "      <td>0.319541</td>\n",
       "      <td>0.216889</td>\n",
       "    </tr>\n",
       "    <tr>\n",
       "      <th>38886</th>\n",
       "      <td>0.262376</td>\n",
       "      <td>0.50</td>\n",
       "      <td>0.833333</td>\n",
       "      <td>0.571429</td>\n",
       "      <td>0.600000</td>\n",
       "      <td>0.418891</td>\n",
       "      <td>0.421268</td>\n",
       "      <td>0.440789</td>\n",
       "      <td>0.156024</td>\n",
       "      <td>0.077784</td>\n",
       "    </tr>\n",
       "    <tr>\n",
       "      <th>38887</th>\n",
       "      <td>0.524752</td>\n",
       "      <td>0.75</td>\n",
       "      <td>0.500000</td>\n",
       "      <td>0.714286</td>\n",
       "      <td>0.200000</td>\n",
       "      <td>0.689938</td>\n",
       "      <td>0.683027</td>\n",
       "      <td>0.631579</td>\n",
       "      <td>0.418177</td>\n",
       "      <td>0.297629</td>\n",
       "    </tr>\n",
       "    <tr>\n",
       "      <th>38888</th>\n",
       "      <td>0.257426</td>\n",
       "      <td>0.50</td>\n",
       "      <td>1.000000</td>\n",
       "      <td>0.428571</td>\n",
       "      <td>0.458824</td>\n",
       "      <td>0.416838</td>\n",
       "      <td>0.439673</td>\n",
       "      <td>0.427632</td>\n",
       "      <td>0.126241</td>\n",
       "      <td>0.078373</td>\n",
       "    </tr>\n",
       "    <tr>\n",
       "      <th>38889</th>\n",
       "      <td>0.168317</td>\n",
       "      <td>1.00</td>\n",
       "      <td>1.000000</td>\n",
       "      <td>0.142857</td>\n",
       "      <td>0.388235</td>\n",
       "      <td>0.316222</td>\n",
       "      <td>0.316973</td>\n",
       "      <td>0.305921</td>\n",
       "      <td>0.065971</td>\n",
       "      <td>0.030664</td>\n",
       "    </tr>\n",
       "  </tbody>\n",
       "</table>\n",
       "<p>38890 rows × 10 columns</p>\n",
       "</div>"
      ],
      "text/plain": [
       "          carat   cut     color   clarity     depth         x         y  \\\n",
       "0      0.297030  1.00  0.833333  0.428571  0.411765  0.472279  0.476483   \n",
       "1      0.099010  0.50  0.833333  0.000000  0.682353  0.195072  0.196319   \n",
       "2      0.054455  0.50  1.000000  0.571429  0.482353  0.135524  0.141104   \n",
       "3      0.163366  0.75  0.833333  0.428571  0.352941  0.299795  0.316973   \n",
       "4      0.247525  1.00  0.333333  0.428571  0.388235  0.402464  0.400818   \n",
       "...         ...   ...       ...       ...       ...       ...       ...   \n",
       "38885  0.450495  1.00  0.666667  0.142857  0.623529  0.595483  0.588957   \n",
       "38886  0.262376  0.50  0.833333  0.571429  0.600000  0.418891  0.421268   \n",
       "38887  0.524752  0.75  0.500000  0.714286  0.200000  0.689938  0.683027   \n",
       "38888  0.257426  0.50  1.000000  0.428571  0.458824  0.416838  0.439673   \n",
       "38889  0.168317  1.00  1.000000  0.142857  0.388235  0.316222  0.316973   \n",
       "\n",
       "              z     price   volumen  \n",
       "0      0.463816  0.158266  0.104374  \n",
       "1      0.226974  0.019471  0.008692  \n",
       "2      0.144737  0.023826  0.002768  \n",
       "3      0.292763  0.051624  0.027820  \n",
       "4      0.391447  0.106386  0.063146  \n",
       "...         ...       ...       ...  \n",
       "38885  0.618421  0.319541  0.216889  \n",
       "38886  0.440789  0.156024  0.077784  \n",
       "38887  0.631579  0.418177  0.297629  \n",
       "38888  0.427632  0.126241  0.078373  \n",
       "38889  0.305921  0.065971  0.030664  \n",
       "\n",
       "[38890 rows x 10 columns]"
      ]
     },
     "execution_count": 39,
     "metadata": {},
     "output_type": "execute_result"
    }
   ],
   "source": [
    "diamonds_z_scaler_mm"
   ]
  },
  {
   "cell_type": "code",
   "execution_count": 40,
   "metadata": {},
   "outputs": [
    {
     "data": {
      "text/plain": [
       "<matplotlib.axes._subplots.AxesSubplot at 0x11a4ac390>"
      ]
     },
     "execution_count": 40,
     "metadata": {},
     "output_type": "execute_result"
    },
    {
     "data": {
      "image/png": "[encoded data removed]",
      "text/plain": [
       "<Figure size 576x432 with 2 Axes>"
      ]
     },
     "metadata": {
      "needs_background": "light"
     },
     "output_type": "display_data"
    }
   ],
   "source": [
    "corr_matrix= diamonds_z_scaler_mm.corr()\n",
    "upper = corr_matrix.where(np.triu(np.ones(corr_matrix.shape), k=1).astype(np.bool))\n",
    "plt.figure (figsize= (8,6))\n",
    "#sns.heatmap(upper,annot=True)\n",
    "sns.heatmap(corr_matrix, annot=True)"
   ]
  },
  {
   "cell_type": "code",
   "execution_count": 41,
   "metadata": {},
   "outputs": [],
   "source": [
    "# dropping x,y,z and taking volumen as a function of the three, removed table, removing depth\n"
   ]
  },
  {
   "cell_type": "code",
   "execution_count": 42,
   "metadata": {},
   "outputs": [
    {
     "name": "stdout",
     "output_type": "stream",
     "text": [
      "<class 'pandas.core.frame.DataFrame'>\n",
      "RangeIndex: 38890 entries, 0 to 38889\n",
      "Data columns (total 6 columns):\n",
      "carat      38890 non-null float64\n",
      "cut        38890 non-null float64\n",
      "color      38890 non-null float64\n",
      "clarity    38890 non-null float64\n",
      "price      38890 non-null float64\n",
      "volumen    38890 non-null float64\n",
      "dtypes: float64(6)\n",
      "memory usage: 1.8 MB\n"
     ]
    }
   ],
   "source": [
    "diamonds_z_scaler_mm_drop=diamonds_z_scaler_mm.drop(['depth','x', 'y', 'z'], axis=1)\n",
    "diamonds_z_scaler_mm_drop.columns\n",
    "diamonds_z_scaler_mm_drop.info()"
   ]
  },
  {
   "cell_type": "code",
   "execution_count": 43,
   "metadata": {},
   "outputs": [],
   "source": [
    "#train test split\n",
    "\n",
    "X=diamonds_z_scaler_mm_drop.drop(['price'],axis=1)\n",
    "y=diamonds_z_scaler_mm_drop['price']\n",
    "\n",
    "X_train, X_test, y_train, y_test = train_test_split(X,y, test_size=0.2)\n",
    "\n",
    "#dont know why but i see randome_state is 42!"
   ]
  },
  {
   "cell_type": "code",
   "execution_count": 71,
   "metadata": {},
   "outputs": [
    {
     "name": "stdout",
     "output_type": "stream",
     "text": [
      "Training model: decision_tree\n",
      "Training model: forest\n"
     ]
    }
   ],
   "source": [
    "\n",
    "models = {\n",
    "    \"decision_tree\": DecisionTreeRegressor(random_state = 0),\n",
    "    \"forest\": RandomForestRegressor(n_estimators=100)\n",
    "}\n",
    "\n",
    "for modelName, model in models.items():\n",
    "    print(f\"Training model: {modelName}\")\n",
    "    model.fit(X_train, y_train)\n",
    "\n"
   ]
  },
  {
   "cell_type": "code",
   "execution_count": 63,
   "metadata": {},
   "outputs": [
    {
     "data": {
      "text/html": [
       "<div>\n",
       "<style scoped>\n",
       "    .dataframe tbody tr th:only-of-type {\n",
       "        vertical-align: middle;\n",
       "    }\n",
       "\n",
       "    .dataframe tbody tr th {\n",
       "        vertical-align: top;\n",
       "    }\n",
       "\n",
       "    .dataframe thead th {\n",
       "        text-align: right;\n",
       "    }\n",
       "</style>\n",
       "<table border=\"1\" class=\"dataframe\">\n",
       "  <thead>\n",
       "    <tr style=\"text-align: right;\">\n",
       "      <th></th>\n",
       "      <th>decision_tree</th>\n",
       "      <th>forest</th>\n",
       "      <th>gt</th>\n",
       "    </tr>\n",
       "  </thead>\n",
       "  <tbody>\n",
       "    <tr>\n",
       "      <th>0</th>\n",
       "      <td>0.116634</td>\n",
       "      <td>0.114118</td>\n",
       "      <td>0.101582</td>\n",
       "    </tr>\n",
       "    <tr>\n",
       "      <th>1</th>\n",
       "      <td>0.006789</td>\n",
       "      <td>0.011238</td>\n",
       "      <td>0.011081</td>\n",
       "    </tr>\n",
       "    <tr>\n",
       "      <th>2</th>\n",
       "      <td>0.589701</td>\n",
       "      <td>0.562525</td>\n",
       "      <td>0.616281</td>\n",
       "    </tr>\n",
       "    <tr>\n",
       "      <th>3</th>\n",
       "      <td>0.019503</td>\n",
       "      <td>0.020045</td>\n",
       "      <td>0.024531</td>\n",
       "    </tr>\n",
       "    <tr>\n",
       "      <th>4</th>\n",
       "      <td>0.302504</td>\n",
       "      <td>0.289043</td>\n",
       "      <td>0.268686</td>\n",
       "    </tr>\n",
       "    <tr>\n",
       "      <th>...</th>\n",
       "      <td>...</td>\n",
       "      <td>...</td>\n",
       "      <td>...</td>\n",
       "    </tr>\n",
       "    <tr>\n",
       "      <th>7773</th>\n",
       "      <td>0.060078</td>\n",
       "      <td>0.061147</td>\n",
       "      <td>0.060078</td>\n",
       "    </tr>\n",
       "    <tr>\n",
       "      <th>7774</th>\n",
       "      <td>0.018318</td>\n",
       "      <td>0.015175</td>\n",
       "      <td>0.009671</td>\n",
       "    </tr>\n",
       "    <tr>\n",
       "      <th>7775</th>\n",
       "      <td>0.269647</td>\n",
       "      <td>0.281619</td>\n",
       "      <td>0.295011</td>\n",
       "    </tr>\n",
       "    <tr>\n",
       "      <th>7776</th>\n",
       "      <td>0.220361</td>\n",
       "      <td>0.209776</td>\n",
       "      <td>0.196055</td>\n",
       "    </tr>\n",
       "    <tr>\n",
       "      <th>7777</th>\n",
       "      <td>0.009287</td>\n",
       "      <td>0.009208</td>\n",
       "      <td>0.010632</td>\n",
       "    </tr>\n",
       "  </tbody>\n",
       "</table>\n",
       "<p>7778 rows × 3 columns</p>\n",
       "</div>"
      ],
      "text/plain": [
       "      decision_tree    forest        gt\n",
       "0          0.116634  0.114118  0.101582\n",
       "1          0.006789  0.011238  0.011081\n",
       "2          0.589701  0.562525  0.616281\n",
       "3          0.019503  0.020045  0.024531\n",
       "4          0.302504  0.289043  0.268686\n",
       "...             ...       ...       ...\n",
       "7773       0.060078  0.061147  0.060078\n",
       "7774       0.018318  0.015175  0.009671\n",
       "7775       0.269647  0.281619  0.295011\n",
       "7776       0.220361  0.209776  0.196055\n",
       "7777       0.009287  0.009208  0.010632\n",
       "\n",
       "[7778 rows x 3 columns]"
      ]
     },
     "execution_count": 63,
     "metadata": {},
     "output_type": "execute_result"
    }
   ],
   "source": [
    "d = {modelName:model.predict(X_test) for modelName, model in models.items()}\n",
    "\n",
    "df = pd.DataFrame(d)\n",
    "df[\"gt\"] = y_test.reset_index(drop=True)\n",
    "df\n",
    "\n"
   ]
  },
  {
   "cell_type": "code",
   "execution_count": 60,
   "metadata": {},
   "outputs": [
    {
     "data": {
      "text/plain": [
       "decision_tree    0\n",
       "forest           0\n",
       "gt               0\n",
       "dtype: int64"
      ]
     },
     "execution_count": 60,
     "metadata": {},
     "output_type": "execute_result"
    }
   ],
   "source": [
    "#df.isna().sum()"
   ]
  },
  {
   "cell_type": "code",
   "execution_count": 50,
   "metadata": {},
   "outputs": [
    {
     "name": "stdout",
     "output_type": "stream",
     "text": [
      "<class 'pandas.core.series.Series'>\n"
     ]
    }
   ],
   "source": [
    "\n",
    "\n",
    "error = modelPredictions - yData\n",
    "\n",
    "SE = numpy.square(error) # squared errors\n",
    "MSE = numpy.mean(SE) # mean squared errors\n",
    "RMSE = numpy.sqrt(MSE) # Root Mean Squared Error, RMSE\n",
    "Rsquared = 1.0 - (numpy.var(error) / numpy.var(yData))\n",
    "\n",
    "print()\n",
    "print('RMSE:', RMSE)\n",
    "print('R-squared:', Rsquared)"
   ]
  },
  {
   "cell_type": "code",
   "execution_count": null,
   "metadata": {},
   "outputs": [],
   "source": []
  },
  {
   "cell_type": "code",
   "execution_count": null,
   "metadata": {},
   "outputs": [],
   "source": []
  },
  {
   "cell_type": "code",
   "execution_count": null,
   "metadata": {},
   "outputs": [],
   "source": []
  },
  {
   "cell_type": "code",
   "execution_count": null,
   "metadata": {},
   "outputs": [],
   "source": [
    "from sklearn.tree import DecisionTreeRegressor\n",
    "regressor = DecisionTreeRegressor(random_state = 0)\n",
    "regressor.fit(X_train, Y_train)\n",
    "y_pred = regressor.predict(X_test)\n",
    "mae = mean_absolute_error(Y_test,y_pred)\n",
    "print(\"mae: %f\" %(mae))\n",
    "Rsquare=regressor.score(X_test,Y_test)\n",
    "print(\"Rsquare: %f\" %(Rsquare))\n",
    "rmse=np.sqrt(mean_squared_error(Y_test,y_pred))\n",
    "print(\"rmse: %f\" %(rmse))"
   ]
  },
  {
   "cell_type": "code",
   "execution_count": null,
   "metadata": {},
   "outputs": [],
   "source": []
  },
  {
   "cell_type": "code",
   "execution_count": null,
   "metadata": {},
   "outputs": [],
   "source": []
  },
  {
   "cell_type": "code",
   "execution_count": null,
   "metadata": {},
   "outputs": [],
   "source": [
    "\n"
   ]
  },
  {
   "cell_type": "code",
   "execution_count": null,
   "metadata": {},
   "outputs": [],
   "source": []
  },
  {
   "cell_type": "code",
   "execution_count": null,
   "metadata": {},
   "outputs": [],
   "source": []
  }
 ],
 "metadata": {
  "kernelspec": {
   "display_name": "Python 3",
   "language": "python",
   "name": "python3"
  },
  "language_info": {
   "codemirror_mode": {
    "name": "ipython",
    "version": 3
   },
   "file_extension": ".py",
   "mimetype": "text/x-python",
   "name": "python",
   "nbconvert_exporter": "python",
   "pygments_lexer": "ipython3",
   "version": "3.7.5"
  }
 },
 "nbformat": 4,
 "nbformat_minor": 2
}
