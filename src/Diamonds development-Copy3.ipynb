{
 "cells": [
  {
   "cell_type": "code",
   "execution_count": 1,
   "metadata": {},
   "outputs": [],
   "source": [
    "import pandas as pd\n",
    "import re\n",
    "import numpy as np\n",
    "from sklearn import preprocessing\n",
    "import matplotlib.pyplot as plt\n",
    "import seaborn as sns\n",
    "from scipy import stats\n",
    "from sklearn.preprocessing import StandardScaler\n",
    "from sklearn.model_selection import train_test_split\n",
    "from sklearn.tree import DecisionTreeRegressor\n",
    "from sklearn.ensemble import RandomForestRegressor\n",
    "from sklearn import metrics \n",
    "from sklearn.neighbors import KNeighborsRegressor\n",
    "from sklearn.ensemble import GradientBoostingRegressor \n",
    "from sklearn import datasets, svm, metrics"
   ]
  },
  {
   "cell_type": "code",
   "execution_count": 2,
   "metadata": {},
   "outputs": [
    {
     "data": {
      "text/html": [
       "<div>\n",
       "<style scoped>\n",
       "    .dataframe tbody tr th:only-of-type {\n",
       "        vertical-align: middle;\n",
       "    }\n",
       "\n",
       "    .dataframe tbody tr th {\n",
       "        vertical-align: top;\n",
       "    }\n",
       "\n",
       "    .dataframe thead th {\n",
       "        text-align: right;\n",
       "    }\n",
       "</style>\n",
       "<table border=\"1\" class=\"dataframe\">\n",
       "  <thead>\n",
       "    <tr style=\"text-align: right;\">\n",
       "      <th></th>\n",
       "      <th>carat</th>\n",
       "      <th>cut</th>\n",
       "      <th>color</th>\n",
       "      <th>clarity</th>\n",
       "      <th>depth</th>\n",
       "      <th>table</th>\n",
       "      <th>x</th>\n",
       "      <th>y</th>\n",
       "      <th>z</th>\n",
       "      <th>price</th>\n",
       "    </tr>\n",
       "  </thead>\n",
       "  <tbody>\n",
       "    <tr>\n",
       "      <th>0</th>\n",
       "      <td>2.26</td>\n",
       "      <td>Ideal</td>\n",
       "      <td>G</td>\n",
       "      <td>SI2</td>\n",
       "      <td>61.9</td>\n",
       "      <td>57.0</td>\n",
       "      <td>8.44</td>\n",
       "      <td>8.36</td>\n",
       "      <td>5.20</td>\n",
       "      <td>12831</td>\n",
       "    </tr>\n",
       "    <tr>\n",
       "      <th>1</th>\n",
       "      <td>2.43</td>\n",
       "      <td>Very Good</td>\n",
       "      <td>H</td>\n",
       "      <td>SI2</td>\n",
       "      <td>63.2</td>\n",
       "      <td>57.0</td>\n",
       "      <td>8.56</td>\n",
       "      <td>8.50</td>\n",
       "      <td>5.39</td>\n",
       "      <td>16170</td>\n",
       "    </tr>\n",
       "    <tr>\n",
       "      <th>2</th>\n",
       "      <td>0.80</td>\n",
       "      <td>Premium</td>\n",
       "      <td>F</td>\n",
       "      <td>SI2</td>\n",
       "      <td>61.0</td>\n",
       "      <td>57.0</td>\n",
       "      <td>6.03</td>\n",
       "      <td>6.01</td>\n",
       "      <td>3.67</td>\n",
       "      <td>2797</td>\n",
       "    </tr>\n",
       "    <tr>\n",
       "      <th>3</th>\n",
       "      <td>0.40</td>\n",
       "      <td>Ideal</td>\n",
       "      <td>F</td>\n",
       "      <td>I1</td>\n",
       "      <td>63.3</td>\n",
       "      <td>60.0</td>\n",
       "      <td>4.68</td>\n",
       "      <td>4.64</td>\n",
       "      <td>2.95</td>\n",
       "      <td>630</td>\n",
       "    </tr>\n",
       "    <tr>\n",
       "      <th>4</th>\n",
       "      <td>0.31</td>\n",
       "      <td>Ideal</td>\n",
       "      <td>G</td>\n",
       "      <td>VS2</td>\n",
       "      <td>61.6</td>\n",
       "      <td>55.0</td>\n",
       "      <td>4.39</td>\n",
       "      <td>4.37</td>\n",
       "      <td>2.70</td>\n",
       "      <td>698</td>\n",
       "    </tr>\n",
       "    <tr>\n",
       "      <th>5</th>\n",
       "      <td>0.53</td>\n",
       "      <td>Very Good</td>\n",
       "      <td>F</td>\n",
       "      <td>SI2</td>\n",
       "      <td>60.5</td>\n",
       "      <td>60.0</td>\n",
       "      <td>5.19</td>\n",
       "      <td>5.23</td>\n",
       "      <td>3.15</td>\n",
       "      <td>1132</td>\n",
       "    </tr>\n",
       "    <tr>\n",
       "      <th>6</th>\n",
       "      <td>0.70</td>\n",
       "      <td>Premium</td>\n",
       "      <td>D</td>\n",
       "      <td>SI2</td>\n",
       "      <td>60.8</td>\n",
       "      <td>61.0</td>\n",
       "      <td>5.69</td>\n",
       "      <td>5.64</td>\n",
       "      <td>3.45</td>\n",
       "      <td>1987</td>\n",
       "    </tr>\n",
       "    <tr>\n",
       "      <th>7</th>\n",
       "      <td>1.13</td>\n",
       "      <td>Good</td>\n",
       "      <td>F</td>\n",
       "      <td>SI2</td>\n",
       "      <td>64.0</td>\n",
       "      <td>58.0</td>\n",
       "      <td>6.52</td>\n",
       "      <td>6.58</td>\n",
       "      <td>4.19</td>\n",
       "      <td>3952</td>\n",
       "    </tr>\n",
       "    <tr>\n",
       "      <th>8</th>\n",
       "      <td>0.35</td>\n",
       "      <td>Ideal</td>\n",
       "      <td>E</td>\n",
       "      <td>SI1</td>\n",
       "      <td>60.9</td>\n",
       "      <td>55.0</td>\n",
       "      <td>4.53</td>\n",
       "      <td>4.57</td>\n",
       "      <td>2.77</td>\n",
       "      <td>614</td>\n",
       "    </tr>\n",
       "    <tr>\n",
       "      <th>9</th>\n",
       "      <td>1.01</td>\n",
       "      <td>Fair</td>\n",
       "      <td>H</td>\n",
       "      <td>VS1</td>\n",
       "      <td>61.4</td>\n",
       "      <td>66.0</td>\n",
       "      <td>6.34</td>\n",
       "      <td>6.24</td>\n",
       "      <td>3.87</td>\n",
       "      <td>5062</td>\n",
       "    </tr>\n",
       "  </tbody>\n",
       "</table>\n",
       "</div>"
      ],
      "text/plain": [
       "   carat        cut color clarity  depth  table     x     y     z  price\n",
       "0   2.26      Ideal     G     SI2   61.9   57.0  8.44  8.36  5.20  12831\n",
       "1   2.43  Very Good     H     SI2   63.2   57.0  8.56  8.50  5.39  16170\n",
       "2   0.80    Premium     F     SI2   61.0   57.0  6.03  6.01  3.67   2797\n",
       "3   0.40      Ideal     F      I1   63.3   60.0  4.68  4.64  2.95    630\n",
       "4   0.31      Ideal     G     VS2   61.6   55.0  4.39  4.37  2.70    698\n",
       "5   0.53  Very Good     F     SI2   60.5   60.0  5.19  5.23  3.15   1132\n",
       "6   0.70    Premium     D     SI2   60.8   61.0  5.69  5.64  3.45   1987\n",
       "7   1.13       Good     F     SI2   64.0   58.0  6.52  6.58  4.19   3952\n",
       "8   0.35      Ideal     E     SI1   60.9   55.0  4.53  4.57  2.77    614\n",
       "9   1.01       Fair     H     VS1   61.4   66.0  6.34  6.24  3.87   5062"
      ]
     },
     "metadata": {},
     "output_type": "display_data"
    },
    {
     "name": "stdout",
     "output_type": "stream",
     "text": [
      "0            Ideal\n",
      "1        Very Good\n",
      "2          Premium\n",
      "3            Ideal\n",
      "4            Ideal\n",
      "           ...    \n",
      "40450      Premium\n",
      "40451        Ideal\n",
      "40452    Very Good\n",
      "40453        Ideal\n",
      "40454      Premium\n",
      "Name: cut, Length: 40455, dtype: object\n"
     ]
    }
   ],
   "source": [
    "diamonds=pd.read_csv(\"../input/data.csv\")\n",
    "display(diamonds.head(10))\n",
    "print(diamonds['cut'])"
   ]
  },
  {
   "cell_type": "code",
   "execution_count": 3,
   "metadata": {},
   "outputs": [],
   "source": [
    "def clean_transformed(df):\n",
    "    ''' transforms categorical variables cut, color and clarity, creates new variable volumen and drops x,y,z and \n",
    "        also drops depth , removes outliers with Z-score method. Not working ff there is an id column, it drops it too.\n",
    "    '''\n",
    "    df['cut']=df['cut'].map({'Fair':1,'Good':2,'Ideal':3,'Very Good':4,'Premium':5})\n",
    "    df['color']=df['color'].map({'E':1,'J':2,'D':3,'I':4,'H':5,'F':6,'G':7})\n",
    "    df['clarity']=df['clarity'].map({'I1':1,'SI1':2,'VVS1':3,'SI2':4,'VS2':5,'VS1':6,'VVS2':7,'IF':8})\n",
    "    df['volumen']=df['x']*df['y']*df['z']\n",
    "    df=df.drop(['x','y','z','depth','table'], axis=1)\n",
    "    z = np.abs(stats.zscore(df))\n",
    "    df=df[(z<3).all(axis=1)]\n",
    "    return df\n",
    "    "
   ]
  },
  {
   "cell_type": "code",
   "execution_count": 4,
   "metadata": {},
   "outputs": [
    {
     "data": {
      "text/html": [
       "<div>\n",
       "<style scoped>\n",
       "    .dataframe tbody tr th:only-of-type {\n",
       "        vertical-align: middle;\n",
       "    }\n",
       "\n",
       "    .dataframe tbody tr th {\n",
       "        vertical-align: top;\n",
       "    }\n",
       "\n",
       "    .dataframe thead th {\n",
       "        text-align: right;\n",
       "    }\n",
       "</style>\n",
       "<table border=\"1\" class=\"dataframe\">\n",
       "  <thead>\n",
       "    <tr style=\"text-align: right;\">\n",
       "      <th></th>\n",
       "      <th>carat</th>\n",
       "      <th>cut</th>\n",
       "      <th>color</th>\n",
       "      <th>clarity</th>\n",
       "      <th>price</th>\n",
       "      <th>volumen</th>\n",
       "    </tr>\n",
       "  </thead>\n",
       "  <tbody>\n",
       "    <tr>\n",
       "      <th>2</th>\n",
       "      <td>0.80</td>\n",
       "      <td>5</td>\n",
       "      <td>6</td>\n",
       "      <td>4</td>\n",
       "      <td>2797</td>\n",
       "      <td>133.001901</td>\n",
       "    </tr>\n",
       "    <tr>\n",
       "      <th>3</th>\n",
       "      <td>0.40</td>\n",
       "      <td>3</td>\n",
       "      <td>6</td>\n",
       "      <td>1</td>\n",
       "      <td>630</td>\n",
       "      <td>64.059840</td>\n",
       "    </tr>\n",
       "    <tr>\n",
       "      <th>4</th>\n",
       "      <td>0.31</td>\n",
       "      <td>3</td>\n",
       "      <td>7</td>\n",
       "      <td>5</td>\n",
       "      <td>698</td>\n",
       "      <td>51.797610</td>\n",
       "    </tr>\n",
       "    <tr>\n",
       "      <th>5</th>\n",
       "      <td>0.53</td>\n",
       "      <td>4</td>\n",
       "      <td>6</td>\n",
       "      <td>4</td>\n",
       "      <td>1132</td>\n",
       "      <td>85.502655</td>\n",
       "    </tr>\n",
       "    <tr>\n",
       "      <th>6</th>\n",
       "      <td>0.70</td>\n",
       "      <td>5</td>\n",
       "      <td>3</td>\n",
       "      <td>4</td>\n",
       "      <td>1987</td>\n",
       "      <td>110.716020</td>\n",
       "    </tr>\n",
       "    <tr>\n",
       "      <th>...</th>\n",
       "      <td>...</td>\n",
       "      <td>...</td>\n",
       "      <td>...</td>\n",
       "      <td>...</td>\n",
       "      <td>...</td>\n",
       "      <td>...</td>\n",
       "    </tr>\n",
       "    <tr>\n",
       "      <th>40450</th>\n",
       "      <td>1.11</td>\n",
       "      <td>5</td>\n",
       "      <td>5</td>\n",
       "      <td>2</td>\n",
       "      <td>5315</td>\n",
       "      <td>180.060192</td>\n",
       "    </tr>\n",
       "    <tr>\n",
       "      <th>40451</th>\n",
       "      <td>0.73</td>\n",
       "      <td>3</td>\n",
       "      <td>6</td>\n",
       "      <td>5</td>\n",
       "      <td>2762</td>\n",
       "      <td>119.231280</td>\n",
       "    </tr>\n",
       "    <tr>\n",
       "      <th>40452</th>\n",
       "      <td>1.26</td>\n",
       "      <td>4</td>\n",
       "      <td>4</td>\n",
       "      <td>6</td>\n",
       "      <td>6855</td>\n",
       "      <td>208.046124</td>\n",
       "    </tr>\n",
       "    <tr>\n",
       "      <th>40453</th>\n",
       "      <td>0.72</td>\n",
       "      <td>3</td>\n",
       "      <td>7</td>\n",
       "      <td>4</td>\n",
       "      <td>2297</td>\n",
       "      <td>119.547648</td>\n",
       "    </tr>\n",
       "    <tr>\n",
       "      <th>40454</th>\n",
       "      <td>0.54</td>\n",
       "      <td>5</td>\n",
       "      <td>7</td>\n",
       "      <td>2</td>\n",
       "      <td>1356</td>\n",
       "      <td>87.923099</td>\n",
       "    </tr>\n",
       "  </tbody>\n",
       "</table>\n",
       "<p>39409 rows × 6 columns</p>\n",
       "</div>"
      ],
      "text/plain": [
       "       carat  cut  color  clarity  price     volumen\n",
       "2       0.80    5      6        4   2797  133.001901\n",
       "3       0.40    3      6        1    630   64.059840\n",
       "4       0.31    3      7        5    698   51.797610\n",
       "5       0.53    4      6        4   1132   85.502655\n",
       "6       0.70    5      3        4   1987  110.716020\n",
       "...      ...  ...    ...      ...    ...         ...\n",
       "40450   1.11    5      5        2   5315  180.060192\n",
       "40451   0.73    3      6        5   2762  119.231280\n",
       "40452   1.26    4      4        6   6855  208.046124\n",
       "40453   0.72    3      7        4   2297  119.547648\n",
       "40454   0.54    5      7        2   1356   87.923099\n",
       "\n",
       "[39409 rows x 6 columns]"
      ]
     },
     "execution_count": 4,
     "metadata": {},
     "output_type": "execute_result"
    }
   ],
   "source": [
    "clean_transformed(diamonds)"
   ]
  },
  {
   "cell_type": "code",
   "execution_count": null,
   "metadata": {},
   "outputs": [],
   "source": []
  },
  {
   "cell_type": "code",
   "execution_count": null,
   "metadata": {},
   "outputs": [],
   "source": []
  },
  {
   "cell_type": "code",
   "execution_count": null,
   "metadata": {},
   "outputs": [],
   "source": []
  },
  {
   "cell_type": "code",
   "execution_count": null,
   "metadata": {},
   "outputs": [],
   "source": []
  },
  {
   "cell_type": "code",
   "execution_count": null,
   "metadata": {},
   "outputs": [],
   "source": []
  },
  {
   "cell_type": "code",
   "execution_count": 5,
   "metadata": {},
   "outputs": [
    {
     "data": {
      "text/plain": [
       "Index(['carat', 'cut', 'color', 'clarity', 'depth', 'table', 'x', 'y', 'z',\n",
       "       'price', 'volumen'],\n",
       "      dtype='object')"
      ]
     },
     "execution_count": 5,
     "metadata": {},
     "output_type": "execute_result"
    }
   ],
   "source": [
    "diamonds.columns"
   ]
  },
  {
   "cell_type": "code",
   "execution_count": 6,
   "metadata": {},
   "outputs": [
    {
     "data": {
      "text/plain": [
       "carat      float64\n",
       "cut          int64\n",
       "color        int64\n",
       "clarity      int64\n",
       "depth      float64\n",
       "table      float64\n",
       "x          float64\n",
       "y          float64\n",
       "z          float64\n",
       "price        int64\n",
       "volumen    float64\n",
       "dtype: object"
      ]
     },
     "execution_count": 6,
     "metadata": {},
     "output_type": "execute_result"
    }
   ],
   "source": [
    "diamonds.dtypes"
   ]
  },
  {
   "cell_type": "code",
   "execution_count": 7,
   "metadata": {},
   "outputs": [
    {
     "name": "stdout",
     "output_type": "stream",
     "text": [
      "<class 'pandas.core.frame.DataFrame'>\n",
      "RangeIndex: 40455 entries, 0 to 40454\n",
      "Data columns (total 11 columns):\n",
      "carat      40455 non-null float64\n",
      "cut        40455 non-null int64\n",
      "color      40455 non-null int64\n",
      "clarity    40455 non-null int64\n",
      "depth      40455 non-null float64\n",
      "table      40455 non-null float64\n",
      "x          40455 non-null float64\n",
      "y          40455 non-null float64\n",
      "z          40455 non-null float64\n",
      "price      40455 non-null int64\n",
      "volumen    40455 non-null float64\n",
      "dtypes: float64(7), int64(4)\n",
      "memory usage: 3.4 MB\n"
     ]
    }
   ],
   "source": [
    "diamonds.info()\n",
    "#More powerful than dtypes in terms of information you can quickly grassp"
   ]
  },
  {
   "cell_type": "code",
   "execution_count": 8,
   "metadata": {},
   "outputs": [],
   "source": [
    "#diamonds.isnull().sum()"
   ]
  },
  {
   "cell_type": "code",
   "execution_count": 9,
   "metadata": {},
   "outputs": [
    {
     "name": "stdout",
     "output_type": "stream",
     "text": [
      "Cut:  {1, 2, 3, 4, 5}\n",
      "Color:  {1, 2, 3, 4, 5, 6, 7}\n",
      "Clarity:  {1, 2, 3, 4, 5, 6, 7, 8}\n"
     ]
    }
   ],
   "source": [
    "#looking at all the variables which are objects cut, color, clarity\n",
    "\n",
    "print(\"Cut: \",set(diamonds[\"cut\"]))\n",
    "print(\"Color: \",set(diamonds[\"color\"]))\n",
    "print(\"Clarity: \",set(diamonds[\"clarity\"]))\n",
    "\n",
    "# I have to process these variables somehow before training a model. Not sure if I should keep color"
   ]
  },
  {
   "cell_type": "code",
   "execution_count": 10,
   "metadata": {},
   "outputs": [
    {
     "data": {
      "text/plain": [
       "(40455, 11)"
      ]
     },
     "execution_count": 10,
     "metadata": {},
     "output_type": "execute_result"
    }
   ],
   "source": [
    "diamonds.shape\n"
   ]
  },
  {
   "cell_type": "code",
   "execution_count": 11,
   "metadata": {},
   "outputs": [
    {
     "name": "stdout",
     "output_type": "stream",
     "text": [
      " model has 40455 rows and 11 columns and non nulls\n"
     ]
    }
   ],
   "source": [
    "print(f' model has {diamonds.shape[0]} rows and {diamonds.shape[1]} columns and non nulls')"
   ]
  },
  {
   "cell_type": "code",
   "execution_count": 12,
   "metadata": {},
   "outputs": [],
   "source": [
    "diamonds['price/wt']=diamonds['price']/diamonds['carat']"
   ]
  },
  {
   "cell_type": "code",
   "execution_count": 13,
   "metadata": {},
   "outputs": [
    {
     "data": {
      "text/html": [
       "<div>\n",
       "<style scoped>\n",
       "    .dataframe tbody tr th:only-of-type {\n",
       "        vertical-align: middle;\n",
       "    }\n",
       "\n",
       "    .dataframe tbody tr th {\n",
       "        vertical-align: top;\n",
       "    }\n",
       "\n",
       "    .dataframe thead th {\n",
       "        text-align: right;\n",
       "    }\n",
       "</style>\n",
       "<table border=\"1\" class=\"dataframe\">\n",
       "  <thead>\n",
       "    <tr style=\"text-align: right;\">\n",
       "      <th></th>\n",
       "      <th>carat</th>\n",
       "      <th>cut</th>\n",
       "      <th>color</th>\n",
       "      <th>clarity</th>\n",
       "      <th>depth</th>\n",
       "      <th>table</th>\n",
       "      <th>x</th>\n",
       "      <th>y</th>\n",
       "      <th>z</th>\n",
       "      <th>price</th>\n",
       "      <th>volumen</th>\n",
       "      <th>price/wt</th>\n",
       "    </tr>\n",
       "  </thead>\n",
       "  <tbody>\n",
       "    <tr>\n",
       "      <th>0</th>\n",
       "      <td>2.26</td>\n",
       "      <td>3</td>\n",
       "      <td>7</td>\n",
       "      <td>4</td>\n",
       "      <td>61.9</td>\n",
       "      <td>57.0</td>\n",
       "      <td>8.44</td>\n",
       "      <td>8.36</td>\n",
       "      <td>5.20</td>\n",
       "      <td>12831</td>\n",
       "      <td>366.903680</td>\n",
       "      <td>5677.433628</td>\n",
       "    </tr>\n",
       "    <tr>\n",
       "      <th>1</th>\n",
       "      <td>2.43</td>\n",
       "      <td>4</td>\n",
       "      <td>5</td>\n",
       "      <td>4</td>\n",
       "      <td>63.2</td>\n",
       "      <td>57.0</td>\n",
       "      <td>8.56</td>\n",
       "      <td>8.50</td>\n",
       "      <td>5.39</td>\n",
       "      <td>16170</td>\n",
       "      <td>392.176400</td>\n",
       "      <td>6654.320988</td>\n",
       "    </tr>\n",
       "    <tr>\n",
       "      <th>2</th>\n",
       "      <td>0.80</td>\n",
       "      <td>5</td>\n",
       "      <td>6</td>\n",
       "      <td>4</td>\n",
       "      <td>61.0</td>\n",
       "      <td>57.0</td>\n",
       "      <td>6.03</td>\n",
       "      <td>6.01</td>\n",
       "      <td>3.67</td>\n",
       "      <td>2797</td>\n",
       "      <td>133.001901</td>\n",
       "      <td>3496.250000</td>\n",
       "    </tr>\n",
       "    <tr>\n",
       "      <th>3</th>\n",
       "      <td>0.40</td>\n",
       "      <td>3</td>\n",
       "      <td>6</td>\n",
       "      <td>1</td>\n",
       "      <td>63.3</td>\n",
       "      <td>60.0</td>\n",
       "      <td>4.68</td>\n",
       "      <td>4.64</td>\n",
       "      <td>2.95</td>\n",
       "      <td>630</td>\n",
       "      <td>64.059840</td>\n",
       "      <td>1575.000000</td>\n",
       "    </tr>\n",
       "    <tr>\n",
       "      <th>4</th>\n",
       "      <td>0.31</td>\n",
       "      <td>3</td>\n",
       "      <td>7</td>\n",
       "      <td>5</td>\n",
       "      <td>61.6</td>\n",
       "      <td>55.0</td>\n",
       "      <td>4.39</td>\n",
       "      <td>4.37</td>\n",
       "      <td>2.70</td>\n",
       "      <td>698</td>\n",
       "      <td>51.797610</td>\n",
       "      <td>2251.612903</td>\n",
       "    </tr>\n",
       "    <tr>\n",
       "      <th>5</th>\n",
       "      <td>0.53</td>\n",
       "      <td>4</td>\n",
       "      <td>6</td>\n",
       "      <td>4</td>\n",
       "      <td>60.5</td>\n",
       "      <td>60.0</td>\n",
       "      <td>5.19</td>\n",
       "      <td>5.23</td>\n",
       "      <td>3.15</td>\n",
       "      <td>1132</td>\n",
       "      <td>85.502655</td>\n",
       "      <td>2135.849057</td>\n",
       "    </tr>\n",
       "    <tr>\n",
       "      <th>6</th>\n",
       "      <td>0.70</td>\n",
       "      <td>5</td>\n",
       "      <td>3</td>\n",
       "      <td>4</td>\n",
       "      <td>60.8</td>\n",
       "      <td>61.0</td>\n",
       "      <td>5.69</td>\n",
       "      <td>5.64</td>\n",
       "      <td>3.45</td>\n",
       "      <td>1987</td>\n",
       "      <td>110.716020</td>\n",
       "      <td>2838.571429</td>\n",
       "    </tr>\n",
       "    <tr>\n",
       "      <th>7</th>\n",
       "      <td>1.13</td>\n",
       "      <td>2</td>\n",
       "      <td>6</td>\n",
       "      <td>4</td>\n",
       "      <td>64.0</td>\n",
       "      <td>58.0</td>\n",
       "      <td>6.52</td>\n",
       "      <td>6.58</td>\n",
       "      <td>4.19</td>\n",
       "      <td>3952</td>\n",
       "      <td>179.757704</td>\n",
       "      <td>3497.345133</td>\n",
       "    </tr>\n",
       "    <tr>\n",
       "      <th>8</th>\n",
       "      <td>0.35</td>\n",
       "      <td>3</td>\n",
       "      <td>1</td>\n",
       "      <td>2</td>\n",
       "      <td>60.9</td>\n",
       "      <td>55.0</td>\n",
       "      <td>4.53</td>\n",
       "      <td>4.57</td>\n",
       "      <td>2.77</td>\n",
       "      <td>614</td>\n",
       "      <td>57.344817</td>\n",
       "      <td>1754.285714</td>\n",
       "    </tr>\n",
       "    <tr>\n",
       "      <th>9</th>\n",
       "      <td>1.01</td>\n",
       "      <td>1</td>\n",
       "      <td>5</td>\n",
       "      <td>6</td>\n",
       "      <td>61.4</td>\n",
       "      <td>66.0</td>\n",
       "      <td>6.34</td>\n",
       "      <td>6.24</td>\n",
       "      <td>3.87</td>\n",
       "      <td>5062</td>\n",
       "      <td>153.103392</td>\n",
       "      <td>5011.881188</td>\n",
       "    </tr>\n",
       "  </tbody>\n",
       "</table>\n",
       "</div>"
      ],
      "text/plain": [
       "   carat  cut  color  clarity  depth  table     x     y     z  price  \\\n",
       "0   2.26    3      7        4   61.9   57.0  8.44  8.36  5.20  12831   \n",
       "1   2.43    4      5        4   63.2   57.0  8.56  8.50  5.39  16170   \n",
       "2   0.80    5      6        4   61.0   57.0  6.03  6.01  3.67   2797   \n",
       "3   0.40    3      6        1   63.3   60.0  4.68  4.64  2.95    630   \n",
       "4   0.31    3      7        5   61.6   55.0  4.39  4.37  2.70    698   \n",
       "5   0.53    4      6        4   60.5   60.0  5.19  5.23  3.15   1132   \n",
       "6   0.70    5      3        4   60.8   61.0  5.69  5.64  3.45   1987   \n",
       "7   1.13    2      6        4   64.0   58.0  6.52  6.58  4.19   3952   \n",
       "8   0.35    3      1        2   60.9   55.0  4.53  4.57  2.77    614   \n",
       "9   1.01    1      5        6   61.4   66.0  6.34  6.24  3.87   5062   \n",
       "\n",
       "      volumen     price/wt  \n",
       "0  366.903680  5677.433628  \n",
       "1  392.176400  6654.320988  \n",
       "2  133.001901  3496.250000  \n",
       "3   64.059840  1575.000000  \n",
       "4   51.797610  2251.612903  \n",
       "5   85.502655  2135.849057  \n",
       "6  110.716020  2838.571429  \n",
       "7  179.757704  3497.345133  \n",
       "8   57.344817  1754.285714  \n",
       "9  153.103392  5011.881188  "
      ]
     },
     "execution_count": 13,
     "metadata": {},
     "output_type": "execute_result"
    }
   ],
   "source": [
    "diamonds.head(10)"
   ]
  },
  {
   "cell_type": "code",
   "execution_count": 14,
   "metadata": {},
   "outputs": [
    {
     "name": "stdout",
     "output_type": "stream",
     "text": [
      "cut\n",
      "1    3737.468421\n",
      "2    3873.241694\n",
      "3    3922.272721\n",
      "4    4011.693218\n",
      "5    4223.619019\n",
      "Name: price/wt, dtype: float64\n"
     ]
    }
   ],
   "source": [
    "print(diamonds.groupby('cut')['price/wt'].mean().sort_values())"
   ]
  },
  {
   "cell_type": "code",
   "execution_count": 15,
   "metadata": {},
   "outputs": [
    {
     "name": "stdout",
     "output_type": "stream",
     "text": [
      "color\n",
      "1    3787.426635\n",
      "2    3826.604761\n",
      "3    3948.783704\n",
      "4    4000.546520\n",
      "5    4016.204136\n",
      "6    4129.482925\n",
      "7    4182.615921\n",
      "Name: price/wt, dtype: float64\n",
      "clarity\n",
      "1    2776.012219\n",
      "2    3856.733909\n",
      "3    3860.279651\n",
      "4    4015.902895\n",
      "5    4080.272657\n",
      "6    4143.406705\n",
      "7    4198.660097\n",
      "8    4276.867594\n",
      "Name: price/wt, dtype: float64\n"
     ]
    }
   ],
   "source": [
    "print(diamonds.groupby('color')['price/wt'].mean().sort_values())\n",
    "print(diamonds.groupby('clarity')['price/wt'].mean().sort_values())\n"
   ]
  },
  {
   "cell_type": "code",
   "execution_count": 16,
   "metadata": {},
   "outputs": [],
   "source": [
    "#delete the column create to analyse how important are categorical variables\n",
    "diamonds = diamonds.drop(['price/wt','table'], axis=1)"
   ]
  },
  {
   "cell_type": "code",
   "execution_count": 17,
   "metadata": {},
   "outputs": [],
   "source": [
    "#all categorical variables are relevant and have an impact in prices per carat thus I cannot delete anyone for now"
   ]
  },
  {
   "cell_type": "code",
   "execution_count": 18,
   "metadata": {},
   "outputs": [
    {
     "data": {
      "text/plain": [
       "array([3, 4, 5, 2, 1])"
      ]
     },
     "execution_count": 18,
     "metadata": {},
     "output_type": "execute_result"
    }
   ],
   "source": [
    "diamonds['cut'].unique()"
   ]
  },
  {
   "cell_type": "code",
   "execution_count": 19,
   "metadata": {},
   "outputs": [
    {
     "data": {
      "text/plain": [
       "array([7, 5, 6, 3, 1, 4, 2])"
      ]
     },
     "execution_count": 19,
     "metadata": {},
     "output_type": "execute_result"
    }
   ],
   "source": [
    "diamonds['color'].unique()"
   ]
  },
  {
   "cell_type": "code",
   "execution_count": 20,
   "metadata": {},
   "outputs": [
    {
     "data": {
      "text/plain": [
       "array([4, 1, 5, 2, 6, 7, 8, 3])"
      ]
     },
     "execution_count": 20,
     "metadata": {},
     "output_type": "execute_result"
    }
   ],
   "source": [
    "diamonds['clarity'].unique()"
   ]
  },
  {
   "cell_type": "code",
   "execution_count": 21,
   "metadata": {},
   "outputs": [],
   "source": [
    "#converting categorical into numerical \n",
    "#using method ordinal encoding based on information \n",
    "diamonds['cut']=diamonds['cut'].map({'Fair':1,'Good':2,'Ideal':3,'Very Good':4,'Premium':5})\n",
    "diamonds['color']=diamonds['color'].map({'E':1,'J':2,'D':3,'I':4,'H':5,'F':6,'G':7})\n",
    "diamonds['clarity']=diamonds['clarity'].map({'I1':1,'SI1':2,'VVS1':3,'SI2':4,'VS2':5,'VS1':6,'VVS2':7,'IF':8})"
   ]
  },
  {
   "cell_type": "code",
   "execution_count": 22,
   "metadata": {},
   "outputs": [],
   "source": [
    "\n",
    "# WARNING !!!!!!!\n",
    "# create a new method of categorical to numerical using mean \n",
    "# and the other ordinal but with industry relevancy regarding cut, color, clarity\n",
    "\n"
   ]
  },
  {
   "cell_type": "code",
   "execution_count": 23,
   "metadata": {},
   "outputs": [
    {
     "data": {
      "text/html": [
       "<div>\n",
       "<style scoped>\n",
       "    .dataframe tbody tr th:only-of-type {\n",
       "        vertical-align: middle;\n",
       "    }\n",
       "\n",
       "    .dataframe tbody tr th {\n",
       "        vertical-align: top;\n",
       "    }\n",
       "\n",
       "    .dataframe thead th {\n",
       "        text-align: right;\n",
       "    }\n",
       "</style>\n",
       "<table border=\"1\" class=\"dataframe\">\n",
       "  <thead>\n",
       "    <tr style=\"text-align: right;\">\n",
       "      <th></th>\n",
       "      <th>carat</th>\n",
       "      <th>cut</th>\n",
       "      <th>color</th>\n",
       "      <th>clarity</th>\n",
       "      <th>depth</th>\n",
       "      <th>x</th>\n",
       "      <th>y</th>\n",
       "      <th>z</th>\n",
       "      <th>price</th>\n",
       "      <th>volumen</th>\n",
       "    </tr>\n",
       "  </thead>\n",
       "  <tbody>\n",
       "    <tr>\n",
       "      <th>0</th>\n",
       "      <td>2.26</td>\n",
       "      <td>NaN</td>\n",
       "      <td>NaN</td>\n",
       "      <td>NaN</td>\n",
       "      <td>61.9</td>\n",
       "      <td>8.44</td>\n",
       "      <td>8.36</td>\n",
       "      <td>5.20</td>\n",
       "      <td>12831</td>\n",
       "      <td>366.903680</td>\n",
       "    </tr>\n",
       "    <tr>\n",
       "      <th>1</th>\n",
       "      <td>2.43</td>\n",
       "      <td>NaN</td>\n",
       "      <td>NaN</td>\n",
       "      <td>NaN</td>\n",
       "      <td>63.2</td>\n",
       "      <td>8.56</td>\n",
       "      <td>8.50</td>\n",
       "      <td>5.39</td>\n",
       "      <td>16170</td>\n",
       "      <td>392.176400</td>\n",
       "    </tr>\n",
       "    <tr>\n",
       "      <th>2</th>\n",
       "      <td>0.80</td>\n",
       "      <td>NaN</td>\n",
       "      <td>NaN</td>\n",
       "      <td>NaN</td>\n",
       "      <td>61.0</td>\n",
       "      <td>6.03</td>\n",
       "      <td>6.01</td>\n",
       "      <td>3.67</td>\n",
       "      <td>2797</td>\n",
       "      <td>133.001901</td>\n",
       "    </tr>\n",
       "    <tr>\n",
       "      <th>3</th>\n",
       "      <td>0.40</td>\n",
       "      <td>NaN</td>\n",
       "      <td>NaN</td>\n",
       "      <td>NaN</td>\n",
       "      <td>63.3</td>\n",
       "      <td>4.68</td>\n",
       "      <td>4.64</td>\n",
       "      <td>2.95</td>\n",
       "      <td>630</td>\n",
       "      <td>64.059840</td>\n",
       "    </tr>\n",
       "    <tr>\n",
       "      <th>4</th>\n",
       "      <td>0.31</td>\n",
       "      <td>NaN</td>\n",
       "      <td>NaN</td>\n",
       "      <td>NaN</td>\n",
       "      <td>61.6</td>\n",
       "      <td>4.39</td>\n",
       "      <td>4.37</td>\n",
       "      <td>2.70</td>\n",
       "      <td>698</td>\n",
       "      <td>51.797610</td>\n",
       "    </tr>\n",
       "    <tr>\n",
       "      <th>...</th>\n",
       "      <td>...</td>\n",
       "      <td>...</td>\n",
       "      <td>...</td>\n",
       "      <td>...</td>\n",
       "      <td>...</td>\n",
       "      <td>...</td>\n",
       "      <td>...</td>\n",
       "      <td>...</td>\n",
       "      <td>...</td>\n",
       "      <td>...</td>\n",
       "    </tr>\n",
       "    <tr>\n",
       "      <th>40450</th>\n",
       "      <td>1.11</td>\n",
       "      <td>NaN</td>\n",
       "      <td>NaN</td>\n",
       "      <td>NaN</td>\n",
       "      <td>62.8</td>\n",
       "      <td>6.63</td>\n",
       "      <td>6.56</td>\n",
       "      <td>4.14</td>\n",
       "      <td>5315</td>\n",
       "      <td>180.060192</td>\n",
       "    </tr>\n",
       "    <tr>\n",
       "      <th>40451</th>\n",
       "      <td>0.73</td>\n",
       "      <td>NaN</td>\n",
       "      <td>NaN</td>\n",
       "      <td>NaN</td>\n",
       "      <td>62.6</td>\n",
       "      <td>5.77</td>\n",
       "      <td>5.74</td>\n",
       "      <td>3.60</td>\n",
       "      <td>2762</td>\n",
       "      <td>119.231280</td>\n",
       "    </tr>\n",
       "    <tr>\n",
       "      <th>40452</th>\n",
       "      <td>1.26</td>\n",
       "      <td>NaN</td>\n",
       "      <td>NaN</td>\n",
       "      <td>NaN</td>\n",
       "      <td>59.2</td>\n",
       "      <td>7.09</td>\n",
       "      <td>7.02</td>\n",
       "      <td>4.18</td>\n",
       "      <td>6855</td>\n",
       "      <td>208.046124</td>\n",
       "    </tr>\n",
       "    <tr>\n",
       "      <th>40453</th>\n",
       "      <td>0.72</td>\n",
       "      <td>NaN</td>\n",
       "      <td>NaN</td>\n",
       "      <td>NaN</td>\n",
       "      <td>61.4</td>\n",
       "      <td>5.76</td>\n",
       "      <td>5.83</td>\n",
       "      <td>3.56</td>\n",
       "      <td>2297</td>\n",
       "      <td>119.547648</td>\n",
       "    </tr>\n",
       "    <tr>\n",
       "      <th>40454</th>\n",
       "      <td>0.54</td>\n",
       "      <td>NaN</td>\n",
       "      <td>NaN</td>\n",
       "      <td>NaN</td>\n",
       "      <td>60.8</td>\n",
       "      <td>5.27</td>\n",
       "      <td>5.23</td>\n",
       "      <td>3.19</td>\n",
       "      <td>1356</td>\n",
       "      <td>87.923099</td>\n",
       "    </tr>\n",
       "  </tbody>\n",
       "</table>\n",
       "<p>40455 rows × 10 columns</p>\n",
       "</div>"
      ],
      "text/plain": [
       "       carat  cut  color  clarity  depth     x     y     z  price     volumen\n",
       "0       2.26  NaN    NaN      NaN   61.9  8.44  8.36  5.20  12831  366.903680\n",
       "1       2.43  NaN    NaN      NaN   63.2  8.56  8.50  5.39  16170  392.176400\n",
       "2       0.80  NaN    NaN      NaN   61.0  6.03  6.01  3.67   2797  133.001901\n",
       "3       0.40  NaN    NaN      NaN   63.3  4.68  4.64  2.95    630   64.059840\n",
       "4       0.31  NaN    NaN      NaN   61.6  4.39  4.37  2.70    698   51.797610\n",
       "...      ...  ...    ...      ...    ...   ...   ...   ...    ...         ...\n",
       "40450   1.11  NaN    NaN      NaN   62.8  6.63  6.56  4.14   5315  180.060192\n",
       "40451   0.73  NaN    NaN      NaN   62.6  5.77  5.74  3.60   2762  119.231280\n",
       "40452   1.26  NaN    NaN      NaN   59.2  7.09  7.02  4.18   6855  208.046124\n",
       "40453   0.72  NaN    NaN      NaN   61.4  5.76  5.83  3.56   2297  119.547648\n",
       "40454   0.54  NaN    NaN      NaN   60.8  5.27  5.23  3.19   1356   87.923099\n",
       "\n",
       "[40455 rows x 10 columns]"
      ]
     },
     "execution_count": 23,
     "metadata": {},
     "output_type": "execute_result"
    }
   ],
   "source": [
    "diamonds"
   ]
  },
  {
   "cell_type": "code",
   "execution_count": 24,
   "metadata": {},
   "outputs": [
    {
     "data": {
      "text/html": [
       "<div>\n",
       "<style scoped>\n",
       "    .dataframe tbody tr th:only-of-type {\n",
       "        vertical-align: middle;\n",
       "    }\n",
       "\n",
       "    .dataframe tbody tr th {\n",
       "        vertical-align: top;\n",
       "    }\n",
       "\n",
       "    .dataframe thead th {\n",
       "        text-align: right;\n",
       "    }\n",
       "</style>\n",
       "<table border=\"1\" class=\"dataframe\">\n",
       "  <thead>\n",
       "    <tr style=\"text-align: right;\">\n",
       "      <th></th>\n",
       "      <th>carat</th>\n",
       "      <th>cut</th>\n",
       "      <th>color</th>\n",
       "      <th>clarity</th>\n",
       "      <th>depth</th>\n",
       "      <th>x</th>\n",
       "      <th>y</th>\n",
       "      <th>z</th>\n",
       "      <th>price</th>\n",
       "      <th>volumen</th>\n",
       "    </tr>\n",
       "  </thead>\n",
       "  <tbody>\n",
       "    <tr>\n",
       "      <th>count</th>\n",
       "      <td>40455.000000</td>\n",
       "      <td>0.0</td>\n",
       "      <td>0.0</td>\n",
       "      <td>0.0</td>\n",
       "      <td>40455.000000</td>\n",
       "      <td>40455.000000</td>\n",
       "      <td>40455.000000</td>\n",
       "      <td>40455.000000</td>\n",
       "      <td>40455.000000</td>\n",
       "      <td>40455.000000</td>\n",
       "    </tr>\n",
       "    <tr>\n",
       "      <th>mean</th>\n",
       "      <td>0.798385</td>\n",
       "      <td>NaN</td>\n",
       "      <td>NaN</td>\n",
       "      <td>NaN</td>\n",
       "      <td>61.747932</td>\n",
       "      <td>5.732041</td>\n",
       "      <td>5.735939</td>\n",
       "      <td>3.539537</td>\n",
       "      <td>3939.242813</td>\n",
       "      <td>129.968428</td>\n",
       "    </tr>\n",
       "    <tr>\n",
       "      <th>std</th>\n",
       "      <td>0.474353</td>\n",
       "      <td>NaN</td>\n",
       "      <td>NaN</td>\n",
       "      <td>NaN</td>\n",
       "      <td>1.432322</td>\n",
       "      <td>1.123169</td>\n",
       "      <td>1.152802</td>\n",
       "      <td>0.709709</td>\n",
       "      <td>4000.344155</td>\n",
       "      <td>78.894498</td>\n",
       "    </tr>\n",
       "    <tr>\n",
       "      <th>min</th>\n",
       "      <td>0.200000</td>\n",
       "      <td>NaN</td>\n",
       "      <td>NaN</td>\n",
       "      <td>NaN</td>\n",
       "      <td>43.000000</td>\n",
       "      <td>0.000000</td>\n",
       "      <td>0.000000</td>\n",
       "      <td>0.000000</td>\n",
       "      <td>326.000000</td>\n",
       "      <td>0.000000</td>\n",
       "    </tr>\n",
       "    <tr>\n",
       "      <th>25%</th>\n",
       "      <td>0.400000</td>\n",
       "      <td>NaN</td>\n",
       "      <td>NaN</td>\n",
       "      <td>NaN</td>\n",
       "      <td>61.000000</td>\n",
       "      <td>4.710000</td>\n",
       "      <td>4.720000</td>\n",
       "      <td>2.910000</td>\n",
       "      <td>950.000000</td>\n",
       "      <td>65.129092</td>\n",
       "    </tr>\n",
       "    <tr>\n",
       "      <th>50%</th>\n",
       "      <td>0.700000</td>\n",
       "      <td>NaN</td>\n",
       "      <td>NaN</td>\n",
       "      <td>NaN</td>\n",
       "      <td>61.800000</td>\n",
       "      <td>5.700000</td>\n",
       "      <td>5.710000</td>\n",
       "      <td>3.530000</td>\n",
       "      <td>2409.000000</td>\n",
       "      <td>114.852720</td>\n",
       "    </tr>\n",
       "    <tr>\n",
       "      <th>75%</th>\n",
       "      <td>1.040000</td>\n",
       "      <td>NaN</td>\n",
       "      <td>NaN</td>\n",
       "      <td>NaN</td>\n",
       "      <td>62.500000</td>\n",
       "      <td>6.540000</td>\n",
       "      <td>6.540000</td>\n",
       "      <td>4.040000</td>\n",
       "      <td>5331.000000</td>\n",
       "      <td>170.912625</td>\n",
       "    </tr>\n",
       "    <tr>\n",
       "      <th>max</th>\n",
       "      <td>5.010000</td>\n",
       "      <td>NaN</td>\n",
       "      <td>NaN</td>\n",
       "      <td>NaN</td>\n",
       "      <td>79.000000</td>\n",
       "      <td>10.740000</td>\n",
       "      <td>58.900000</td>\n",
       "      <td>31.800000</td>\n",
       "      <td>18823.000000</td>\n",
       "      <td>3840.598060</td>\n",
       "    </tr>\n",
       "  </tbody>\n",
       "</table>\n",
       "</div>"
      ],
      "text/plain": [
       "              carat  cut  color  clarity         depth             x  \\\n",
       "count  40455.000000  0.0    0.0      0.0  40455.000000  40455.000000   \n",
       "mean       0.798385  NaN    NaN      NaN     61.747932      5.732041   \n",
       "std        0.474353  NaN    NaN      NaN      1.432322      1.123169   \n",
       "min        0.200000  NaN    NaN      NaN     43.000000      0.000000   \n",
       "25%        0.400000  NaN    NaN      NaN     61.000000      4.710000   \n",
       "50%        0.700000  NaN    NaN      NaN     61.800000      5.700000   \n",
       "75%        1.040000  NaN    NaN      NaN     62.500000      6.540000   \n",
       "max        5.010000  NaN    NaN      NaN     79.000000     10.740000   \n",
       "\n",
       "                  y             z         price       volumen  \n",
       "count  40455.000000  40455.000000  40455.000000  40455.000000  \n",
       "mean       5.735939      3.539537   3939.242813    129.968428  \n",
       "std        1.152802      0.709709   4000.344155     78.894498  \n",
       "min        0.000000      0.000000    326.000000      0.000000  \n",
       "25%        4.720000      2.910000    950.000000     65.129092  \n",
       "50%        5.710000      3.530000   2409.000000    114.852720  \n",
       "75%        6.540000      4.040000   5331.000000    170.912625  \n",
       "max       58.900000     31.800000  18823.000000   3840.598060  "
      ]
     },
     "execution_count": 24,
     "metadata": {},
     "output_type": "execute_result"
    }
   ],
   "source": [
    "diamonds.describe()"
   ]
  },
  {
   "cell_type": "code",
   "execution_count": 25,
   "metadata": {},
   "outputs": [
    {
     "data": {
      "text/plain": [
       "carat      1.109383\n",
       "cut             NaN\n",
       "color           NaN\n",
       "clarity         NaN\n",
       "depth     -0.132900\n",
       "x          0.376327\n",
       "y          3.043535\n",
       "z          1.886917\n",
       "price      1.616622\n",
       "volumen    3.611278\n",
       "dtype: float64"
      ]
     },
     "execution_count": 25,
     "metadata": {},
     "output_type": "execute_result"
    }
   ],
   "source": [
    "diamonds.skew()\n",
    "#calculate level of skewness for each column being 0 best distribution"
   ]
  },
  {
   "cell_type": "code",
   "execution_count": 26,
   "metadata": {},
   "outputs": [
    {
     "name": "stdout",
     "output_type": "stream",
     "text": [
      "[[3.08132060e+00            nan            nan ... 2.33966697e+00\n",
      "  2.22277553e+00 3.00322819e+00]\n",
      " [3.43970798e+00            nan            nan ... 2.60738551e+00\n",
      "  3.05746403e+00 3.32356779e+00]\n",
      " [3.40547089e-03            nan            nan ... 1.83828207e-01\n",
      "  2.85539665e-01 3.84502135e-02]\n",
      " ...\n",
      " [9.73159554e-01            nan            nan ... 9.02441129e-01\n",
      "  7.28885594e-01 9.89659136e-01]\n",
      " [1.65247413e-01            nan            nan ... 2.88332635e-02\n",
      "  4.10530456e-01 1.32086638e-01]\n",
      " [5.44716402e-01            nan            nan ... 4.92513366e-01\n",
      "  6.45763125e-01 5.32937656e-01]]\n"
     ]
    }
   ],
   "source": [
    "#applying z-score to identify outliers\n",
    "z = np.abs(stats.zscore(diamonds))\n",
    "print(z)"
   ]
  },
  {
   "cell_type": "code",
   "execution_count": 27,
   "metadata": {},
   "outputs": [
    {
     "name": "stdout",
     "output_type": "stream",
     "text": [
      "(array([    0,     0,     1, ..., 40324, 40335, 40437]), array([0, 9, 0, ..., 4, 4, 4]))\n"
     ]
    },
    {
     "name": "stderr",
     "output_type": "stream",
     "text": [
      "/usr/local/lib/python3.7/site-packages/ipykernel_launcher.py:2: RuntimeWarning: invalid value encountered in greater\n",
      "  \n"
     ]
    }
   ],
   "source": [
    "threshold = 3\n",
    "print(np.where(z > 3))\n",
    "#all the data points which are outliers and where they are located, row first and column second"
   ]
  },
  {
   "cell_type": "code",
   "execution_count": 28,
   "metadata": {},
   "outputs": [
    {
     "name": "stderr",
     "output_type": "stream",
     "text": [
      "/usr/local/lib/python3.7/site-packages/ipykernel_launcher.py:1: RuntimeWarning: invalid value encountered in less\n",
      "  \"\"\"Entry point for launching an IPython kernel.\n"
     ]
    },
    {
     "data": {
      "text/plain": [
       "(0, 10)"
      ]
     },
     "execution_count": 28,
     "metadata": {},
     "output_type": "execute_result"
    }
   ],
   "source": [
    "diamonds_z=diamonds[(z<3).all(axis=1)]\n",
    "diamonds_z.shape"
   ]
  },
  {
   "cell_type": "code",
   "execution_count": 29,
   "metadata": {},
   "outputs": [
    {
     "data": {
      "text/plain": [
       "<matplotlib.axes._subplots.AxesSubplot at 0x123dbda90>"
      ]
     },
     "execution_count": 29,
     "metadata": {},
     "output_type": "execute_result"
    },
    {
     "data": {
      "image/png": "[encoded data removed]",
      "text/plain": [
       "<Figure size 1080x576 with 1 Axes>"
      ]
     },
     "metadata": {
      "needs_background": "light"
     },
     "output_type": "display_data"
    }
   ],
   "source": [
    "\n",
    "# Visualize the distribution of each non numerical variable\n",
    "\n",
    "fig, (ax1) = plt.subplots(ncols=1, figsize=(15, 8))\n",
    "ax1.set_title('Distributions each feature')\n",
    "\n",
    "sns.kdeplot(diamonds_z['carat'], ax=ax1)\n",
    "sns.kdeplot(diamonds_z['depth'], ax=ax1)\n",
    "sns.kdeplot(diamonds_z['x'], ax=ax1)\n",
    "sns.kdeplot(diamonds_z['y'], ax=ax1)\n",
    "sns.kdeplot(diamonds_z['z'], ax=ax1)"
   ]
  },
  {
   "cell_type": "code",
   "execution_count": 30,
   "metadata": {},
   "outputs": [],
   "source": [
    "#diamonds_z.describe()"
   ]
  },
  {
   "cell_type": "code",
   "execution_count": 31,
   "metadata": {},
   "outputs": [
    {
     "name": "stdout",
     "output_type": "stream",
     "text": [
      "['carat', 'cut', 'color', 'clarity', 'depth', 'x', 'y', 'z', 'price', 'volumen']\n"
     ]
    }
   ],
   "source": [
    "\n",
    "column_names= list(diamonds_z.columns)\n",
    "print(column_names)"
   ]
  },
  {
   "cell_type": "code",
   "execution_count": 32,
   "metadata": {},
   "outputs": [
    {
     "ename": "ValueError",
     "evalue": "Found array with 0 sample(s) (shape=(0, 10)) while a minimum of 1 is required by StandardScaler.",
     "output_type": "error",
     "traceback": [
      "\u001b[0;31m---------------------------------------------------------------------------\u001b[0m",
      "\u001b[0;31mValueError\u001b[0m                                Traceback (most recent call last)",
      "\u001b[0;32m<ipython-input-32-6cda0fd3d9eb>\u001b[0m in \u001b[0;36m<module>\u001b[0;34m\u001b[0m\n\u001b[1;32m      6\u001b[0m \u001b[0ms_scaler\u001b[0m \u001b[0;34m=\u001b[0m \u001b[0mpreprocessing\u001b[0m\u001b[0;34m.\u001b[0m\u001b[0mStandardScaler\u001b[0m\u001b[0;34m(\u001b[0m\u001b[0;34m)\u001b[0m\u001b[0;34m\u001b[0m\u001b[0;34m\u001b[0m\u001b[0m\n\u001b[1;32m      7\u001b[0m \u001b[0;34m\u001b[0m\u001b[0m\n\u001b[0;32m----> 8\u001b[0;31m \u001b[0mdiamonds_z_scaler\u001b[0m \u001b[0;34m=\u001b[0m \u001b[0ms_scaler\u001b[0m\u001b[0;34m.\u001b[0m\u001b[0mfit_transform\u001b[0m\u001b[0;34m(\u001b[0m\u001b[0mdiamonds_z\u001b[0m\u001b[0;34m)\u001b[0m\u001b[0;34m\u001b[0m\u001b[0;34m\u001b[0m\u001b[0m\n\u001b[0m\u001b[1;32m      9\u001b[0m \u001b[0;34m\u001b[0m\u001b[0m\n\u001b[1;32m     10\u001b[0m \u001b[0mdiamonds_z_scaler\u001b[0m \u001b[0;34m=\u001b[0m \u001b[0mpd\u001b[0m\u001b[0;34m.\u001b[0m\u001b[0mDataFrame\u001b[0m\u001b[0;34m(\u001b[0m\u001b[0mdiamonds_z_scaler\u001b[0m\u001b[0;34m,\u001b[0m \u001b[0mcolumns\u001b[0m\u001b[0;34m=\u001b[0m\u001b[0mcolumn_names\u001b[0m\u001b[0;34m)\u001b[0m\u001b[0;34m\u001b[0m\u001b[0;34m\u001b[0m\u001b[0m\n",
      "\u001b[0;32m/usr/local/lib/python3.7/site-packages/sklearn/base.py\u001b[0m in \u001b[0;36mfit_transform\u001b[0;34m(self, X, y, **fit_params)\u001b[0m\n\u001b[1;32m    569\u001b[0m         \u001b[0;32mif\u001b[0m \u001b[0my\u001b[0m \u001b[0;32mis\u001b[0m \u001b[0;32mNone\u001b[0m\u001b[0;34m:\u001b[0m\u001b[0;34m\u001b[0m\u001b[0;34m\u001b[0m\u001b[0m\n\u001b[1;32m    570\u001b[0m             \u001b[0;31m# fit method of arity 1 (unsupervised transformation)\u001b[0m\u001b[0;34m\u001b[0m\u001b[0;34m\u001b[0m\u001b[0;34m\u001b[0m\u001b[0m\n\u001b[0;32m--> 571\u001b[0;31m             \u001b[0;32mreturn\u001b[0m \u001b[0mself\u001b[0m\u001b[0;34m.\u001b[0m\u001b[0mfit\u001b[0m\u001b[0;34m(\u001b[0m\u001b[0mX\u001b[0m\u001b[0;34m,\u001b[0m \u001b[0;34m**\u001b[0m\u001b[0mfit_params\u001b[0m\u001b[0;34m)\u001b[0m\u001b[0;34m.\u001b[0m\u001b[0mtransform\u001b[0m\u001b[0;34m(\u001b[0m\u001b[0mX\u001b[0m\u001b[0;34m)\u001b[0m\u001b[0;34m\u001b[0m\u001b[0;34m\u001b[0m\u001b[0m\n\u001b[0m\u001b[1;32m    572\u001b[0m         \u001b[0;32melse\u001b[0m\u001b[0;34m:\u001b[0m\u001b[0;34m\u001b[0m\u001b[0;34m\u001b[0m\u001b[0m\n\u001b[1;32m    573\u001b[0m             \u001b[0;31m# fit method of arity 2 (supervised transformation)\u001b[0m\u001b[0;34m\u001b[0m\u001b[0;34m\u001b[0m\u001b[0;34m\u001b[0m\u001b[0m\n",
      "\u001b[0;32m/usr/local/lib/python3.7/site-packages/sklearn/preprocessing/_data.py\u001b[0m in \u001b[0;36mfit\u001b[0;34m(self, X, y)\u001b[0m\n\u001b[1;32m    667\u001b[0m         \u001b[0;31m# Reset internal state before fitting\u001b[0m\u001b[0;34m\u001b[0m\u001b[0;34m\u001b[0m\u001b[0;34m\u001b[0m\u001b[0m\n\u001b[1;32m    668\u001b[0m         \u001b[0mself\u001b[0m\u001b[0;34m.\u001b[0m\u001b[0m_reset\u001b[0m\u001b[0;34m(\u001b[0m\u001b[0;34m)\u001b[0m\u001b[0;34m\u001b[0m\u001b[0;34m\u001b[0m\u001b[0m\n\u001b[0;32m--> 669\u001b[0;31m         \u001b[0;32mreturn\u001b[0m \u001b[0mself\u001b[0m\u001b[0;34m.\u001b[0m\u001b[0mpartial_fit\u001b[0m\u001b[0;34m(\u001b[0m\u001b[0mX\u001b[0m\u001b[0;34m,\u001b[0m \u001b[0my\u001b[0m\u001b[0;34m)\u001b[0m\u001b[0;34m\u001b[0m\u001b[0;34m\u001b[0m\u001b[0m\n\u001b[0m\u001b[1;32m    670\u001b[0m \u001b[0;34m\u001b[0m\u001b[0m\n\u001b[1;32m    671\u001b[0m     \u001b[0;32mdef\u001b[0m \u001b[0mpartial_fit\u001b[0m\u001b[0;34m(\u001b[0m\u001b[0mself\u001b[0m\u001b[0;34m,\u001b[0m \u001b[0mX\u001b[0m\u001b[0;34m,\u001b[0m \u001b[0my\u001b[0m\u001b[0;34m=\u001b[0m\u001b[0;32mNone\u001b[0m\u001b[0;34m)\u001b[0m\u001b[0;34m:\u001b[0m\u001b[0;34m\u001b[0m\u001b[0;34m\u001b[0m\u001b[0m\n",
      "\u001b[0;32m/usr/local/lib/python3.7/site-packages/sklearn/preprocessing/_data.py\u001b[0m in \u001b[0;36mpartial_fit\u001b[0;34m(self, X, y)\u001b[0m\n\u001b[1;32m    698\u001b[0m         X = check_array(X, accept_sparse=('csr', 'csc'),\n\u001b[1;32m    699\u001b[0m                         \u001b[0mestimator\u001b[0m\u001b[0;34m=\u001b[0m\u001b[0mself\u001b[0m\u001b[0;34m,\u001b[0m \u001b[0mdtype\u001b[0m\u001b[0;34m=\u001b[0m\u001b[0mFLOAT_DTYPES\u001b[0m\u001b[0;34m,\u001b[0m\u001b[0;34m\u001b[0m\u001b[0;34m\u001b[0m\u001b[0m\n\u001b[0;32m--> 700\u001b[0;31m                         force_all_finite='allow-nan')\n\u001b[0m\u001b[1;32m    701\u001b[0m \u001b[0;34m\u001b[0m\u001b[0m\n\u001b[1;32m    702\u001b[0m         \u001b[0;31m# Even in the case of `with_mean=False`, we update the mean anyway\u001b[0m\u001b[0;34m\u001b[0m\u001b[0;34m\u001b[0m\u001b[0;34m\u001b[0m\u001b[0m\n",
      "\u001b[0;32m/usr/local/lib/python3.7/site-packages/sklearn/utils/validation.py\u001b[0m in \u001b[0;36mcheck_array\u001b[0;34m(array, accept_sparse, accept_large_sparse, dtype, order, copy, force_all_finite, ensure_2d, allow_nd, ensure_min_samples, ensure_min_features, warn_on_dtype, estimator)\u001b[0m\n\u001b[1;32m    568\u001b[0m                              \u001b[0;34m\" minimum of %d is required%s.\"\u001b[0m\u001b[0;34m\u001b[0m\u001b[0;34m\u001b[0m\u001b[0m\n\u001b[1;32m    569\u001b[0m                              % (n_samples, array.shape, ensure_min_samples,\n\u001b[0;32m--> 570\u001b[0;31m                                 context))\n\u001b[0m\u001b[1;32m    571\u001b[0m \u001b[0;34m\u001b[0m\u001b[0m\n\u001b[1;32m    572\u001b[0m     \u001b[0;32mif\u001b[0m \u001b[0mensure_min_features\u001b[0m \u001b[0;34m>\u001b[0m \u001b[0;36m0\u001b[0m \u001b[0;32mand\u001b[0m \u001b[0marray\u001b[0m\u001b[0;34m.\u001b[0m\u001b[0mndim\u001b[0m \u001b[0;34m==\u001b[0m \u001b[0;36m2\u001b[0m\u001b[0;34m:\u001b[0m\u001b[0;34m\u001b[0m\u001b[0;34m\u001b[0m\u001b[0m\n",
      "\u001b[0;31mValueError\u001b[0m: Found array with 0 sample(s) (shape=(0, 10)) while a minimum of 1 is required by StandardScaler."
     ]
    }
   ],
   "source": [
    "\n",
    "# Some useful literature about scaling data\n",
    "# http://benalexkeen.com/feature-scaling-with-scikit-learn/\n",
    "# https://www.kaggle.com/discdiver/guide-to-scaling-and-standardizing\n",
    "# https://becominghuman.ai/demystifying-feature-scaling-baff53e9b3fd\n",
    "\n",
    "s_scaler = preprocessing.StandardScaler()\n",
    "\n",
    "diamonds_z_scaler = s_scaler.fit_transform(diamonds_z)\n",
    "\n",
    "diamonds_z_scaler = pd.DataFrame(diamonds_z_scaler, columns=column_names)\n",
    "\n",
    "diamonds_z_scaler\n",
    "\n",
    "fig, (ax1) = plt.subplots(ncols=1, figsize=(10, 8))\n",
    "\n",
    "ax1.set_title('After StandardScaler')\n",
    "\n",
    "sns.kdeplot(diamonds_z_scaler['carat'], ax=ax1)\n",
    "sns.kdeplot(diamonds_z_scaler['depth'], ax=ax1)\n",
    "sns.kdeplot(diamonds_z_scaler['x'], ax=ax1)\n",
    "sns.kdeplot(diamonds_z_scaler['y'], ax=ax1)\n",
    "sns.kdeplot(diamonds_z_scaler['z'], ax=ax1)"
   ]
  },
  {
   "cell_type": "code",
   "execution_count": null,
   "metadata": {},
   "outputs": [],
   "source": [
    "diamonds_z_scaler.mean()\n",
    "\n",
    "#not sure why StandardScaler converts data into negative values!!!"
   ]
  },
  {
   "cell_type": "code",
   "execution_count": null,
   "metadata": {},
   "outputs": [],
   "source": [
    "#trying with normalizing\n",
    "\n",
    "s_scaler = preprocessing.StandardScaler()\n",
    "\n",
    "diamonds_z_scaler_norm = s_scaler.fit_transform(diamonds_z)\n",
    "\n",
    "diamonds_z_scaler_norm = pd.DataFrame(diamonds_z_scaler_norm, columns=column_names)\n",
    "\n",
    "diamonds_z_scaler_norm\n",
    "\n",
    "fig, (ax1) = plt.subplots(ncols=1, figsize=(10, 8))\n",
    "\n",
    "ax1.set_title('After Normalizer')\n",
    "\n",
    "sns.kdeplot(diamonds_z_scaler_norm['carat'], ax=ax1)\n",
    "sns.kdeplot(diamonds_z_scaler_norm['depth'], ax=ax1)\n",
    "sns.kdeplot(diamonds_z_scaler_norm['x'], ax=ax1)\n",
    "sns.kdeplot(diamonds_z_scaler_norm['y'], ax=ax1)\n",
    "sns.kdeplot(diamonds_z_scaler_norm['z'], ax=ax1)\n"
   ]
  },
  {
   "cell_type": "code",
   "execution_count": null,
   "metadata": {},
   "outputs": [],
   "source": [
    "diamonds_z_scaler_norm.mean()\n",
    "#again normalizer also converts average into negative and I dont know this is the case!!!"
   ]
  },
  {
   "cell_type": "code",
   "execution_count": null,
   "metadata": {},
   "outputs": [],
   "source": [
    "#trying with minmax\n",
    "\n",
    "mm_scaler = preprocessing.MinMaxScaler()\n",
    "\n",
    "diamonds_z_scaler_mm= mm_scaler.fit_transform(diamonds_z)\n",
    "\n",
    "diamonds_z_scaler_mm = pd.DataFrame(diamonds_z_scaler_mm, columns=column_names)\n",
    "\n",
    "fig, (ax1) = plt.subplots(ncols=1, figsize=(10, 8))\n",
    "\n",
    "ax1.set_title('After MinMaxScaler')\n",
    "\n",
    "sns.kdeplot(diamonds_z_scaler_mm['carat'], ax=ax1)\n",
    "sns.kdeplot(diamonds_z_scaler_mm['depth'], ax=ax1)\n",
    "sns.kdeplot(diamonds_z_scaler_mm['x'], ax=ax1)\n",
    "sns.kdeplot(diamonds_z_scaler_mm['y'], ax=ax1)\n",
    "sns.kdeplot(diamonds_z_scaler_mm['z'], ax=ax1)\n"
   ]
  },
  {
   "cell_type": "code",
   "execution_count": null,
   "metadata": {},
   "outputs": [],
   "source": [
    "#try to check parameters to apply to each feature from minmax scaler\n",
    "\n",
    "mm_scaler = preprocessing.MinMaxScaler()\n",
    "print(mm_scaler)"
   ]
  },
  {
   "cell_type": "code",
   "execution_count": null,
   "metadata": {},
   "outputs": [],
   "source": [
    "diamonds_z_scaler_mm = pd.DataFrame(diamonds_z_scaler_mm, columns=column_names)\n",
    "diamonds_z_scaler_mm"
   ]
  },
  {
   "cell_type": "code",
   "execution_count": null,
   "metadata": {},
   "outputs": [],
   "source": [
    "diamonds_z_scaler_mm.mean()\n",
    "\n",
    "#looks like this could be the best method for scaling since is not converting the mean in negative numbers"
   ]
  },
  {
   "cell_type": "code",
   "execution_count": null,
   "metadata": {},
   "outputs": [],
   "source": [
    "# check correlation between price and rest of variables \n",
    "corr_matrix= diamonds_z_scaler_mm.corr()\n",
    "upper = corr_matrix.where(np.triu(np.ones(corr_matrix.shape), k=1).astype(np.bool))\n",
    "plt.figure (figsize= (8,6))\n",
    "#sns.heatmap(upper,annot=True)\n",
    "sns.heatmap(corr_matrix, annot=True)\n",
    "\n",
    "# from correlation analysis depth, clarity, color and cut have the lowest correlation with price\n",
    "# z, y, x and carat have the highest correlation with price, being carat the most correlated\n"
   ]
  },
  {
   "cell_type": "code",
   "execution_count": null,
   "metadata": {},
   "outputs": [],
   "source": [
    "diamonds_z_scaler_mm['volumen']=diamonds_z_scaler_mm['x']*diamonds_z_scaler_mm['y']*diamonds_z_scaler_mm['z']"
   ]
  },
  {
   "cell_type": "code",
   "execution_count": null,
   "metadata": {},
   "outputs": [],
   "source": [
    "#diamonds_z_scaler_mm"
   ]
  },
  {
   "cell_type": "code",
   "execution_count": null,
   "metadata": {},
   "outputs": [],
   "source": [
    "diamonds_z_scaler_mm"
   ]
  },
  {
   "cell_type": "code",
   "execution_count": null,
   "metadata": {},
   "outputs": [],
   "source": [
    "corr_matrix= diamonds_z_scaler_mm.corr()\n",
    "upper = corr_matrix.where(np.triu(np.ones(corr_matrix.shape), k=1).astype(np.bool))\n",
    "plt.figure (figsize= (8,6))\n",
    "#sns.heatmap(upper,annot=True)\n",
    "sns.heatmap(corr_matrix, annot=True)"
   ]
  },
  {
   "cell_type": "code",
   "execution_count": null,
   "metadata": {},
   "outputs": [],
   "source": [
    "# dropping x,y,z and taking volumen as a function of the three, removed table, removing depth\n"
   ]
  },
  {
   "cell_type": "code",
   "execution_count": null,
   "metadata": {},
   "outputs": [],
   "source": [
    "diamonds_z_scaler_mm_drop=diamonds_z_scaler_mm.drop(['depth','x', 'y', 'z'], axis=1)\n",
    "diamonds_z_scaler_mm_drop.columns\n",
    "diamonds_z_scaler_mm_drop.info()"
   ]
  },
  {
   "cell_type": "code",
   "execution_count": null,
   "metadata": {},
   "outputs": [],
   "source": [
    "#train test split\n",
    "\n",
    "X=diamonds_z_scaler_mm_drop.drop(['price'],axis=1)\n",
    "y=diamonds_z_scaler_mm_drop['price']\n",
    "\n",
    "X_train, X_test, y_train, y_test = train_test_split(X,y, test_size=0.2)\n",
    "\n",
    "#dont know why but i see randome_state is 42!"
   ]
  },
  {
   "cell_type": "code",
   "execution_count": null,
   "metadata": {},
   "outputs": [],
   "source": [
    "#ask if need fit and transform OR not!\n",
    "\n",
    "models = {\n",
    "    \"decision_tree\": DecisionTreeRegressor(random_state = 0), #ok\n",
    "    \"forest\": RandomForestRegressor(n_estimators=100), #ok\n",
    "    \"neighbors\": KNeighborsRegressor(n_neighbors=2),#ok\n",
    "    \"gradient boosting\": GradientBoostingRegressor() #ok\n",
    "    \n",
    "}\n",
    "\n",
    "for modelName, model in models.items():\n",
    "    print(f\"Training model: {modelName}\")\n",
    "    model.fit(X_train, y_train)\n",
    "\n"
   ]
  },
  {
   "cell_type": "code",
   "execution_count": null,
   "metadata": {},
   "outputs": [],
   "source": [
    "d = {modelName:model.predict(X_test) for modelName, model in models.items()}\n",
    "\n",
    "df = pd.DataFrame(d)\n",
    "df[\"gt\"] = y_test.reset_index(drop=True)\n",
    "df\n",
    "\n"
   ]
  },
  {
   "cell_type": "code",
   "execution_count": null,
   "metadata": {},
   "outputs": [],
   "source": [
    "#sklearn.metrics.r2_score(y_true, y_pred, sample_weight=None, multioutput='uniform_average')\n",
    "results1=metrics.r2_score(df['gt'], df['decision_tree'])\n",
    "results1\n",
    "print(f' R2 of decision tree is {results1}')"
   ]
  },
  {
   "cell_type": "code",
   "execution_count": null,
   "metadata": {},
   "outputs": [],
   "source": [
    "results2=metrics.mean_squared_error(df['gt'], df['decision_tree'], squared=True)\n",
    "results2\n",
    "print(f' mean square error of decision tree is {results2}')"
   ]
  },
  {
   "cell_type": "code",
   "execution_count": null,
   "metadata": {},
   "outputs": [],
   "source": [
    "results3=metrics.r2_score(df['gt'], df['forest'])\n",
    "results3\n",
    "print(f' R2 of forest is {results3}')"
   ]
  },
  {
   "cell_type": "code",
   "execution_count": null,
   "metadata": {},
   "outputs": [],
   "source": [
    "results4=metrics.mean_squared_error(df['gt'], df['forest'], squared=True)\n",
    "results4\n",
    "print(f' mean square error of forest is {results4}')"
   ]
  },
  {
   "cell_type": "code",
   "execution_count": null,
   "metadata": {},
   "outputs": [],
   "source": [
    "results5=metrics.r2_score(df['gt'], df['neighbors'])\n",
    "results5\n",
    "print(f' R2 of neighbors is {results5}')"
   ]
  },
  {
   "cell_type": "code",
   "execution_count": null,
   "metadata": {},
   "outputs": [],
   "source": [
    "results6=metrics.mean_squared_error(df['gt'], df['neighbors'], squared=True)\n",
    "results6\n",
    "print(f' mean square error of neighbors is {results6}')"
   ]
  },
  {
   "cell_type": "code",
   "execution_count": null,
   "metadata": {},
   "outputs": [],
   "source": [
    "results7=metrics.r2_score(df['gt'], df['gradient boosting'])\n",
    "results7\n",
    "print(f' R2 of gradient is {results7}')"
   ]
  },
  {
   "cell_type": "code",
   "execution_count": null,
   "metadata": {},
   "outputs": [],
   "source": [
    "results8=metrics.mean_squared_error(df['gt'], df['gradient boosting'], squared=True)\n",
    "results8\n",
    "print(f' mean square error of gradient is {results8}')"
   ]
  },
  {
   "cell_type": "code",
   "execution_count": null,
   "metadata": {},
   "outputs": [],
   "source": []
  },
  {
   "cell_type": "code",
   "execution_count": null,
   "metadata": {},
   "outputs": [],
   "source": []
  },
  {
   "cell_type": "code",
   "execution_count": null,
   "metadata": {},
   "outputs": [],
   "source": []
  },
  {
   "cell_type": "code",
   "execution_count": null,
   "metadata": {},
   "outputs": [],
   "source": []
  },
  {
   "cell_type": "code",
   "execution_count": null,
   "metadata": {},
   "outputs": [],
   "source": [
    "#comprobar resultados en archivo test"
   ]
  },
  {
   "cell_type": "code",
   "execution_count": null,
   "metadata": {},
   "outputs": [],
   "source": []
  },
  {
   "cell_type": "code",
   "execution_count": null,
   "metadata": {},
   "outputs": [],
   "source": []
  },
  {
   "cell_type": "code",
   "execution_count": null,
   "metadata": {},
   "outputs": [],
   "source": []
  },
  {
   "cell_type": "code",
   "execution_count": null,
   "metadata": {},
   "outputs": [],
   "source": []
  },
  {
   "cell_type": "code",
   "execution_count": null,
   "metadata": {},
   "outputs": [],
   "source": [
    "diamonds_test=pd.read_csv(\"../input/test.csv\")\n",
    "diamonds_test.columns"
   ]
  },
  {
   "cell_type": "code",
   "execution_count": null,
   "metadata": {},
   "outputs": [],
   "source": [
    "diamonds_test=diamonds_test.drop(['id'], axis=1)\n",
    "display(diamonds_test.head(10))"
   ]
  },
  {
   "cell_type": "code",
   "execution_count": null,
   "metadata": {},
   "outputs": [],
   "source": [
    "diamonds_test.shape"
   ]
  },
  {
   "cell_type": "code",
   "execution_count": null,
   "metadata": {},
   "outputs": [],
   "source": [
    "\n",
    "def clean_transformed(df):\n",
    "    ''' transforms categorical variables cut, color and clarity, creates new variable volumen and drops x,y,z and \n",
    "        also drops depth , removes outliers with Z-score method. Not working ff there is an id column, it drops it too.\n",
    "    '''\n",
    "    df['cut']=df['cut'].map({'Fair':1,'Good':2,'Ideal':3,'Very Good':4,'Premium':5})\n",
    "    df['color']=df['color'].map({'E':1,'J':2,'D':3,'I':4,'H':5,'F':6,'G':7})\n",
    "    df['clarity']=df['clarity'].map({'I1':1,'SI1':2,'VVS1':3,'SI2':4,'VS2':5,'VS1':6,'VVS2':7,'IF':8})\n",
    "    df['volumen']=df['x']*df['y']*df['z']\n",
    "    df1=df.drop(['x','y','z','depth','table'], axis=1)\n",
    "    return df1\n",
    "    \n",
    "def remove_outliers(df1):\n",
    "    ''' removes outliers using Z-score method\n",
    "    '''\n",
    "    z = np.abs(stats.zscore(df1))\n",
    "    df2=df1[(z<3).all(axis=1)]\n",
    "    return df2\n",
    "    \n",
    "\n",
    "def getscaleMinMaxparams (dfapplytoalldata):\n",
    "    ''' need to find a way to come up with fit and in other function pass parameters'''\n",
    "    \n",
    "\n",
    "def applyscaleMinMax(dfcleantransformed):\n",
    "    '''only works for all data set!! in test data set we must use the same min and max from the entire data'''\n",
    "    column_names= list(dfcleantransformed)\n",
    "    mm_scaler = preprocessing.MinMaxScaler()\n",
    "    df_clean_transformed_outliers_mm= mm_scaler.fit_transform(dfcleantransformed)\n",
    "    df_clean_transformed_outliers_mm = pd.DataFrame(df_clean_transformed_outliers, columns=column_names)\n",
    "    return df_clean_transformed_outliers_mm\n",
    "\n",
    "#def applyMinMax(dftestonly):\n",
    "    "
   ]
  },
  {
   "cell_type": "code",
   "execution_count": null,
   "metadata": {},
   "outputs": [],
   "source": [
    "diamond_test_transformed=clean_transformed(diamonds_test)\n"
   ]
  },
  {
   "cell_type": "code",
   "execution_count": null,
   "metadata": {},
   "outputs": [],
   "source": [
    "diamond_test_transformed.describe()"
   ]
  },
  {
   "cell_type": "code",
   "execution_count": null,
   "metadata": {},
   "outputs": [],
   "source": [
    "z = np.abs(stats.zscore(diamond_test_transformed))\n",
    "print(z)"
   ]
  },
  {
   "cell_type": "code",
   "execution_count": null,
   "metadata": {},
   "outputs": [],
   "source": [
    "df2=diamond_test_transformed[(z<3).all(axis=1)]\n",
    "df2.iloc[12000]"
   ]
  },
  {
   "cell_type": "code",
   "execution_count": null,
   "metadata": {},
   "outputs": [],
   "source": []
  },
  {
   "cell_type": "code",
   "execution_count": null,
   "metadata": {},
   "outputs": [],
   "source": []
  },
  {
   "cell_type": "code",
   "execution_count": null,
   "metadata": {},
   "outputs": [],
   "source": [
    "remove_outliers(clean_transformed(diamonds_test))"
   ]
  },
  {
   "cell_type": "code",
   "execution_count": null,
   "metadata": {},
   "outputs": [],
   "source": []
  },
  {
   "cell_type": "code",
   "execution_count": null,
   "metadata": {},
   "outputs": [],
   "source": [
    "However, if you are doing normalisation, then it is important to \n",
    "know the min and max values of the dataset. The problem now will be then\n",
    "if you do the normalisation on the train and test sets separately,\n",
    "then you may end up with possibly different min - max ranges \n",
    "and your model may not perform as expected.\n",
    "\n",
    "\n",
    "\n",
    "\n",
    "\n",
    "\n"
   ]
  },
  {
   "cell_type": "code",
   "execution_count": null,
   "metadata": {},
   "outputs": [],
   "source": [
    "\n",
    "# no outliers? no estoy \n",
    "# si eliminas columnas en el data "
   ]
  },
  {
   "cell_type": "code",
   "execution_count": null,
   "metadata": {},
   "outputs": [],
   "source": []
  },
  {
   "cell_type": "code",
   "execution_count": null,
   "metadata": {},
   "outputs": [],
   "source": []
  },
  {
   "cell_type": "code",
   "execution_count": null,
   "metadata": {},
   "outputs": [],
   "source": []
  },
  {
   "cell_type": "code",
   "execution_count": null,
   "metadata": {},
   "outputs": [],
   "source": [
    "# no sacamos el ground truth pero si el Y_test es nuestro precio"
   ]
  },
  {
   "cell_type": "code",
   "execution_count": null,
   "metadata": {},
   "outputs": [],
   "source": [
    "diamonds['cut']"
   ]
  },
  {
   "cell_type": "code",
   "execution_count": null,
   "metadata": {},
   "outputs": [],
   "source": []
  }
 ],
 "metadata": {
  "kernelspec": {
   "display_name": "Python 3",
   "language": "python",
   "name": "python3"
  },
  "language_info": {
   "codemirror_mode": {
    "name": "ipython",
    "version": 3
   },
   "file_extension": ".py",
   "mimetype": "text/x-python",
   "name": "python",
   "nbconvert_exporter": "python",
   "pygments_lexer": "ipython3",
   "version": "3.7.5"
  }
 },
 "nbformat": 4,
 "nbformat_minor": 2
}
